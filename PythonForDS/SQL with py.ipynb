{
 "cells": [
  {
   "cell_type": "code",
   "execution_count": 1,
   "id": "cf1e28aa-d476-4337-bbdd-d0c58ea94c97",
   "metadata": {},
   "outputs": [
    {
     "name": "stdout",
     "output_type": "stream",
     "text": [
      "Defaulting to user installation because normal site-packages is not writeable\n",
      "Requirement already satisfied: mysql-connector-python in /home/ducati/.local/lib/python3.11/site-packages (8.0.33)\n",
      "Requirement already satisfied: protobuf<=3.20.3,>=3.11.0 in /home/ducati/.local/lib/python3.11/site-packages (from mysql-connector-python) (3.20.3)\n"
     ]
    }
   ],
   "source": [
    "!pip install mysql-connector-python"
   ]
  },
  {
   "cell_type": "code",
   "execution_count": 2,
   "id": "1dfd1b43-dbda-49e1-a53e-32613f0bb8a9",
   "metadata": {},
   "outputs": [
    {
     "name": "stdout",
     "output_type": "stream",
     "text": [
      "<mysql.connector.connection_cext.CMySQLConnection object at 0x7f9fc8f4be10>\n"
     ]
    }
   ],
   "source": [
    "import mysql.connector\n",
    "mydb = mysql.connector.connect(\n",
    "  host=\"localhost\",\n",
    "  user=\"root\",\n",
    "  password=\"\",\n",
    "  #database='joins'\n",
    "  \n",
    ")\n",
    "\n",
    "print(mydb)\n",
    "mycursor = mydb.cursor(buffered=True)"
   ]
  },
  {
   "cell_type": "code",
   "execution_count": 3,
   "id": "f57df312-6340-4b47-91b1-11f17e0bb455",
   "metadata": {},
   "outputs": [
    {
     "name": "stdout",
     "output_type": "stream",
     "text": [
      "('School',)\n",
      "('information_schema',)\n",
      "('mysql',)\n",
      "('performance_schema',)\n",
      "('phpmyadmin',)\n",
      "('test',)\n"
     ]
    }
   ],
   "source": [
    "mycursor.execute(\"SHOW DATABASES\")\n",
    "\n",
    "for x in mycursor:\n",
    "  print(x)\n",
    "\n",
    "#Show all existing db"
   ]
  },
  {
   "cell_type": "code",
   "execution_count": 4,
   "id": "7a698499-3561-4a41-8a61-14df5eadfd18",
   "metadata": {},
   "outputs": [],
   "source": [
    "mycursor.execute(\"CREATE DATABASE newdatabase\")\n"
   ]
  },
  {
   "cell_type": "code",
   "execution_count": 5,
   "id": "f517450a-48e6-43ff-a2db-e06e22cf1fbc",
   "metadata": {},
   "outputs": [
    {
     "name": "stdout",
     "output_type": "stream",
     "text": [
      "('School',)\n",
      "('information_schema',)\n",
      "('mysql',)\n",
      "('newdatabase',)\n",
      "('performance_schema',)\n",
      "('phpmyadmin',)\n",
      "('test',)\n"
     ]
    }
   ],
   "source": [
    "mycursor.execute(\"SHOW DATABASES\")\n",
    "\n",
    "for x in mycursor:\n",
    "  print(x)"
   ]
  },
  {
   "cell_type": "code",
   "execution_count": 6,
   "id": "1a008046-3eca-4865-b4cb-95faa713af40",
   "metadata": {},
   "outputs": [],
   "source": [
    "mycursor.execute(\"DROP DATABASE newdatabase\")"
   ]
  },
  {
   "cell_type": "code",
   "execution_count": 7,
   "id": "956b6baf-2191-49d3-b986-1ef0b4e8ff34",
   "metadata": {},
   "outputs": [
    {
     "name": "stdout",
     "output_type": "stream",
     "text": [
      "('School',)\n",
      "('information_schema',)\n",
      "('mysql',)\n",
      "('performance_schema',)\n",
      "('phpmyadmin',)\n",
      "('test',)\n"
     ]
    }
   ],
   "source": [
    "mycursor.execute(\"SHOW DATABASES\")\n",
    "\n",
    "for x in mycursor:\n",
    "  print(x)"
   ]
  },
  {
   "cell_type": "code",
   "execution_count": 8,
   "id": "8a0cd96e-0259-491a-bf23-c34f8989e826",
   "metadata": {},
   "outputs": [],
   "source": [
    "mycursor.execute(\"USE School\")# to use or edit with particular database"
   ]
  },
  {
   "cell_type": "code",
   "execution_count": 9,
   "id": "3e87c2bf-b4d3-450d-9ac9-10ec363ac431",
   "metadata": {},
   "outputs": [
    {
     "ename": "ProgrammingError",
     "evalue": "1050 (42S01): Table 'lucky' already exists",
     "output_type": "error",
     "traceback": [
      "\u001b[0;31m---------------------------------------------------------------------------\u001b[0m",
      "\u001b[0;31mMySQLInterfaceError\u001b[0m                       Traceback (most recent call last)",
      "File \u001b[0;32m~/.local/lib/python3.11/site-packages/mysql/connector/connection_cext.py:611\u001b[0m, in \u001b[0;36mCMySQLConnection.cmd_query\u001b[0;34m(self, query, raw, buffered, raw_as_string)\u001b[0m\n\u001b[1;32m    610\u001b[0m         query \u001b[38;5;241m=\u001b[39m query\u001b[38;5;241m.\u001b[39mencode(\u001b[38;5;124m\"\u001b[39m\u001b[38;5;124mutf-8\u001b[39m\u001b[38;5;124m\"\u001b[39m)\n\u001b[0;32m--> 611\u001b[0m     \u001b[38;5;28;43mself\u001b[39;49m\u001b[38;5;241;43m.\u001b[39;49m\u001b[43m_cmysql\u001b[49m\u001b[38;5;241;43m.\u001b[39;49m\u001b[43mquery\u001b[49m\u001b[43m(\u001b[49m\n\u001b[1;32m    612\u001b[0m \u001b[43m        \u001b[49m\u001b[43mquery\u001b[49m\u001b[43m,\u001b[49m\n\u001b[1;32m    613\u001b[0m \u001b[43m        \u001b[49m\u001b[43mraw\u001b[49m\u001b[38;5;241;43m=\u001b[39;49m\u001b[43mraw\u001b[49m\u001b[43m,\u001b[49m\n\u001b[1;32m    614\u001b[0m \u001b[43m        \u001b[49m\u001b[43mbuffered\u001b[49m\u001b[38;5;241;43m=\u001b[39;49m\u001b[43mbuffered\u001b[49m\u001b[43m,\u001b[49m\n\u001b[1;32m    615\u001b[0m \u001b[43m        \u001b[49m\u001b[43mraw_as_string\u001b[49m\u001b[38;5;241;43m=\u001b[39;49m\u001b[43mraw_as_string\u001b[49m\u001b[43m,\u001b[49m\n\u001b[1;32m    616\u001b[0m \u001b[43m        \u001b[49m\u001b[43mquery_attrs\u001b[49m\u001b[38;5;241;43m=\u001b[39;49m\u001b[38;5;28;43mself\u001b[39;49m\u001b[38;5;241;43m.\u001b[39;49m\u001b[43m_query_attrs\u001b[49m\u001b[43m,\u001b[49m\n\u001b[1;32m    617\u001b[0m \u001b[43m    \u001b[49m\u001b[43m)\u001b[49m\n\u001b[1;32m    618\u001b[0m \u001b[38;5;28;01mexcept\u001b[39;00m MySQLInterfaceError \u001b[38;5;28;01mas\u001b[39;00m err:\n",
      "\u001b[0;31mMySQLInterfaceError\u001b[0m: Table 'lucky' already exists",
      "\nThe above exception was the direct cause of the following exception:\n",
      "\u001b[0;31mProgrammingError\u001b[0m                          Traceback (most recent call last)",
      "Cell \u001b[0;32mIn[9], line 1\u001b[0m\n\u001b[0;32m----> 1\u001b[0m \u001b[43mmycursor\u001b[49m\u001b[38;5;241;43m.\u001b[39;49m\u001b[43mexecute\u001b[49m\u001b[43m(\u001b[49m\u001b[38;5;124;43m\"\u001b[39;49m\u001b[38;5;124;43mCREATE TABLE lucky (salary INT(6),weight DECIMAL(5,3),insurance BOOLEAN)\u001b[39;49m\u001b[38;5;124;43m\"\u001b[39;49m\u001b[43m)\u001b[49m\n\u001b[1;32m      2\u001b[0m mydb\u001b[38;5;241m.\u001b[39mcommit()\n",
      "File \u001b[0;32m~/.local/lib/python3.11/site-packages/mysql/connector/cursor_cext.py:330\u001b[0m, in \u001b[0;36mCMySQLCursor.execute\u001b[0;34m(self, operation, params, multi)\u001b[0m\n\u001b[1;32m    325\u001b[0m             \u001b[38;5;28;01mraise\u001b[39;00m ProgrammingError(\n\u001b[1;32m    326\u001b[0m                 \u001b[38;5;124m\"\u001b[39m\u001b[38;5;124mNot all parameters were used in the SQL statement\u001b[39m\u001b[38;5;124m\"\u001b[39m\n\u001b[1;32m    327\u001b[0m             )\n\u001b[1;32m    329\u001b[0m \u001b[38;5;28;01mtry\u001b[39;00m:\n\u001b[0;32m--> 330\u001b[0m     result \u001b[38;5;241m=\u001b[39m \u001b[38;5;28;43mself\u001b[39;49m\u001b[38;5;241;43m.\u001b[39;49m\u001b[43m_cnx\u001b[49m\u001b[38;5;241;43m.\u001b[39;49m\u001b[43mcmd_query\u001b[49m\u001b[43m(\u001b[49m\n\u001b[1;32m    331\u001b[0m \u001b[43m        \u001b[49m\u001b[43mstmt\u001b[49m\u001b[43m,\u001b[49m\n\u001b[1;32m    332\u001b[0m \u001b[43m        \u001b[49m\u001b[43mraw\u001b[49m\u001b[38;5;241;43m=\u001b[39;49m\u001b[38;5;28;43mself\u001b[39;49m\u001b[38;5;241;43m.\u001b[39;49m\u001b[43m_raw\u001b[49m\u001b[43m,\u001b[49m\n\u001b[1;32m    333\u001b[0m \u001b[43m        \u001b[49m\u001b[43mbuffered\u001b[49m\u001b[38;5;241;43m=\u001b[39;49m\u001b[38;5;28;43mself\u001b[39;49m\u001b[38;5;241;43m.\u001b[39;49m\u001b[43m_buffered\u001b[49m\u001b[43m,\u001b[49m\n\u001b[1;32m    334\u001b[0m \u001b[43m        \u001b[49m\u001b[43mraw_as_string\u001b[49m\u001b[38;5;241;43m=\u001b[39;49m\u001b[38;5;28;43mself\u001b[39;49m\u001b[38;5;241;43m.\u001b[39;49m\u001b[43m_raw_as_string\u001b[49m\u001b[43m,\u001b[49m\n\u001b[1;32m    335\u001b[0m \u001b[43m    \u001b[49m\u001b[43m)\u001b[49m\n\u001b[1;32m    336\u001b[0m \u001b[38;5;28;01mexcept\u001b[39;00m MySQLInterfaceError \u001b[38;5;28;01mas\u001b[39;00m err:\n\u001b[1;32m    337\u001b[0m     \u001b[38;5;28;01mraise\u001b[39;00m get_mysql_exception(\n\u001b[1;32m    338\u001b[0m         msg\u001b[38;5;241m=\u001b[39merr\u001b[38;5;241m.\u001b[39mmsg, errno\u001b[38;5;241m=\u001b[39merr\u001b[38;5;241m.\u001b[39merrno, sqlstate\u001b[38;5;241m=\u001b[39merr\u001b[38;5;241m.\u001b[39msqlstate\n\u001b[1;32m    339\u001b[0m     ) \u001b[38;5;28;01mfrom\u001b[39;00m \u001b[38;5;21;01merr\u001b[39;00m\n",
      "File \u001b[0;32m~/.local/lib/python3.11/site-packages/mysql/connector/connection_cext.py:619\u001b[0m, in \u001b[0;36mCMySQLConnection.cmd_query\u001b[0;34m(self, query, raw, buffered, raw_as_string)\u001b[0m\n\u001b[1;32m    611\u001b[0m     \u001b[38;5;28mself\u001b[39m\u001b[38;5;241m.\u001b[39m_cmysql\u001b[38;5;241m.\u001b[39mquery(\n\u001b[1;32m    612\u001b[0m         query,\n\u001b[1;32m    613\u001b[0m         raw\u001b[38;5;241m=\u001b[39mraw,\n\u001b[0;32m   (...)\u001b[0m\n\u001b[1;32m    616\u001b[0m         query_attrs\u001b[38;5;241m=\u001b[39m\u001b[38;5;28mself\u001b[39m\u001b[38;5;241m.\u001b[39m_query_attrs,\n\u001b[1;32m    617\u001b[0m     )\n\u001b[1;32m    618\u001b[0m \u001b[38;5;28;01mexcept\u001b[39;00m MySQLInterfaceError \u001b[38;5;28;01mas\u001b[39;00m err:\n\u001b[0;32m--> 619\u001b[0m     \u001b[38;5;28;01mraise\u001b[39;00m get_mysql_exception(\n\u001b[1;32m    620\u001b[0m         err\u001b[38;5;241m.\u001b[39merrno, msg\u001b[38;5;241m=\u001b[39merr\u001b[38;5;241m.\u001b[39mmsg, sqlstate\u001b[38;5;241m=\u001b[39merr\u001b[38;5;241m.\u001b[39msqlstate\n\u001b[1;32m    621\u001b[0m     ) \u001b[38;5;28;01mfrom\u001b[39;00m \u001b[38;5;21;01merr\u001b[39;00m\n\u001b[1;32m    622\u001b[0m \u001b[38;5;28;01mexcept\u001b[39;00m \u001b[38;5;167;01mAttributeError\u001b[39;00m \u001b[38;5;28;01mas\u001b[39;00m err:\n\u001b[1;32m    623\u001b[0m     addr \u001b[38;5;241m=\u001b[39m (\n\u001b[1;32m    624\u001b[0m         \u001b[38;5;28mself\u001b[39m\u001b[38;5;241m.\u001b[39m_unix_socket \u001b[38;5;28;01mif\u001b[39;00m \u001b[38;5;28mself\u001b[39m\u001b[38;5;241m.\u001b[39m_unix_socket \u001b[38;5;28;01melse\u001b[39;00m \u001b[38;5;124mf\u001b[39m\u001b[38;5;124m\"\u001b[39m\u001b[38;5;132;01m{\u001b[39;00m\u001b[38;5;28mself\u001b[39m\u001b[38;5;241m.\u001b[39m_host\u001b[38;5;132;01m}\u001b[39;00m\u001b[38;5;124m:\u001b[39m\u001b[38;5;132;01m{\u001b[39;00m\u001b[38;5;28mself\u001b[39m\u001b[38;5;241m.\u001b[39m_port\u001b[38;5;132;01m}\u001b[39;00m\u001b[38;5;124m\"\u001b[39m\n\u001b[1;32m    625\u001b[0m     )\n",
      "\u001b[0;31mProgrammingError\u001b[0m: 1050 (42S01): Table 'lucky' already exists"
     ]
    }
   ],
   "source": [
    "mycursor.execute(\"CREATE TABLE lucky (salary INT(6),weight DECIMAL(5,3),insurance BOOLEAN)\")\n",
    "mydb.commit()"
   ]
  },
  {
   "cell_type": "code",
   "execution_count": null,
   "id": "0750444a-c269-477e-95e6-dc637b8088fa",
   "metadata": {},
   "outputs": [],
   "source": [
    "mycursor.execute(\"SHOW TABLES FROM School\")\n",
    "\n",
    "for x in mycursor:\n",
    "  print(x)"
   ]
  },
  {
   "cell_type": "code",
   "execution_count": null,
   "id": "dd156a02-2052-44a5-a31a-e9cbbc03baf8",
   "metadata": {},
   "outputs": [],
   "source": [
    "mycursor.execute(\"USE School\")"
   ]
  },
  {
   "cell_type": "code",
   "execution_count": null,
   "id": "6de63c03-f6e3-4754-8f8a-5ef08deff337",
   "metadata": {},
   "outputs": [],
   "source": [
    "mycursor.execute(\"SHOW DATABASES\")\n",
    "for x in mycursor:\n",
    "  print(x)"
   ]
  },
  {
   "cell_type": "code",
   "execution_count": null,
   "id": "55591f25-231c-411f-bfe2-39af2bc59b43",
   "metadata": {},
   "outputs": [],
   "source": [
    "mycursor.execute(\"INSERT INTO lucky (salary,weight, insurance) VALUES (20000, 43.2,1)\")\n",
    "mydb.commit()"
   ]
  },
  {
   "cell_type": "code",
   "execution_count": null,
   "id": "65a413d8-0dad-4a68-a65a-e195290de19b",
   "metadata": {},
   "outputs": [],
   "source": [
    "mycursor.execute(\"INSERT INTO lucky (weight,salary) VALUES (55.000, 43000)\")\n",
    "mydb.commit()"
   ]
  },
  {
   "cell_type": "code",
   "execution_count": null,
   "id": "781ddc87-c062-438c-9812-2c130310bdc6",
   "metadata": {},
   "outputs": [],
   "source": [
    "mycursor.execute(\"INSERT INTO lucky() VALUES ()\")\n",
    "mydb.commit()"
   ]
  },
  {
   "cell_type": "code",
   "execution_count": null,
   "id": "655a4c69-d4f7-4ed2-b31e-38a27698f785",
   "metadata": {},
   "outputs": [],
   "source": [
    "mycursor.execute(\"ALTER TABLE lucky ADD covid VARCHAR(5) FIRST\")\n",
    "mydb.commit()"
   ]
  },
  {
   "cell_type": "code",
   "execution_count": null,
   "id": "71ec6964-bd6b-4857-a9c7-08151d715d2e",
   "metadata": {},
   "outputs": [],
   "source": [
    "mycursor.execute(\"ALTER TABLE lucky ADD height VARCHAR(5)\")\n",
    "mydb.commit()"
   ]
  },
  {
   "cell_type": "code",
   "execution_count": null,
   "id": "19e59bdf-bec0-4be1-a2ae-34fbb76cea57",
   "metadata": {},
   "outputs": [],
   "source": [
    "mycursor.execute(\"ALTER TABLE lucky ADD covid_status VARCHAR(5) AFTER covid\")\n",
    "mydb.commit()"
   ]
  },
  {
   "cell_type": "code",
   "execution_count": null,
   "id": "7368215b-cdf8-4482-b634-ea71003d6491",
   "metadata": {},
   "outputs": [],
   "source": [
    "mycursor.execute(\"ALTER TABLE lucky DROP covid_status\")\n",
    "mydb.commit()"
   ]
  },
  {
   "cell_type": "code",
   "execution_count": null,
   "id": "76e490f8-89d6-414c-b0f8-b7d9673a5ee2",
   "metadata": {},
   "outputs": [],
   "source": [
    "mycursor.execute(\"ALTER TABLE lucky MODIFY height INT \")\n",
    "mydb.commit()"
   ]
  },
  {
   "cell_type": "code",
   "execution_count": null,
   "id": "05e09bb3-1c97-447e-9028-fe85d44b4578",
   "metadata": {},
   "outputs": [],
   "source": [
    "mycursor.execute(\"DELETE FROM lucky Where height='fds'\")\n",
    "mydb.commit()"
   ]
  },
  {
   "cell_type": "code",
   "execution_count": null,
   "id": "d87e4efe-beed-4501-855b-cc5e8e9b4db0",
   "metadata": {},
   "outputs": [],
   "source": [
    "mycursor.execute(\"TRUNCATE lucky\")\n",
    "mydb.commit()"
   ]
  },
  {
   "cell_type": "code",
   "execution_count": null,
   "id": "0f9aa3fc-06da-462a-b3a8-ba0e6399ab76",
   "metadata": {},
   "outputs": [],
   "source": [
    "mycursor.execute(\"CREATE TABLE date (datein DATE)\")\n",
    "#mycursor.execute(\"INSERT INTO date (datein) VALUES ( CURDATE())\")"
   ]
  },
  {
   "cell_type": "code",
   "execution_count": null,
   "id": "64722e27-2e1a-4d63-8ebe-56b3577110fd",
   "metadata": {},
   "outputs": [],
   "source": [
    "mycursor.execute(\"INSERT INTO date (datein) VALUES ( CURDATE())\")\n",
    "mycursor.execute(\"INSERT INTO date (datein) VALUES ( CURRENT_DATE())\")\n",
    "mycursor.execute(\"INSERT INTO date (datein) VALUES (CURTIME())\")\n",
    "mycursor.execute(\"INSERT INTO date (datein) VALUES (CURRENT_TIMESTAMP())\")\n",
    "mycursor.execute(\"INSERT INTO date (datein) VALUES (CURRENT_TIME())\")\n",
    "mycursor.execute(\"INSERT INTO date (datein) VALUES (NOW())\")\n",
    "mydb.commit()"
   ]
  },
  {
   "cell_type": "code",
   "execution_count": null,
   "id": "a3f9a453-dcc8-4f51-bc57-b2dcc619a10c",
   "metadata": {},
   "outputs": [],
   "source": [
    "mycursor.execute(\"CREATE TABLE datestrin (datein VARCHAR(255))\")"
   ]
  },
  {
   "cell_type": "code",
   "execution_count": null,
   "id": "8be0d01d-873f-49f4-bb14-36384d7d4ef8",
   "metadata": {},
   "outputs": [],
   "source": [
    "mycursor.execute(\"INSERT INTO datestrin (datein) VALUES ( CURDATE())\")\n",
    "mycursor.execute(\"INSERT INTO datestrin (datein) VALUES ( CURRENT_DATE())\")\n",
    "mycursor.execute(\"INSERT INTO datestrin (datein) VALUES (CURTIME())\")\n",
    "mycursor.execute(\"INSERT INTO datestrin (datein) VALUES (CURRENT_TIMESTAMP())\")\n",
    "mycursor.execute(\"INSERT INTO datestrin (datein) VALUES (CURRENT_TIME())\")\n",
    "mycursor.execute(\"INSERT INTO datestrin (datein) VALUES (NOW())\")#date and time\n",
    "mycursor.execute(\"INSERT INTO datestrin (datein) VALUES (MONTHNAME(NOW()))\")\n",
    "mycursor.execute(\"INSERT INTO datestrin (datein) VALUES (DAYNAME(NOW()))\")\n",
    "mycursor.execute(\"INSERT INTO datestrin (datein) VALUES (HOUR(NOW()))\")\n",
    "mycursor.execute(\"INSERT INTO datestrin (datein) VALUES (MINUTE(NOW()))\")\n",
    "mycursor.execute(\"INSERT INTO datestrin (datein) VALUES (DATE_ADD(NOW(),INTERVAL -10 DAY))\")\n",
    "mycursor.execute(\"INSERT INTO datestrin (datein) VALUES (DATE_FORMAT(NOW(),'%W %D %M %Y %T %H'))\")\n",
    "mycursor.execute(\"INSERT INTO datestrin (datein) VALUES (UTC_DATE())\")#UTC_TIME,UTC_TIMESTAMP\n",
    "mydb.commit()"
   ]
  },
  {
   "cell_type": "code",
   "execution_count": null,
   "id": "52eda68b-5b5b-46bd-af49-0bfab1f277ab",
   "metadata": {},
   "outputs": [],
   "source": [
    "mycursor.execute(\"CREATE TABLE blobtest (datein BLOB )\")"
   ]
  },
  {
   "cell_type": "code",
   "execution_count": null,
   "id": "9c967037-8df7-43f0-9cc1-91900db00e85",
   "metadata": {},
   "outputs": [],
   "source": [
    "# Convert images or files data to binary format\n",
    "def convert_data(file_name):\n",
    "    with open(file_name, 'rb') as file:\n",
    "        binary_data = file.read()\n",
    "    return binary_data\n",
    "a=convert_data(\"/home/ducati/Pictures/Screenshot_20230225_162117.png\")\n",
    "#print(a)\n",
    "\n",
    "query=\"\"\"INSERT INTO blobtest (datein) VALUES (%s)\"\"\"\n",
    "mycursor.execute(query,[a])\n",
    "mydb.commit()"
   ]
  },
  {
   "cell_type": "code",
   "execution_count": null,
   "id": "20d831f1-f35e-4ecd-b280-7bccebc365a3",
   "metadata": {},
   "outputs": [],
   "source": [
    "mycursor.execute(\"SELECT * FROM training_datasets_main_diabetes\")\n",
    "out=mycursor.fetchall()\n",
    "from tabulate import tabulate\n",
    "print(tabulate(out,headers=[i[0] for i in mycursor.description],  tablefmt='psql'))"
   ]
  },
  {
   "cell_type": "code",
   "execution_count": null,
   "id": "98c4d413-dd33-458d-8b7e-648c9d194fa3",
   "metadata": {},
   "outputs": [],
   "source": [
    "mycursor.execute(\"SELECT Pregnancies,Glucose FROM training_datasets_main_diabetes WHERE Pregnancies=1\")\n",
    "out=mycursor.fetchall()\n",
    "from tabulate import tabulate\n",
    "print(tabulate(out,headers=[i[0] for i in mycursor.description],  tablefmt='psql'))"
   ]
  },
  {
   "cell_type": "code",
   "execution_count": null,
   "id": "1af6be97-e87f-4c4a-b00d-ea6ffa811d70",
   "metadata": {},
   "outputs": [],
   "source": [
    "mycursor.execute(\"SELECT count(Pregnancies) FROM training_datasets_main_diabetes\")\n",
    "out=mycursor.fetchall()\n",
    "from tabulate import tabulate\n",
    "print(tabulate(out,headers=[i[0] for i in mycursor.description],  tablefmt='psql'))"
   ]
  },
  {
   "cell_type": "code",
   "execution_count": null,
   "id": "89bd0d0c-b388-4fd5-b446-c92e408ecaa8",
   "metadata": {},
   "outputs": [],
   "source": [
    "mycursor.execute(\"SELECT sum(Pregnancies) FROM training_datasets_main_diabetes\")\n",
    "out=mycursor.fetchall()\n",
    "from tabulate import tabulate\n",
    "print(tabulate(out,headers=[i[0] for i in mycursor.description],  tablefmt='psql'))"
   ]
  },
  {
   "cell_type": "code",
   "execution_count": null,
   "id": "b1cd279e-8d09-4ec9-822d-3eca8c4892b6",
   "metadata": {},
   "outputs": [],
   "source": [
    "mycursor.execute(\"SELECT Pregnancies,avg(Age) FROM training_datasets_main_diabetes Where Pregnancies=3\")\n",
    "out=mycursor.fetchall()\n",
    "from tabulate import tabulate\n",
    "print(tabulate(out,headers=[i[0] for i in mycursor.description],  tablefmt='psql'))"
   ]
  },
  {
   "cell_type": "code",
   "execution_count": null,
   "id": "3d43c11e-4d85-4d6d-9fca-516d557e881c",
   "metadata": {},
   "outputs": [],
   "source": [
    "mycursor.execute(\"SELECT max(Pregnancies) FROM training_datasets_main_diabetes\")\n",
    "out=mycursor.fetchall()\n",
    "from tabulate import tabulate\n",
    "print(tabulate(out,headers=[i[0] for i in mycursor.description],  tablefmt='psql'))"
   ]
  },
  {
   "cell_type": "code",
   "execution_count": null,
   "id": "b4ba2ed4-9b33-4cfc-b686-a4d92ed3edce",
   "metadata": {},
   "outputs": [],
   "source": [
    "mycursor.execute(\"SELECT min(BloodPressure) FROM training_datasets_main_diabetes\")\n",
    "out=mycursor.fetchall()\n",
    "from tabulate import tabulate\n",
    "print(tabulate(out,headers=[i[0] for i in mycursor.description],  tablefmt='psql'))"
   ]
  },
  {
   "cell_type": "code",
   "execution_count": null,
   "id": "2ce65368-acf5-41b5-8fa3-5b2ef21a73bf",
   "metadata": {},
   "outputs": [],
   "source": [
    "mycursor.execute(\"SELECT avg(BMI) FROM training_datasets_main_diabetes WHERE outcome = 1\")\n",
    "out=mycursor.fetchall()\n",
    "from tabulate import tabulate\n",
    "print(tabulate(out,headers=[i[0] for i in mycursor.description],  tablefmt='psql'))"
   ]
  },
  {
   "cell_type": "code",
   "execution_count": null,
   "id": "82180255-4888-44a5-9468-27cce5315f36",
   "metadata": {},
   "outputs": [],
   "source": [
    "mycursor.execute(\"SELECT avg(BMI) FROM training_datasets_main_diabetes WHERE outcome = 0\")\n",
    "out=mycursor.fetchall()\n",
    "from tabulate import tabulate\n",
    "print(tabulate(out,headers=[i[0] for i in mycursor.description],  tablefmt='psql'))"
   ]
  },
  {
   "cell_type": "code",
   "execution_count": null,
   "id": "a0805809-02d2-4193-b946-90b153092127",
   "metadata": {},
   "outputs": [],
   "source": [
    "mycursor.execute(\"SELECT COUNT(Pregnancies) FROM training_datasets_main_diabetes WHERE Outcome = 0 AND BloodPressure > 40 AND BloodPressure<90\")\n",
    "out=mycursor.fetchall()\n",
    "from tabulate import tabulate\n",
    "print(tabulate(out,headers=[i[0] for i in mycursor.description],  tablefmt='psql'))"
   ]
  },
  {
   "cell_type": "code",
   "execution_count": null,
   "id": "cec29a15-0296-4df0-9abd-db6124d937e8",
   "metadata": {},
   "outputs": [],
   "source": [
    "mycursor.execute(\"select count(BloodPressure) from training_datasets_main_diabetes where BloodPressure BETWEEN 40 and 91 and outcome = 0\")\n",
    "out=mycursor.fetchall()\n",
    "from tabulate import tabulate\n",
    "print(tabulate(out,headers=[i[0] for i in mycursor.description],  tablefmt='psql'))"
   ]
  },
  {
   "cell_type": "code",
   "execution_count": null,
   "id": "9475425b-a1ff-4454-b0ca-990b8299a7c8",
   "metadata": {},
   "outputs": [],
   "source": [
    "mycursor.execute(\"SELECT AGE,Insulin FROM training_datasets_main_diabetes WHERE AGE >40 AND Age IN (SELECT AGE FROM training_datasets_main_diabetes where bmi > 30)\")\n",
    "out=mycursor.fetchall()\n",
    "from tabulate import tabulate\n",
    "print(tabulate(out,headers=[i[0] for i in mycursor.description],  tablefmt='psql'))"
   ]
  },
  {
   "cell_type": "code",
   "execution_count": null,
   "id": "81f6d4fa-f6f2-4ddc-887a-c5f8ec80a3d7",
   "metadata": {},
   "outputs": [],
   "source": [
    "mycursor.execute(\"SELECT * FROM training_datasets_main_diabetes WHERE Pregnancies=1 ORDER BY BMI DESC\")\n",
    "out=mycursor.fetchall()\n",
    "print(tabulate(out,headers=[i[0] for i in mycursor.description],  tablefmt='psql'))"
   ]
  },
  {
   "cell_type": "code",
   "execution_count": null,
   "id": "7a47d60d-ddd8-4241-8e35-13438089fd91",
   "metadata": {},
   "outputs": [],
   "source": [
    "mycursor.execute(\"SELECT pregnancies,outcome,count(Pregnancies) FROM training_datasets_main_diabetes GROUP BY Age \")\n",
    "out=mycursor.fetchall()\n",
    "print(tabulate(out,headers=[i[0] for i in mycursor.description],  tablefmt='psql'))"
   ]
  },
  {
   "cell_type": "code",
   "execution_count": null,
   "id": "cc740129-26c9-4f03-b71e-471a05f25b8d",
   "metadata": {},
   "outputs": [],
   "source": [
    "mycursor.execute(\"SELECT pregnancies, COUNT(*) AS count, AVG(age) AS avg_age FROM training_datasets_main_diabetes GROUP BY pregnancies\")\n",
    "out=mycursor.fetchall()\n",
    "from tabulate import tabulate\n",
    "print(tabulate(out,headers=[i[0] for i in mycursor.description],showindex=\"always\",  tablefmt='psql'))"
   ]
  },
  {
   "cell_type": "code",
   "execution_count": null,
   "id": "b71b1ecd-3c3a-4643-b231-0b99bd1bedcb",
   "metadata": {},
   "outputs": [],
   "source": [
    "mycursor.execute(\"select pregnancies,avg(age) from training_datasets_main_diabetes group by pregnancies\")\n",
    "out=mycursor.fetchall()\n",
    "from tabulate import tabulate\n",
    "print(tabulate(out,headers=[i[0] for i in mycursor.description],showindex=\"always\",  tablefmt='psql'))"
   ]
  },
  {
   "cell_type": "code",
   "execution_count": null,
   "id": "a3201ce8-b129-481e-bbc3-f6cd8e6af4ad",
   "metadata": {},
   "outputs": [],
   "source": [
    "mycursor.execute(\"\"\"\n",
    "    SELECT Age, Pregnancies, COUNT(*) OVER (PARTITION BY Pregnancies ORDER BY Age DESC) as Countw\n",
    "    FROM training_datasets_main_diabetes\n",
    "\"\"\")\n",
    "out=mycursor.fetchall()\n",
    "from tabulate import tabulate\n",
    "print(tabulate(out,headers=[i[0] for i in mycursor.description],  tablefmt='psql'))"
   ]
  },
  {
   "cell_type": "code",
   "execution_count": null,
   "id": "ebc4055d-8bda-4f07-8e79-dfaad547c991",
   "metadata": {},
   "outputs": [],
   "source": [
    "mycursor.execute(\"\"\"\n",
    "    SELECT Age, Pregnancies, BloodPressure, \n",
    "           RANK() OVER (PARTITION BY Pregnancies ORDER BY BloodPressure DESC) as Rank\n",
    "    FROM training_datasets_main_diabetes\n",
    "\"\"\")\n",
    "out=mycursor.fetchall()\n",
    "from tabulate import tabulate\n",
    "print(tabulate(out,headers=[i[0] for i in mycursor.description],  tablefmt='psql'))"
   ]
  },
  {
   "cell_type": "code",
   "execution_count": null,
   "id": "31f60d99-d346-442b-bb2f-fc340478b60e",
   "metadata": {},
   "outputs": [],
   "source": [
    "mycursor.execute(\"\"\"\n",
    "    SELECT Age, Pregnancies, BloodPressure, \n",
    "           DENSE_RANK() OVER (PARTITION BY Pregnancies ORDER BY BloodPressure DESC) as DenseRank\n",
    "    FROM training_datasets_main_diabetes\n",
    "\"\"\")\n",
    "out=mycursor.fetchall()\n",
    "from tabulate import tabulate\n",
    "print(tabulate(out,headers=[i[0] for i in mycursor.description],  tablefmt='psql'))"
   ]
  },
  {
   "cell_type": "code",
   "execution_count": null,
   "id": "e8421446-c3c3-45bc-bfde-965d557a4de9",
   "metadata": {},
   "outputs": [],
   "source": [
    "mycursor.execute(\"CREATE TABLE stu1 (no INTEGER,name TEXT NOT NULL,school VARCHAR(20)) \")"
   ]
  },
  {
   "cell_type": "code",
   "execution_count": null,
   "id": "6111a34d-b37e-4bbe-876c-dcc3106eee45",
   "metadata": {},
   "outputs": [],
   "source": [
    "a=input()\n",
    "b=input()\n",
    "c=input()\n",
    "query=\"INSERT INTO stu1 (no,name,school) VALUES (%s,%s,%s)\"\n",
    "mycursor.execute(query,(a,None,c))\n",
    "mydb.commit()"
   ]
  },
  {
   "cell_type": "code",
   "execution_count": null,
   "id": "4613d04c-9b04-4ccb-b141-daec2cb8dcb0",
   "metadata": {},
   "outputs": [],
   "source": [
    "mycursor.execute(\"CREATE TABLE u (no INTEGER,name TEXT UNIQUE,school VARCHAR(20),age INT CHECK(age<18))\")"
   ]
  },
  {
   "cell_type": "code",
   "execution_count": null,
   "id": "0ff8b456-1aea-4e3e-a283-bf06fd9f417e",
   "metadata": {},
   "outputs": [],
   "source": [
    "a=input()\n",
    "b=input()\n",
    "c=input()\n",
    "d=input()\n",
    "query=\"INSERT INTO u (no,name,school,age) VALUES (%s,%s,%s,%s)\"\n",
    "mycursor.execute(query,(a,b,c,d))\n",
    "mydb.commit()\n",
    "#duplicate entry error\n"
   ]
  },
  {
   "cell_type": "code",
   "execution_count": null,
   "id": "13bfad7b-5181-4dd9-93ef-ffaedcb2bb19",
   "metadata": {},
   "outputs": [],
   "source": [
    "mycursor.execute(\"CREATE TABLE aadhardetails (name VARCHAR(30),ADDRESS VARCHAR(20),AADHARID INTEGER PRIMARY KEY)\")\n",
    "mycursor.execute(\"INSERT INTO aadhardetails (name,address,aadharid) VALUES('netthaji','coimbatore',22345678)\")\n",
    "mydb.commit()"
   ]
  },
  {
   "cell_type": "code",
   "execution_count": null,
   "id": "6eb28e20-9eac-48f4-a2cc-32418b118cc8",
   "metadata": {},
   "outputs": [],
   "source": [
    "mycursor.execute(\"CREATE TABLE bankacc(name VARCHAR(20),type VARCHAR(2),accno INT PRIMARY KEY,aadhar INT ,FOREIGN KEY (aadhar)REFERENCES aadhardetails(aadharid))\")"
   ]
  },
  {
   "cell_type": "code",
   "execution_count": null,
   "id": "117701f2-080e-49f1-bafd-3a3e4fad4d96",
   "metadata": {},
   "outputs": [],
   "source": [
    "mycursor.execute(\"INSERT INTO bankacc (name,type,accno,aadhar) VALUES('nethaji','fd',2234451,22345678)\")\n",
    "mydb.commit()"
   ]
  },
  {
   "cell_type": "code",
   "execution_count": null,
   "id": "a9c73ed1-e824-4f01-9639-09b3ce3d9756",
   "metadata": {},
   "outputs": [],
   "source": [
    "mycursor.execute(\"CREATE TABLE students(ID INT PRIMARY KEY,NAME VARCHAR(20),PH INT) \")\n",
    "mycursor.execute(\"INSERT INTO students (ID,NAME,PH) VALUES(1,'nethaji',12345)\")\n",
    "\n",
    "mycursor.execute(\"INSERT INTO students (ID,NAME,PH) VALUES(2,'nirmal',123456)\")\n",
    "\n",
    "mydb.commit()"
   ]
  },
  {
   "cell_type": "code",
   "execution_count": null,
   "id": "e64a48b5-5de1-455a-a56f-3ed37e3b66be",
   "metadata": {},
   "outputs": [],
   "source": [
    "mycursor.execute(\"CREATE TABLE marks(ID INT ,maths int,phy INT,chem INT) \")\n",
    "mydb.commit()"
   ]
  },
  {
   "cell_type": "code",
   "execution_count": 25,
   "id": "591a9dee-76f2-41ad-ab0b-007183f0c556",
   "metadata": {},
   "outputs": [],
   "source": [
    "mycursor.execute(\"INSERT INTO marks (ID,maths,phy,chem) VALUES(1,91,81,50)\")\n",
    "mydb.commit()"
   ]
  },
  {
   "cell_type": "code",
   "execution_count": 26,
   "id": "4d7a90ea-da8f-432f-a6dc-77334bfd060c",
   "metadata": {},
   "outputs": [
    {
     "name": "stdout",
     "output_type": "stream",
     "text": [
      "+---+----+----+\n",
      "| 1 | 91 | 81 |\n",
      "+---+----+----+\n"
     ]
    }
   ],
   "source": [
    "mycursor.execute(\"SELECT students.ID,marks.maths,marks.phy \\\n",
    "FROM students \\\n",
    "INNER JOIN marks ON students.ID = marks.ID\")\n",
    "out=mycursor.fetchall()\n",
    "from tabulate import tabulate\n",
    "print(tabulate(out, tablefmt='psql'))"
   ]
  },
  {
   "cell_type": "code",
   "execution_count": null,
   "id": "390a80c3-9e49-44c5-bfda-e7d831c38abc",
   "metadata": {},
   "outputs": [],
   "source": []
  }
 ],
 "metadata": {
  "kernelspec": {
   "display_name": "Python 3 (ipykernel)",
   "language": "python",
   "name": "python3"
  },
  "language_info": {
   "codemirror_mode": {
    "name": "ipython",
    "version": 3
   },
   "file_extension": ".py",
   "mimetype": "text/x-python",
   "name": "python",
   "nbconvert_exporter": "python",
   "pygments_lexer": "ipython3",
   "version": "3.11.3"
  }
 },
 "nbformat": 4,
 "nbformat_minor": 5
}
