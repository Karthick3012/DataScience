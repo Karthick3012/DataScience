{
 "cells": [
  {
   "cell_type": "markdown",
   "id": "1637083d",
   "metadata": {},
   "source": [
    "# Fundamentals fo Python"
   ]
  },
  {
   "cell_type": "markdown",
   "id": "582867a0",
   "metadata": {},
   "source": [
    "# Print statement"
   ]
  },
  {
   "cell_type": "markdown",
   "id": "68ba7e68",
   "metadata": {},
   "source": [
    "# Object, Separator, End, File & Flush"
   ]
  },
  {
   "cell_type": "code",
   "execution_count": 1,
   "id": "95ed182a",
   "metadata": {},
   "outputs": [
    {
     "name": "stdout",
     "output_type": "stream",
     "text": [
      "Hey buddies\n",
      "Hey buddies\n"
     ]
    }
   ],
   "source": [
    "print(\"Hey buddies\")\n",
    "print('Hey buddies')"
   ]
  },
  {
   "cell_type": "code",
   "execution_count": 2,
   "id": "011a7036",
   "metadata": {},
   "outputs": [
    {
     "name": "stdout",
     "output_type": "stream",
     "text": [
      "I'm upto learn python with MongoDB\n"
     ]
    }
   ],
   "source": [
    "print(\"I'm upto learn python with MongoDB\")"
   ]
  },
  {
   "cell_type": "code",
   "execution_count": 3,
   "id": "f575567d",
   "metadata": {},
   "outputs": [
    {
     "name": "stdout",
     "output_type": "stream",
     "text": [
      "\"With date science\"\n"
     ]
    }
   ],
   "source": [
    "print('\"With date science\"')"
   ]
  },
  {
   "cell_type": "code",
   "execution_count": 4,
   "id": "77e35e26",
   "metadata": {},
   "outputs": [
    {
     "name": "stdout",
     "output_type": "stream",
     "text": [
      "\"I'm here to learn Python\"\n"
     ]
    }
   ],
   "source": [
    "print('\"I\\'m here to learn Python\"')"
   ]
  },
  {
   "cell_type": "code",
   "execution_count": 5,
   "id": "b76751a7",
   "metadata": {},
   "outputs": [
    {
     "name": "stdout",
     "output_type": "stream",
     "text": [
      "Welcome\n",
      "to\n",
      "Data science\n"
     ]
    }
   ],
   "source": [
    "print(\"Welcome\\nto\\nData science\")"
   ]
  },
  {
   "cell_type": "code",
   "execution_count": 6,
   "id": "8c291626",
   "metadata": {},
   "outputs": [
    {
     "name": "stdout",
     "output_type": "stream",
     "text": [
      "Name\t:\tkarthick\n",
      "Age\t:\t22\n"
     ]
    }
   ],
   "source": [
    "print(\"Name\\t:\\tkarthick\\nAge\\t:\\t22\")"
   ]
  },
  {
   "cell_type": "code",
   "execution_count": 7,
   "id": "f4d7fe7f",
   "metadata": {},
   "outputs": [
    {
     "name": "stdout",
     "output_type": "stream",
     "text": [
      "Data Science 2023."
     ]
    }
   ],
   "source": [
    "##Separator\n",
    "print(\"Data\",\"Science\",\"2023\", sep=' ',end='.')"
   ]
  },
  {
   "cell_type": "code",
   "execution_count": 8,
   "id": "9d671a31",
   "metadata": {},
   "outputs": [
    {
     "name": "stdout",
     "output_type": "stream",
     "text": [
      "________Vanakam da mapula________\n",
      "________Theni la irrudhu_________\n"
     ]
    }
   ],
   "source": [
    "print(\"\"\"________Vanakam da mapula________\n",
    "________Theni la irrudhu_________\"\"\")"
   ]
  },
  {
   "cell_type": "code",
   "execution_count": 9,
   "id": "16020aa0",
   "metadata": {},
   "outputs": [
    {
     "data": {
      "text/plain": [
       "['__abs__',\n",
       " '__add__',\n",
       " '__and__',\n",
       " '__bool__',\n",
       " '__ceil__',\n",
       " '__class__',\n",
       " '__delattr__',\n",
       " '__dir__',\n",
       " '__divmod__',\n",
       " '__doc__',\n",
       " '__eq__',\n",
       " '__float__',\n",
       " '__floor__',\n",
       " '__floordiv__',\n",
       " '__format__',\n",
       " '__ge__',\n",
       " '__getattribute__',\n",
       " '__getnewargs__',\n",
       " '__gt__',\n",
       " '__hash__',\n",
       " '__index__',\n",
       " '__init__',\n",
       " '__init_subclass__',\n",
       " '__int__',\n",
       " '__invert__',\n",
       " '__le__',\n",
       " '__lshift__',\n",
       " '__lt__',\n",
       " '__mod__',\n",
       " '__mul__',\n",
       " '__ne__',\n",
       " '__neg__',\n",
       " '__new__',\n",
       " '__or__',\n",
       " '__pos__',\n",
       " '__pow__',\n",
       " '__radd__',\n",
       " '__rand__',\n",
       " '__rdivmod__',\n",
       " '__reduce__',\n",
       " '__reduce_ex__',\n",
       " '__repr__',\n",
       " '__rfloordiv__',\n",
       " '__rlshift__',\n",
       " '__rmod__',\n",
       " '__rmul__',\n",
       " '__ror__',\n",
       " '__round__',\n",
       " '__rpow__',\n",
       " '__rrshift__',\n",
       " '__rshift__',\n",
       " '__rsub__',\n",
       " '__rtruediv__',\n",
       " '__rxor__',\n",
       " '__setattr__',\n",
       " '__sizeof__',\n",
       " '__str__',\n",
       " '__sub__',\n",
       " '__subclasshook__',\n",
       " '__truediv__',\n",
       " '__trunc__',\n",
       " '__xor__',\n",
       " 'as_integer_ratio',\n",
       " 'bit_length',\n",
       " 'conjugate',\n",
       " 'denominator',\n",
       " 'from_bytes',\n",
       " 'imag',\n",
       " 'numerator',\n",
       " 'real',\n",
       " 'to_bytes']"
      ]
     },
     "execution_count": 9,
     "metadata": {},
     "output_type": "execute_result"
    }
   ],
   "source": [
    "dir(int)"
   ]
  },
  {
   "cell_type": "code",
   "execution_count": 10,
   "id": "b064d039",
   "metadata": {},
   "outputs": [
    {
     "data": {
      "text/plain": [
       "['__abs__',\n",
       " '__add__',\n",
       " '__bool__',\n",
       " '__ceil__',\n",
       " '__class__',\n",
       " '__delattr__',\n",
       " '__dir__',\n",
       " '__divmod__',\n",
       " '__doc__',\n",
       " '__eq__',\n",
       " '__float__',\n",
       " '__floor__',\n",
       " '__floordiv__',\n",
       " '__format__',\n",
       " '__ge__',\n",
       " '__getattribute__',\n",
       " '__getformat__',\n",
       " '__getnewargs__',\n",
       " '__gt__',\n",
       " '__hash__',\n",
       " '__init__',\n",
       " '__init_subclass__',\n",
       " '__int__',\n",
       " '__le__',\n",
       " '__lt__',\n",
       " '__mod__',\n",
       " '__mul__',\n",
       " '__ne__',\n",
       " '__neg__',\n",
       " '__new__',\n",
       " '__pos__',\n",
       " '__pow__',\n",
       " '__radd__',\n",
       " '__rdivmod__',\n",
       " '__reduce__',\n",
       " '__reduce_ex__',\n",
       " '__repr__',\n",
       " '__rfloordiv__',\n",
       " '__rmod__',\n",
       " '__rmul__',\n",
       " '__round__',\n",
       " '__rpow__',\n",
       " '__rsub__',\n",
       " '__rtruediv__',\n",
       " '__setattr__',\n",
       " '__setformat__',\n",
       " '__sizeof__',\n",
       " '__str__',\n",
       " '__sub__',\n",
       " '__subclasshook__',\n",
       " '__truediv__',\n",
       " '__trunc__',\n",
       " 'as_integer_ratio',\n",
       " 'conjugate',\n",
       " 'fromhex',\n",
       " 'hex',\n",
       " 'imag',\n",
       " 'is_integer',\n",
       " 'real']"
      ]
     },
     "execution_count": 10,
     "metadata": {},
     "output_type": "execute_result"
    }
   ],
   "source": [
    "dir(float)"
   ]
  },
  {
   "cell_type": "code",
   "execution_count": 11,
   "id": "aa3fd65a",
   "metadata": {},
   "outputs": [
    {
     "name": "stdout",
     "output_type": "stream",
     "text": [
      "True\n",
      "<class 'bool'>\n"
     ]
    }
   ],
   "source": [
    "myBool = True\n",
    "print(myBool)\n",
    "print(type(myBool))"
   ]
  },
  {
   "cell_type": "code",
   "execution_count": 12,
   "id": "e3d48c2c",
   "metadata": {},
   "outputs": [
    {
     "name": "stdout",
     "output_type": "stream",
     "text": [
      "Old york\n"
     ]
    }
   ],
   "source": [
    "print(\"New york\".replace(\"New\",\"Old\"))"
   ]
  },
  {
   "cell_type": "raw",
   "id": "bf060210",
   "metadata": {},
   "source": [
    "List 1"
   ]
  },
  {
   "cell_type": "code",
   "execution_count": 13,
   "id": "f0ee8a87",
   "metadata": {},
   "outputs": [
    {
     "name": "stdout",
     "output_type": "stream",
     "text": [
      "['apple', 'orange', 'pine']\n",
      "<class 'list'>\n"
     ]
    }
   ],
   "source": [
    "my_list = [\"apple\",\"orange\",\"pine\"]\n",
    "print(my_list)\n",
    "print(type(my_list))"
   ]
  },
  {
   "cell_type": "raw",
   "id": "71caadf6",
   "metadata": {},
   "source": [
    "List 2"
   ]
  },
  {
   "cell_type": "code",
   "execution_count": 14,
   "id": "f9096868",
   "metadata": {},
   "outputs": [
    {
     "name": "stdout",
     "output_type": "stream",
     "text": [
      "['apple', 'orange', 'pine']\n",
      "<class 'list'>\n"
     ]
    }
   ],
   "source": [
    "List_2 = list(('apple','orange','pine'))\n",
    "print(List_2)\n",
    "print(type(List_2))"
   ]
  },
  {
   "cell_type": "raw",
   "id": "2ea94ac7",
   "metadata": {},
   "source": [
    "tuple 1"
   ]
  },
  {
   "cell_type": "code",
   "execution_count": 15,
   "id": "a88d7af2",
   "metadata": {},
   "outputs": [
    {
     "name": "stdout",
     "output_type": "stream",
     "text": [
      "<class 'tuple'>\n",
      "('apple', 'orange', 'pine')\n"
     ]
    }
   ],
   "source": [
    "my_Tuble = ('apple','orange','pine')\n",
    "print(type(my_Tuble))\n",
    "print(my_Tuble)"
   ]
  },
  {
   "cell_type": "raw",
   "id": "7ca3ba14",
   "metadata": {},
   "source": [
    "tuple 2"
   ]
  },
  {
   "cell_type": "code",
   "execution_count": 16,
   "id": "847dfb9b",
   "metadata": {},
   "outputs": [
    {
     "name": "stdout",
     "output_type": "stream",
     "text": [
      "<class 'tuple'>\n",
      "('apple', 'orange', 'pine')\n"
     ]
    }
   ],
   "source": [
    "my_tup = tuple(('apple','orange','pine'))\n",
    "print(type(my_tup))\n",
    "print(my_tup)"
   ]
  },
  {
   "cell_type": "raw",
   "id": "f68d5249",
   "metadata": {},
   "source": [
    "dictionaries 1"
   ]
  },
  {
   "cell_type": "code",
   "execution_count": 17,
   "id": "ca5c6533",
   "metadata": {
    "scrolled": true
   },
   "outputs": [
    {
     "name": "stdout",
     "output_type": "stream",
     "text": [
      "{'Name': 'karthick', 'Age': '23'}\n",
      "<class 'dict'>\n"
     ]
    }
   ],
   "source": [
    "my_dic = {'Name' : 'karthick', 'Age' : '23'}\n",
    "print(my_dic)\n",
    "print(type(my_dic))"
   ]
  },
  {
   "cell_type": "raw",
   "id": "28ec2218",
   "metadata": {},
   "source": [
    "dictionaries 2"
   ]
  },
  {
   "cell_type": "code",
   "execution_count": 18,
   "id": "024abb83",
   "metadata": {},
   "outputs": [
    {
     "name": "stdout",
     "output_type": "stream",
     "text": [
      "{'Country': 'france', 'Worldcup': 2}\n",
      "<class 'dict'>\n"
     ]
    }
   ],
   "source": [
    "my_dic2 = dict(Country='france',Worldcup=2)\n",
    "print(my_dic2)\n",
    "print(type(my_dic2))"
   ]
  },
  {
   "cell_type": "raw",
   "id": "91d59d19",
   "metadata": {},
   "source": [
    "Membership operators"
   ]
  },
  {
   "cell_type": "code",
   "execution_count": 19,
   "id": "09406593",
   "metadata": {},
   "outputs": [
    {
     "name": "stdout",
     "output_type": "stream",
     "text": [
      "True\n"
     ]
    }
   ],
   "source": [
    "print('apple' in my_tup)"
   ]
  },
  {
   "cell_type": "raw",
   "id": "ff7c06fe",
   "metadata": {},
   "source": [
    "Adding to list"
   ]
  },
  {
   "cell_type": "code",
   "execution_count": 20,
   "id": "4e2be602",
   "metadata": {},
   "outputs": [
    {
     "name": "stdout",
     "output_type": "stream",
     "text": [
      "{'Country': 'france', 'Worldcup': 2}\n"
     ]
    }
   ],
   "source": [
    "print(my_dic2)"
   ]
  },
  {
   "cell_type": "code",
   "execution_count": 21,
   "id": "8aa92751",
   "metadata": {},
   "outputs": [],
   "source": [
    "my_list.append('strawberry')"
   ]
  },
  {
   "cell_type": "code",
   "execution_count": 22,
   "id": "39e4c833",
   "metadata": {},
   "outputs": [
    {
     "data": {
      "text/plain": [
       "['apple', 'orange', 'pine', 'strawberry']"
      ]
     },
     "execution_count": 22,
     "metadata": {},
     "output_type": "execute_result"
    }
   ],
   "source": [
    "my_list"
   ]
  },
  {
   "cell_type": "code",
   "execution_count": 23,
   "id": "0e32227e",
   "metadata": {},
   "outputs": [
    {
     "name": "stdout",
     "output_type": "stream",
     "text": [
      "['apple', 'orange', 'pine', 'strawberry']\n"
     ]
    }
   ],
   "source": [
    "print(my_list)"
   ]
  },
  {
   "cell_type": "code",
   "execution_count": 25,
   "id": "67a4f56a",
   "metadata": {},
   "outputs": [],
   "source": [
    "my_list.insert(1,'orange')"
   ]
  },
  {
   "cell_type": "code",
   "execution_count": 26,
   "id": "fbd84748",
   "metadata": {},
   "outputs": [
    {
     "data": {
      "text/plain": [
       "['apple', 'orange', 'orange', 'pine', 'strawberry']"
      ]
     },
     "execution_count": 26,
     "metadata": {},
     "output_type": "execute_result"
    }
   ],
   "source": [
    "my_list"
   ]
  },
  {
   "cell_type": "code",
   "execution_count": 28,
   "id": "fda9f875",
   "metadata": {},
   "outputs": [
    {
     "name": "stdout",
     "output_type": "stream",
     "text": [
      "pine exist in the list\n"
     ]
    }
   ],
   "source": [
    "if 'pine' in my_list:\n",
    "    print('pine exist in the list')\n",
    "else:\n",
    "    print('There is no pine')"
   ]
  },
  {
   "cell_type": "raw",
   "id": "6ffc2112",
   "metadata": {},
   "source": [
    "Set"
   ]
  },
  {
   "cell_type": "code",
   "execution_count": 29,
   "id": "9319abdf",
   "metadata": {},
   "outputs": [
    {
     "data": {
      "text/plain": [
       "{'Apple', 'orange', 'pine'}"
      ]
     },
     "execution_count": 29,
     "metadata": {},
     "output_type": "execute_result"
    }
   ],
   "source": [
    "My_Set = {'Apple', 'orange', 'pine'}\n",
    "My_Set"
   ]
  },
  {
   "cell_type": "code",
   "execution_count": 30,
   "id": "14b6042d",
   "metadata": {},
   "outputs": [],
   "source": [
    "My_Set.add('musk')"
   ]
  },
  {
   "cell_type": "code",
   "execution_count": 31,
   "id": "a62cff26",
   "metadata": {},
   "outputs": [
    {
     "data": {
      "text/plain": [
       "{'Apple', 'musk', 'orange', 'pine'}"
      ]
     },
     "execution_count": 31,
     "metadata": {},
     "output_type": "execute_result"
    }
   ],
   "source": [
    "My_Set"
   ]
  },
  {
   "cell_type": "code",
   "execution_count": 33,
   "id": "94cf37f2",
   "metadata": {},
   "outputs": [
    {
     "data": {
      "text/plain": [
       "{'Apple', 'grape', 'lime', 'musk', 'orange', 'pine'}"
      ]
     },
     "execution_count": 33,
     "metadata": {},
     "output_type": "execute_result"
    }
   ],
   "source": [
    "My_Set.update(['lime','grape'])#Adding multiple items\n",
    "My_Set"
   ]
  },
  {
   "cell_type": "code",
   "execution_count": 1,
   "id": "a0d2d09a",
   "metadata": {},
   "outputs": [
    {
     "name": "stdout",
     "output_type": "stream",
     "text": [
      "File already exists\n"
     ]
    }
   ],
   "source": [
    "try:\n",
    "    import os\n",
    "    os.mkdir(\"nirmal\")\n",
    "except:\n",
    "    print(\"File already exists\")"
   ]
  },
  {
   "cell_type": "code",
   "execution_count": 3,
   "id": "a9ef3d7d",
   "metadata": {},
   "outputs": [
    {
     "name": "stdout",
     "output_type": "stream",
     "text": [
      "File already exists\n",
      "1\n"
     ]
    },
    {
     "ename": "Exception",
     "evalue": "I know Python!",
     "output_type": "error",
     "traceback": [
      "\u001b[0;31m---------------------------------------------------------------------------\u001b[0m",
      "\u001b[0;31mException\u001b[0m                                 Traceback (most recent call last)",
      "\u001b[0;32m/tmp/ipykernel_31367/3359760317.py\u001b[0m in \u001b[0;36m<module>\u001b[0;34m\u001b[0m\n\u001b[1;32m      5\u001b[0m     \u001b[0mprint\u001b[0m\u001b[0;34m(\u001b[0m\u001b[0;34m\"File already exists\"\u001b[0m\u001b[0;34m)\u001b[0m\u001b[0;34m\u001b[0m\u001b[0;34m\u001b[0m\u001b[0m\n\u001b[1;32m      6\u001b[0m \u001b[0;32mif\u001b[0m \u001b[0mint\u001b[0m\u001b[0;34m(\u001b[0m\u001b[0minput\u001b[0m\u001b[0;34m(\u001b[0m\u001b[0;34m)\u001b[0m\u001b[0;34m)\u001b[0m\u001b[0;34m==\u001b[0m\u001b[0;36m1\u001b[0m\u001b[0;34m:\u001b[0m\u001b[0;34m\u001b[0m\u001b[0;34m\u001b[0m\u001b[0m\n\u001b[0;32m----> 7\u001b[0;31m     \u001b[0;32mraise\u001b[0m \u001b[0mException\u001b[0m\u001b[0;34m(\u001b[0m\u001b[0;34m'I know Python!'\u001b[0m\u001b[0;34m)\u001b[0m\u001b[0;34m\u001b[0m\u001b[0;34m\u001b[0m\u001b[0m\n\u001b[0m",
      "\u001b[0;31mException\u001b[0m: I know Python!"
     ]
    }
   ],
   "source": [
    "try:\n",
    "    import os\n",
    "    os.mkdir(\"nirmal\")\n",
    "except:\n",
    "    print(\"File already exists\")\n",
    "if int(input())==1:\n",
    "    raise Exception('I know Python!')"
   ]
  },
  {
   "cell_type": "code",
   "execution_count": 1,
   "id": "8ede4886",
   "metadata": {},
   "outputs": [
    {
     "name": "stdin",
     "output_type": "stream",
     "text": [
      " 2 3 4 5 6 7 8\n"
     ]
    },
    {
     "name": "stdout",
     "output_type": "stream",
     "text": [
      "2 3 4 5 6 7 8\n"
     ]
    }
   ],
   "source": [
    "x = input()\n",
    "print(x)"
   ]
  },
  {
   "cell_type": "code",
   "execution_count": 2,
   "id": "135f6a3c-aac4-4c78-91f1-db4eaf3b3877",
   "metadata": {},
   "outputs": [
    {
     "name": "stdin",
     "output_type": "stream",
     "text": [
      " 5 3\n",
      " 12345\n"
     ]
    },
    {
     "name": "stdout",
     "output_type": "stream",
     "text": [
      "5 3\n",
      "12345\n"
     ]
    }
   ],
   "source": [
    "x = input()\n",
    "y = input()\n",
    "print(x)\n",
    "print(y)"
   ]
  },
  {
   "cell_type": "code",
   "execution_count": null,
   "id": "f30b2cb6-0e85-4be4-b9f5-24be4b20a727",
   "metadata": {},
   "outputs": [],
   "source": []
  }
 ],
 "metadata": {
  "kernelspec": {
   "display_name": "Python 3 (ipykernel)",
   "language": "python",
   "name": "python3"
  },
  "language_info": {
   "codemirror_mode": {
    "name": "ipython",
    "version": 3
   },
   "file_extension": ".py",
   "mimetype": "text/x-python",
   "name": "python",
   "nbconvert_exporter": "python",
   "pygments_lexer": "ipython3",
   "version": "3.11.3"
  }
 },
 "nbformat": 4,
 "nbformat_minor": 5
}
