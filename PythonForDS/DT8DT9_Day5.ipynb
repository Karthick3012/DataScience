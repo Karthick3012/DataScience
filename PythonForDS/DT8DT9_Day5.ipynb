{
  "nbformat": 4,
  "nbformat_minor": 0,
  "metadata": {
    "colab": {
      "provenance": []
    },
    "kernelspec": {
      "name": "python3",
      "display_name": "Python 3"
    },
    "language_info": {
      "name": "python"
    }
  },
  "cells": [
    {
      "cell_type": "code",
      "execution_count": 1,
      "metadata": {
        "id": "Uk1lThadQ_4S"
      },
      "outputs": [],
      "source": [
        "# Dict Methods:"
      ]
    },
    {
      "cell_type": "code",
      "source": [
        "a = { 'key1':'value1' , 'key2':'value2' , \"key3\" : [\"value3\" ], \"key4\" : {1:2,2:3} }\n"
      ],
      "metadata": {
        "id": "0IayLUjoRMPW"
      },
      "execution_count": 76,
      "outputs": []
    },
    {
      "cell_type": "code",
      "source": [
        "print(a.keys()) # dict_keys datatype iterable data type\n",
        "(type(a.keys())) # dict_keys datatype iterable data type\n",
        "list()\n",
        "set()\n",
        "tuple()"
      ],
      "metadata": {
        "colab": {
          "base_uri": "https://localhost:8080/"
        },
        "id": "dhlpB1-rRQM9",
        "outputId": "20a951e5-dbe2-4b50-f6ab-04156664e854"
      },
      "execution_count": 80,
      "outputs": [
        {
          "output_type": "stream",
          "name": "stdout",
          "text": [
            "dict_keys(['key1', 'key2', 'key3', 'key4'])\n"
          ]
        },
        {
          "output_type": "execute_result",
          "data": {
            "text/plain": [
              "()"
            ]
          },
          "metadata": {},
          "execution_count": 80
        }
      ]
    },
    {
      "cell_type": "code",
      "source": [
        "a.values() # dict_values datatype iterable data type"
      ],
      "metadata": {
        "colab": {
          "base_uri": "https://localhost:8080/"
        },
        "id": "JpUfipX5RSTe",
        "outputId": "616499d6-9a0a-423f-e4fc-7e0545298092"
      },
      "execution_count": 4,
      "outputs": [
        {
          "output_type": "execute_result",
          "data": {
            "text/plain": [
              "dict_values(['value1', 'value2', ['value3'], {1: 2, 2: 3}])"
            ]
          },
          "metadata": {},
          "execution_count": 4
        }
      ]
    },
    {
      "cell_type": "code",
      "source": [
        "a.items() # dict_items datatype iterable data type\n",
        "# [ (key1,value1), (key2,value2),(key3,value3)]"
      ],
      "metadata": {
        "colab": {
          "base_uri": "https://localhost:8080/"
        },
        "id": "Sdvi4YEhRZ_M",
        "outputId": "dbc4440b-7de9-43bf-9092-ae6f8452e4ea"
      },
      "execution_count": 5,
      "outputs": [
        {
          "output_type": "execute_result",
          "data": {
            "text/plain": [
              "dict_items([('key1', 'value1'), ('key2', 'value2'), ('key3', ['value3']), ('key4', {1: 2, 2: 3})])"
            ]
          },
          "metadata": {},
          "execution_count": 5
        }
      ]
    },
    {
      "cell_type": "code",
      "source": [
        "# dir(dict)"
      ],
      "metadata": {
        "id": "LyJJadteRoYi"
      },
      "execution_count": 7,
      "outputs": []
    },
    {
      "cell_type": "code",
      "source": [
        "a = { 'key1':'value1' , 'key2':'value2' , \"key3\" : [\"value3\" ], \"key4\" : {1:2,2:3} }\n"
      ],
      "metadata": {
        "id": "tA8M7HEbRzyt"
      },
      "execution_count": 8,
      "outputs": []
    },
    {
      "cell_type": "code",
      "source": [
        "a.pop('key4')"
      ],
      "metadata": {
        "colab": {
          "base_uri": "https://localhost:8080/"
        },
        "id": "BEZz76vKSLk-",
        "outputId": "e8a4d5cc-6b6d-42c2-dc91-c60bba1909eb"
      },
      "execution_count": 9,
      "outputs": [
        {
          "output_type": "execute_result",
          "data": {
            "text/plain": [
              "{1: 2, 2: 3}"
            ]
          },
          "metadata": {},
          "execution_count": 9
        }
      ]
    },
    {
      "cell_type": "code",
      "source": [
        "a"
      ],
      "metadata": {
        "colab": {
          "base_uri": "https://localhost:8080/"
        },
        "id": "Qe9JLNwASNw7",
        "outputId": "20b92026-a245-4035-da8d-46b723482cdb"
      },
      "execution_count": 10,
      "outputs": [
        {
          "output_type": "execute_result",
          "data": {
            "text/plain": [
              "{'key1': 'value1', 'key2': 'value2', 'key3': ['value3']}"
            ]
          },
          "metadata": {},
          "execution_count": 10
        }
      ]
    },
    {
      "cell_type": "code",
      "source": [
        "a.update({1: 2, 2: 3})"
      ],
      "metadata": {
        "id": "Vp0pFOfwSObg"
      },
      "execution_count": 11,
      "outputs": []
    },
    {
      "cell_type": "code",
      "source": [
        "a"
      ],
      "metadata": {
        "colab": {
          "base_uri": "https://localhost:8080/"
        },
        "id": "AZlEE1qqSaU4",
        "outputId": "e73824fd-84a3-4a48-9c80-24013f9383c6"
      },
      "execution_count": 12,
      "outputs": [
        {
          "output_type": "execute_result",
          "data": {
            "text/plain": [
              "{'key1': 'value1', 'key2': 'value2', 'key3': ['value3'], 1: 2, 2: 3}"
            ]
          },
          "metadata": {},
          "execution_count": 12
        }
      ]
    },
    {
      "cell_type": "code",
      "source": [
        "# a[3] # key error"
      ],
      "metadata": {
        "id": "Mx7R6X2CSaqC"
      },
      "execution_count": 14,
      "outputs": []
    },
    {
      "cell_type": "code",
      "source": [
        "# a.get(keyName)\n",
        "print(a.get(3)) \n",
        "# if the key is present it will fetch the value if not it will return None "
      ],
      "metadata": {
        "colab": {
          "base_uri": "https://localhost:8080/"
        },
        "id": "GXi5Ea0XSioj",
        "outputId": "1e4bba6c-f198-4aa4-cef7-1f79a06dbe5c"
      },
      "execution_count": 16,
      "outputs": [
        {
          "output_type": "stream",
          "name": "stdout",
          "text": [
            "None\n"
          ]
        }
      ]
    },
    {
      "cell_type": "code",
      "source": [
        "for i in a:\n",
        "  print('Key ->',i, 'Value ->' ,a[i]) # will be a key"
      ],
      "metadata": {
        "colab": {
          "base_uri": "https://localhost:8080/"
        },
        "id": "03DxGmzSSyEa",
        "outputId": "71a3b6d4-07f9-4583-efb2-fe7d1f55ed1c"
      },
      "execution_count": 18,
      "outputs": [
        {
          "output_type": "stream",
          "name": "stdout",
          "text": [
            "Key -> key1 Value -> value1\n",
            "Key -> key2 Value -> value2\n",
            "Key -> key3 Value -> ['value3']\n",
            "Key -> 1 Value -> 2\n",
            "Key -> 2 Value -> 3\n"
          ]
        }
      ]
    },
    {
      "cell_type": "code",
      "source": [],
      "metadata": {
        "id": "iIU137h_TCGC"
      },
      "execution_count": null,
      "outputs": []
    },
    {
      "cell_type": "markdown",
      "source": [
        "### FUNCTIONS"
      ],
      "metadata": {
        "id": "vKo9XpXiTiiy"
      }
    },
    {
      "cell_type": "code",
      "source": [
        "# 1. in-built functions\n",
        "# 2. custom functions\n",
        "#       1. by using def keyword\n",
        "#       2. by using lambda keyword"
      ],
      "metadata": {
        "id": "9MLOs9RoTmAY"
      },
      "execution_count": 19,
      "outputs": []
    },
    {
      "cell_type": "code",
      "source": [
        "a = [1,2,3,4,5]\n",
        "\n",
        "# Syntax:\n",
        "# def functionName(to get the inputs): positional arguments\n",
        "#   statement\n",
        "\n",
        "# sum of all elements \n",
        "\n",
        "def hello():                      # creating a function\n",
        "  print('Hello DT8 & DT9')\n"
      ],
      "metadata": {
        "id": "P-BQR6QRT9pa"
      },
      "execution_count": 25,
      "outputs": []
    },
    {
      "cell_type": "code",
      "source": [
        "hello() # calling a funtion"
      ],
      "metadata": {
        "colab": {
          "base_uri": "https://localhost:8080/"
        },
        "id": "VXcLG0lVVIL3",
        "outputId": "74a32d95-7595-445a-f705-230c2e4dd604"
      },
      "execution_count": 26,
      "outputs": [
        {
          "output_type": "stream",
          "name": "stdout",
          "text": [
            "Hello DT8 & DT9\n"
          ]
        }
      ]
    },
    {
      "cell_type": "code",
      "source": [
        "z = 'Magesh'  # global variable\n",
        "def hello(): \n",
        "  print(z)                     # global variable\n",
        "  print('Hello DT8 & DT9')\n",
        "\n",
        "hello()"
      ],
      "metadata": {
        "colab": {
          "base_uri": "https://localhost:8080/"
        },
        "id": "fOHWkIPhXhDw",
        "outputId": "4b053d6f-7636-4f4b-d1d2-7958fea9678c"
      },
      "execution_count": 27,
      "outputs": [
        {
          "output_type": "stream",
          "name": "stdout",
          "text": [
            "Magesh\n",
            "Hello DT8 & DT9\n"
          ]
        }
      ]
    },
    {
      "cell_type": "code",
      "source": [
        "def hello(): \n",
        "  zz = 'Magesh'  # local variable\n",
        "  print(zz)                     \n",
        "  print('Hello',zz)\n",
        "\n",
        "hello()\n",
        "\n",
        "print(zz) # error local variable  cannoct be used outside the scope"
      ],
      "metadata": {
        "colab": {
          "base_uri": "https://localhost:8080/",
          "height": 239
        },
        "id": "Ah-GDQNhXtcd",
        "outputId": "e38f8f9f-195d-4990-efe8-d1f981d6c7c2"
      },
      "execution_count": 28,
      "outputs": [
        {
          "output_type": "stream",
          "name": "stdout",
          "text": [
            "Magesh\n",
            "Hello DT8 & DT9\n"
          ]
        },
        {
          "output_type": "error",
          "ename": "NameError",
          "evalue": "ignored",
          "traceback": [
            "\u001b[0;31m---------------------------------------------------------------------------\u001b[0m",
            "\u001b[0;31mNameError\u001b[0m                                 Traceback (most recent call last)",
            "\u001b[0;32m<ipython-input-28-88665e5974c6>\u001b[0m in \u001b[0;36m<cell line: 8>\u001b[0;34m()\u001b[0m\n\u001b[1;32m      6\u001b[0m \u001b[0mhello\u001b[0m\u001b[0;34m(\u001b[0m\u001b[0;34m)\u001b[0m\u001b[0;34m\u001b[0m\u001b[0;34m\u001b[0m\u001b[0m\n\u001b[1;32m      7\u001b[0m \u001b[0;34m\u001b[0m\u001b[0m\n\u001b[0;32m----> 8\u001b[0;31m \u001b[0mprint\u001b[0m\u001b[0;34m(\u001b[0m\u001b[0mzz\u001b[0m\u001b[0;34m)\u001b[0m\u001b[0;34m\u001b[0m\u001b[0;34m\u001b[0m\u001b[0m\n\u001b[0m",
            "\u001b[0;31mNameError\u001b[0m: name 'zz' is not defined"
          ]
        }
      ]
    },
    {
      "cell_type": "code",
      "source": [
        "# ways to get input for a function:\n",
        "\n",
        "# 1. position arguments\n",
        "# 2. any position arguments -> *variable as a tuple\n",
        "# 3. keyword argument\n",
        "# 4. any keyword arguments -> **variable as dict"
      ],
      "metadata": {
        "id": "cC8UMR_mdTdi"
      },
      "execution_count": null,
      "outputs": []
    },
    {
      "cell_type": "code",
      "source": [
        "def hello(za): \n",
        "  print(za)                     \n",
        "  print('Hello',za)\n",
        "\n",
        "hello() # missing one required positional argument"
      ],
      "metadata": {
        "colab": {
          "base_uri": "https://localhost:8080/",
          "height": 203
        },
        "id": "K-2ynB-KYAcH",
        "outputId": "f9a6c21c-4b29-4d2c-d04d-22cb37785910"
      },
      "execution_count": 29,
      "outputs": [
        {
          "output_type": "error",
          "ename": "TypeError",
          "evalue": "ignored",
          "traceback": [
            "\u001b[0;31m---------------------------------------------------------------------------\u001b[0m",
            "\u001b[0;31mTypeError\u001b[0m                                 Traceback (most recent call last)",
            "\u001b[0;32m<ipython-input-29-dff74c29f533>\u001b[0m in \u001b[0;36m<cell line: 5>\u001b[0;34m()\u001b[0m\n\u001b[1;32m      3\u001b[0m   \u001b[0mprint\u001b[0m\u001b[0;34m(\u001b[0m\u001b[0;34m'Hello'\u001b[0m\u001b[0;34m,\u001b[0m\u001b[0mza\u001b[0m\u001b[0;34m)\u001b[0m\u001b[0;34m\u001b[0m\u001b[0;34m\u001b[0m\u001b[0m\n\u001b[1;32m      4\u001b[0m \u001b[0;34m\u001b[0m\u001b[0m\n\u001b[0;32m----> 5\u001b[0;31m \u001b[0mhello\u001b[0m\u001b[0;34m(\u001b[0m\u001b[0;34m)\u001b[0m \u001b[0;31m# missing one required positional argument\u001b[0m\u001b[0;34m\u001b[0m\u001b[0;34m\u001b[0m\u001b[0m\n\u001b[0m",
            "\u001b[0;31mTypeError\u001b[0m: hello() missing 1 required positional argument: 'za'"
          ]
        }
      ]
    },
    {
      "cell_type": "code",
      "source": [
        "def hello(za): \n",
        "  print(za)                  \n",
        "  print('Hello',za)\n",
        "\n",
        "hello('Magesh') # position arguments\n",
        "hello('Earth')# position arguments\n",
        "hello('India')# position arguments"
      ],
      "metadata": {
        "colab": {
          "base_uri": "https://localhost:8080/"
        },
        "id": "vmHplm1YYs0a",
        "outputId": "f708399a-0f8d-49a7-8b52-1f7625c7bd08"
      },
      "execution_count": 34,
      "outputs": [
        {
          "output_type": "stream",
          "name": "stdout",
          "text": [
            "Magesh\n",
            "Hello Magesh\n",
            "Earth\n",
            "Hello Earth\n",
            "India\n",
            "Hello India\n"
          ]
        }
      ]
    },
    {
      "cell_type": "code",
      "source": [
        "def hello(za,zb,zc): \n",
        "  print(\"za\",za)                     \n",
        "  print(\"zb\",zb)                     \n",
        "  print(\"zc\",zc)                     \n",
        "\n",
        "hello(1,2,3) # positional arguments\n",
        "hello(12,1,30) # positional arguments\n",
        "# hello(12,1,30,4) # error"
      ],
      "metadata": {
        "colab": {
          "base_uri": "https://localhost:8080/"
        },
        "id": "JMw2QlW6Yict",
        "outputId": "36fcab09-6607-403a-d5d0-90011ecd834a"
      },
      "execution_count": 38,
      "outputs": [
        {
          "output_type": "stream",
          "name": "stdout",
          "text": [
            "za 1\n",
            "zb 2\n",
            "zc 3\n",
            "za 12\n",
            "zb 1\n",
            "zc 30\n"
          ]
        }
      ]
    },
    {
      "cell_type": "code",
      "source": [
        "def addtion(z):                    # creating a function\n",
        "  add = 0\n",
        "  for i in z:\n",
        "    add = add + i  # add += i\n",
        "  print(add)\n",
        "v = [12,56]\n",
        "addtion(v)\n",
        "\n",
        "# 1. add = 0  ; i = 1 ; 1\n",
        "# 2. add = 1  ; i = 2 ; 3\n",
        "# 3. add = 3  ; i = 3 ; 6\n",
        "# 4. add = 6  ; i = 4 ; 10\n",
        "# 5. add = 10 ; i = 5 ; 15"
      ],
      "metadata": {
        "colab": {
          "base_uri": "https://localhost:8080/"
        },
        "id": "Z-rwCYa-Z2bN",
        "outputId": "b17b060e-f57a-4edb-df9a-8deab419c417"
      },
      "execution_count": 50,
      "outputs": [
        {
          "output_type": "stream",
          "name": "stdout",
          "text": [
            "68\n"
          ]
        }
      ]
    },
    {
      "cell_type": "code",
      "source": [
        "def hello(za,zb,zc): \n",
        "  print(\"za\",za)                     \n",
        "  print(\"zb\",zb)                     \n",
        "  print(\"zc\",zc)                     \n",
        "\n",
        "hello(zb=1,zc=3,za=1) # keyword arguments"
      ],
      "metadata": {
        "colab": {
          "base_uri": "https://localhost:8080/"
        },
        "id": "v23EQBg8a7ML",
        "outputId": "ca3ca889-337b-44f0-be7d-4f86d25adefb"
      },
      "execution_count": 43,
      "outputs": [
        {
          "output_type": "stream",
          "name": "stdout",
          "text": [
            "za 1\n",
            "zb 1\n",
            "zc 3\n"
          ]
        }
      ]
    },
    {
      "cell_type": "code",
      "source": [
        "def hello(*args):  # all given arguments for fun args will be in tuple\n",
        "  print(args)   \n",
        "\n",
        "hello(1,2,3,4,5,6,2,123,1213,12343)\n",
        "hello(1,2,3,4)\n",
        "hello(1,2,3,4,6,3)\n",
        "hello()"
      ],
      "metadata": {
        "colab": {
          "base_uri": "https://localhost:8080/"
        },
        "id": "CtOmYhF-bYww",
        "outputId": "15e78ddb-7fd8-4771-9443-d095d8ac54ca"
      },
      "execution_count": 49,
      "outputs": [
        {
          "output_type": "stream",
          "name": "stdout",
          "text": [
            "(1, 2, 3, 4, 5, 6, 2, 123, 1213, 12343)\n",
            "(1, 2, 3, 4)\n",
            "(1, 2, 3, 4, 6, 3)\n",
            "()\n"
          ]
        }
      ]
    },
    {
      "cell_type": "code",
      "source": [
        "def hello(**args): # all given arguments for fun args will be in dict\n",
        "  print(args)      \n",
        "\n",
        "hello(zb=1,zc=3,za=1)\n",
        "hello(zb=1)\n",
        "hello()"
      ],
      "metadata": {
        "colab": {
          "base_uri": "https://localhost:8080/"
        },
        "id": "4Yzvv1S5cF63",
        "outputId": "f2309aa2-7f77-4917-9957-8b89b99e3153"
      },
      "execution_count": 48,
      "outputs": [
        {
          "output_type": "stream",
          "name": "stdout",
          "text": [
            "{'zb': 1, 'zc': 3, 'za': 1}\n",
            "{'zb': 1}\n",
            "{}\n"
          ]
        }
      ]
    },
    {
      "cell_type": "code",
      "source": [
        "def outputfun():\n",
        "  print(10) # None"
      ],
      "metadata": {
        "id": "VPuyhvSBcqMp"
      },
      "execution_count": 51,
      "outputs": []
    },
    {
      "cell_type": "code",
      "source": [
        "outputfun() + 10"
      ],
      "metadata": {
        "colab": {
          "base_uri": "https://localhost:8080/",
          "height": 186
        },
        "id": "lWhSCnTmfTWj",
        "outputId": "5d2aee06-b69b-46c8-a7ae-17863a0cc9da"
      },
      "execution_count": 53,
      "outputs": [
        {
          "output_type": "stream",
          "name": "stdout",
          "text": [
            "10\n"
          ]
        },
        {
          "output_type": "error",
          "ename": "TypeError",
          "evalue": "ignored",
          "traceback": [
            "\u001b[0;31m---------------------------------------------------------------------------\u001b[0m",
            "\u001b[0;31mTypeError\u001b[0m                                 Traceback (most recent call last)",
            "\u001b[0;32m<ipython-input-53-1d5ff6b5f34c>\u001b[0m in \u001b[0;36m<cell line: 1>\u001b[0;34m()\u001b[0m\n\u001b[0;32m----> 1\u001b[0;31m \u001b[0moutputfun\u001b[0m\u001b[0;34m(\u001b[0m\u001b[0;34m)\u001b[0m \u001b[0;34m+\u001b[0m \u001b[0;36m10\u001b[0m\u001b[0;34m\u001b[0m\u001b[0;34m\u001b[0m\u001b[0m\n\u001b[0m",
            "\u001b[0;31mTypeError\u001b[0m: unsupported operand type(s) for +: 'NoneType' and 'int'"
          ]
        }
      ]
    },
    {
      "cell_type": "code",
      "source": [],
      "metadata": {
        "id": "69g2J3lRfVMi"
      },
      "execution_count": null,
      "outputs": []
    },
    {
      "cell_type": "code",
      "source": [
        "# 1. if a return is not used in a function that function actual output will be None\n",
        "# 2. return 10 # should be used only inside a funciton\n",
        "# 3. once a function return any value that entire function will be terminated."
      ],
      "metadata": {
        "id": "oJ0uZYCjftSi"
      },
      "execution_count": 54,
      "outputs": []
    },
    {
      "cell_type": "code",
      "source": [
        "def outputfun():\n",
        "  print('beacuse of print',20)\n",
        "  print('beacuse of print',10)\n",
        "  print('beacuse of print',1)\n",
        "  print('beacuse of print',111)\n",
        "  return 10 "
      ],
      "metadata": {
        "id": "n2BTkb5Jfzno"
      },
      "execution_count": 62,
      "outputs": []
    },
    {
      "cell_type": "code",
      "source": [
        "outputfun() + 10"
      ],
      "metadata": {
        "colab": {
          "base_uri": "https://localhost:8080/"
        },
        "id": "l4CFqLa0gICP",
        "outputId": "042a2f74-4108-47ee-cfac-6bdd8cded07f"
      },
      "execution_count": 63,
      "outputs": [
        {
          "output_type": "stream",
          "name": "stdout",
          "text": [
            "beacuse of print 20\n",
            "beacuse of print 10\n",
            "beacuse of print 1\n",
            "beacuse of print 111\n"
          ]
        },
        {
          "output_type": "execute_result",
          "data": {
            "text/plain": [
              "20"
            ]
          },
          "metadata": {},
          "execution_count": 63
        }
      ]
    },
    {
      "cell_type": "code",
      "source": [
        "def outputfun():\n",
        "  print(56)\n",
        "  return 'Magesh'\n",
        "  print('out2')\n",
        "\n",
        "  if 4 > 5:\n",
        "    return 3\n",
        "  return 10 \n",
        "  print('out3')\n",
        "  \n",
        "short = outputfun # decleration of function\n",
        "\n",
        "print(short() + '45')\n",
        "print(outputfun() + '45')"
      ],
      "metadata": {
        "colab": {
          "base_uri": "https://localhost:8080/"
        },
        "id": "p961U0zTgJdd",
        "outputId": "b9ee7799-2463-49f3-d5f4-9da0d0068dd0"
      },
      "execution_count": 68,
      "outputs": [
        {
          "output_type": "stream",
          "name": "stdout",
          "text": [
            "56\n",
            "Magesh45\n",
            "56\n",
            "Magesh45\n"
          ]
        }
      ]
    },
    {
      "cell_type": "code",
      "source": [],
      "metadata": {
        "id": "ojQpqLCrhdU8"
      },
      "execution_count": null,
      "outputs": []
    },
    {
      "cell_type": "markdown",
      "source": [
        "#### LAMBDA:"
      ],
      "metadata": {
        "id": "OAg5jf9likFQ"
      }
    },
    {
      "cell_type": "code",
      "source": [
        "# by default it will return the output"
      ],
      "metadata": {
        "id": "KNBvHaZ6jPKe"
      },
      "execution_count": null,
      "outputs": []
    },
    {
      "cell_type": "code",
      "source": [
        "lamvar = lambda a,b,c : a*b+c #  lamvar is the lambda fun"
      ],
      "metadata": {
        "id": "SrNX2Bcxilo5"
      },
      "execution_count": 69,
      "outputs": []
    },
    {
      "cell_type": "code",
      "source": [
        "lamvar(1,2,3) + 5"
      ],
      "metadata": {
        "colab": {
          "base_uri": "https://localhost:8080/"
        },
        "id": "dRqXR5avjh1A",
        "outputId": "3efaf8b8-47d2-4156-bfc2-e100d9ec0597"
      },
      "execution_count": 71,
      "outputs": [
        {
          "output_type": "execute_result",
          "data": {
            "text/plain": [
              "10"
            ]
          },
          "metadata": {},
          "execution_count": 71
        }
      ]
    },
    {
      "cell_type": "code",
      "source": [
        "anything = lambda a,c : a*c\n",
        "a = 8\n",
        "c = 9\n",
        "anything(c,a)"
      ],
      "metadata": {
        "colab": {
          "base_uri": "https://localhost:8080/"
        },
        "id": "ZWsaL9ZijpOi",
        "outputId": "8755ca33-0360-4582-ca44-0c7b8b10699f"
      },
      "execution_count": 72,
      "outputs": [
        {
          "output_type": "execute_result",
          "data": {
            "text/plain": [
              "72"
            ]
          },
          "metadata": {},
          "execution_count": 72
        }
      ]
    },
    {
      "cell_type": "code",
      "source": [],
      "metadata": {
        "id": "cbdFA8ESkg7g"
      },
      "execution_count": null,
      "outputs": []
    },
    {
      "cell_type": "markdown",
      "source": [
        "### FILTER & MAP"
      ],
      "metadata": {
        "id": "Abs66TpnkoLu"
      }
    },
    {
      "cell_type": "code",
      "source": [
        "# map;\n",
        "\n",
        "# syntax:\n",
        "# map(function_declare , iterable_datatype)"
      ],
      "metadata": {
        "id": "hQeN2OHUkqW2"
      },
      "execution_count": 73,
      "outputs": []
    },
    {
      "cell_type": "code",
      "source": [
        "# 1. it takes all the element from iterable_datatype one by one and give to function\n",
        "# 2. the function output will be stored as data\n",
        "# 3. output datatype will be an iterator  |  we have to use any iterable method to convert \n",
        "# 4. map for manipluation\n",
        "\n",
        "#  in map length will never get changed"
      ],
      "metadata": {
        "id": "BnRviTASkzXJ"
      },
      "execution_count": 74,
      "outputs": []
    },
    {
      "cell_type": "code",
      "source": [
        "a = [1,2,3]\n",
        "list(map(lambda a: a*2 , a))"
      ],
      "metadata": {
        "colab": {
          "base_uri": "https://localhost:8080/"
        },
        "id": "NXpnfAnPmLO3",
        "outputId": "69cab37a-e079-4275-f577-fda6ff8ec807"
      },
      "execution_count": 82,
      "outputs": [
        {
          "output_type": "execute_result",
          "data": {
            "text/plain": [
              "[2, 4, 6]"
            ]
          },
          "metadata": {},
          "execution_count": 82
        }
      ]
    },
    {
      "cell_type": "code",
      "source": [
        "a = [1,2,3]\n",
        "list(map(lambda a: a > 1.5 , a))"
      ],
      "metadata": {
        "colab": {
          "base_uri": "https://localhost:8080/"
        },
        "id": "lM6HhejmnZkv",
        "outputId": "8f46cb40-c448-4243-8941-3fe7cd04cf5f"
      },
      "execution_count": 83,
      "outputs": [
        {
          "output_type": "execute_result",
          "data": {
            "text/plain": [
              "[False, True, True]"
            ]
          },
          "metadata": {},
          "execution_count": 83
        }
      ]
    },
    {
      "cell_type": "code",
      "source": [
        "a = [1,2,3]\n",
        "list(map(lambda a: 'Super' , a))"
      ],
      "metadata": {
        "colab": {
          "base_uri": "https://localhost:8080/"
        },
        "id": "cmt7CnYroeG8",
        "outputId": "0de15b7d-1c8d-4b3c-ffb1-43dac0f8b5dd"
      },
      "execution_count": 85,
      "outputs": [
        {
          "output_type": "execute_result",
          "data": {
            "text/plain": [
              "['Super', 'Super', 'Super']"
            ]
          },
          "metadata": {},
          "execution_count": 85
        }
      ]
    },
    {
      "cell_type": "code",
      "source": [
        "def funcheck(a):\n",
        "  return 'Super'\n",
        "  \n",
        "for i in [1,2,3]:\n",
        "  print(funcheck(i))\n",
        "\n",
        "# Super\n",
        "# Super\n",
        "# Super"
      ],
      "metadata": {
        "colab": {
          "base_uri": "https://localhost:8080/"
        },
        "id": "ozxeeIE9pJdt",
        "outputId": "70da364b-b23c-480c-cfc3-c42514471274"
      },
      "execution_count": 84,
      "outputs": [
        {
          "output_type": "stream",
          "name": "stdout",
          "text": [
            "Super\n",
            "Super\n",
            "Super\n"
          ]
        }
      ]
    },
    {
      "cell_type": "code",
      "source": [
        "# filter;\n",
        "\n",
        "# syntax:\n",
        "# filter(function_declare , iterable_datatype)"
      ],
      "metadata": {
        "id": "Byig3_B6ph5f"
      },
      "execution_count": null,
      "outputs": []
    },
    {
      "cell_type": "code",
      "source": [
        "# 1. it takes all the element from iterable_datatype one by one and give to function\n",
        "# 2. the function output if the is True then the input ele will be stored as data\n",
        "# 3. output datatype will be an iterator  |  we have to use any iterable method to convert \n",
        "# 4. filter for condition checking"
      ],
      "metadata": {
        "id": "E-mwrtZKqBTX"
      },
      "execution_count": 86,
      "outputs": []
    },
    {
      "cell_type": "code",
      "source": [
        "a = [0,1,2,3]\n",
        "list(filter(lambda a: 'Super' , a))"
      ],
      "metadata": {
        "colab": {
          "base_uri": "https://localhost:8080/"
        },
        "id": "5aFRyR9kqc6l",
        "outputId": "e0a077e8-eb23-4243-f787-2d6b57e8a2d4"
      },
      "execution_count": 87,
      "outputs": [
        {
          "output_type": "execute_result",
          "data": {
            "text/plain": [
              "[0, 1, 2, 3]"
            ]
          },
          "metadata": {},
          "execution_count": 87
        }
      ]
    },
    {
      "cell_type": "code",
      "source": [
        "a = [0,1,2,3]\n",
        "list(filter(lambda a: a , a))"
      ],
      "metadata": {
        "colab": {
          "base_uri": "https://localhost:8080/"
        },
        "id": "akZLYTPzrAXN",
        "outputId": "5cccdc1e-edba-412d-fb41-386d8d9d8397"
      },
      "execution_count": 88,
      "outputs": [
        {
          "output_type": "execute_result",
          "data": {
            "text/plain": [
              "[1, 2, 3]"
            ]
          },
          "metadata": {},
          "execution_count": 88
        }
      ]
    },
    {
      "cell_type": "code",
      "source": [
        "a = [0,1,2,3]\n",
        "print((list(filter(lambda a: a%2 , a)) ))  # [1,3]\n",
        "list(map(lambda a: a%2 , a))      # [0,1,0,1]"
      ],
      "metadata": {
        "colab": {
          "base_uri": "https://localhost:8080/"
        },
        "id": "pJhGoVlJrfj8",
        "outputId": "5775d87f-1c1a-4535-940e-b14c2afe5fc9"
      },
      "execution_count": 90,
      "outputs": [
        {
          "output_type": "stream",
          "name": "stdout",
          "text": [
            "[1, 3]\n"
          ]
        },
        {
          "output_type": "execute_result",
          "data": {
            "text/plain": [
              "[0, 1, 0, 1]"
            ]
          },
          "metadata": {},
          "execution_count": 90
        }
      ]
    },
    {
      "cell_type": "code",
      "source": [
        "print(0%2)\n",
        "print(1%2)\n",
        "print(2%2)\n",
        "print(3%2)"
      ],
      "metadata": {
        "colab": {
          "base_uri": "https://localhost:8080/"
        },
        "id": "ux2OxV2usnmD",
        "outputId": "655fd9ec-3199-4b71-d072-69a00d6520aa"
      },
      "execution_count": 89,
      "outputs": [
        {
          "output_type": "stream",
          "name": "stdout",
          "text": [
            "0\n",
            "1\n",
            "0\n",
            "1\n"
          ]
        }
      ]
    },
    {
      "cell_type": "code",
      "source": [],
      "metadata": {
        "id": "GsLa5URYssfa"
      },
      "execution_count": null,
      "outputs": []
    }
  ]
}