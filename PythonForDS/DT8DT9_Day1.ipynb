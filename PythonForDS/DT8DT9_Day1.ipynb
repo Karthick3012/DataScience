{
 "cells": [
  {
   "cell_type": "code",
   "execution_count": null,
   "metadata": {
    "id": "s1RWe_eeWStZ"
   },
   "outputs": [],
   "source": [
    "# PYTHON:\n",
    "\n",
    "# 1. It is a versitile language.\n",
    "# 2. It has the huge and vast community.\n",
    "# 3. Python is a scripting language. (i.e) it executes the code line by line."
   ]
  },
  {
   "cell_type": "code",
   "execution_count": 3,
   "metadata": {
    "id": "EELTH8CYYP2_"
   },
   "outputs": [],
   "source": [
    "# DATA TYPE:\n",
    "\n",
    "# for Python  |   for us    |   CONDITION\n",
    "\n",
    "# int             Integer       Non decimal Numbers from -ve Infinity to +ve Infinity \n",
    "# float           Float         decimal Numbers from -ve Infinity to +ve Infinity \n",
    "# bool            Boolean       True or False\n",
    "# str             String        when anything is inside ' ' or \" \" or ''' ''' or \"\"\" \"\"\"\n",
    "# list            List        \n",
    "# tuple           Tuple        \n",
    "# set             Set     \n",
    "# dict            Dict   "
   ]
  },
  {
   "cell_type": "code",
   "execution_count": 8,
   "metadata": {
    "id": "buIFcz7ydL1x"
   },
   "outputs": [],
   "source": [
    "# Magesh\n",
    "# commenting in Python "
   ]
  },
  {
   "cell_type": "code",
   "execution_count": 9,
   "metadata": {
    "colab": {
     "base_uri": "https://localhost:8080/"
    },
    "id": "FkYkZhQebguE",
    "outputId": "7511c9ed-611d-45a9-9c76-4c964038cee8"
   },
   "outputs": [
    {
     "data": {
      "text/plain": [
       "int"
      ]
     },
     "execution_count": 9,
     "metadata": {},
     "output_type": "execute_result"
    }
   ],
   "source": [
    "type(56)  # gives the output of that data type given inside it"
   ]
  },
  {
   "cell_type": "code",
   "execution_count": 10,
   "metadata": {
    "colab": {
     "base_uri": "https://localhost:8080/",
     "height": 166
    },
    "id": "q6Y0n1Jjddie",
    "outputId": "df2ce87a-b36c-4289-d8c4-cabc6a9b6141"
   },
   "outputs": [
    {
     "ename": "NameError",
     "evalue": "ignored",
     "output_type": "error",
     "traceback": [
      "\u001b[0;31m---------------------------------------------------------------------------\u001b[0m",
      "\u001b[0;31mNameError\u001b[0m                                 Traceback (most recent call last)",
      "\u001b[0;32m<ipython-input-10-68024658066a>\u001b[0m in \u001b[0;36m<cell line: 1>\u001b[0;34m()\u001b[0m\n\u001b[0;32m----> 1\u001b[0;31m \u001b[0mtype\u001b[0m\u001b[0;34m(\u001b[0m\u001b[0mMagesh\u001b[0m\u001b[0;34m)\u001b[0m\u001b[0;34m\u001b[0m\u001b[0;34m\u001b[0m\u001b[0m\n\u001b[0m",
      "\u001b[0;31mNameError\u001b[0m: name 'Magesh' is not defined"
     ]
    }
   ],
   "source": [
    "type(Magesh) # will give you error"
   ]
  },
  {
   "cell_type": "code",
   "execution_count": 19,
   "metadata": {
    "colab": {
     "base_uri": "https://localhost:8080/"
    },
    "id": "xQwdQH0DeEd-",
    "outputId": "747007c1-32e6-45d5-f29b-a536d2d26543"
   },
   "outputs": [
    {
     "name": "stdout",
     "output_type": "stream",
     "text": [
      "Magesh\n",
      "<class 'str'>\n"
     ]
    }
   ],
   "source": [
    "# print(type('Magesh') )\n",
    "print(('Magesh') )\n",
    "print(type('Magesh'))  # <class 'str'> only during print which is also equl to str\n",
    "\n",
    "# print is used to show what is happening in the code\n",
    "# print will not give the exact output. It will just show the output"
   ]
  },
  {
   "cell_type": "code",
   "execution_count": 12,
   "metadata": {
    "id": "K_prUtc-eNYL"
   },
   "outputs": [],
   "source": [
    "# INT & FLOAT:"
   ]
  },
  {
   "cell_type": "code",
   "execution_count": 13,
   "metadata": {
    "colab": {
     "base_uri": "https://localhost:8080/"
    },
    "id": "lhrHa05_eTDp",
    "outputId": "bd0d6afe-9002-4669-eb76-562dc778e7a2"
   },
   "outputs": [
    {
     "data": {
      "text/plain": [
       "12"
      ]
     },
     "execution_count": 13,
     "metadata": {},
     "output_type": "execute_result"
    }
   ],
   "source": [
    "10 + 2"
   ]
  },
  {
   "cell_type": "code",
   "execution_count": 14,
   "metadata": {
    "colab": {
     "base_uri": "https://localhost:8080/"
    },
    "id": "_ljnFHiYeW5r",
    "outputId": "c90fffb9-5d9d-44d0-c31b-88cd31aa37a4"
   },
   "outputs": [
    {
     "data": {
      "text/plain": [
       "8"
      ]
     },
     "execution_count": 14,
     "metadata": {},
     "output_type": "execute_result"
    }
   ],
   "source": [
    "10-2"
   ]
  },
  {
   "cell_type": "code",
   "execution_count": 15,
   "metadata": {
    "colab": {
     "base_uri": "https://localhost:8080/"
    },
    "id": "-zhba8oPeYRp",
    "outputId": "7e694f82-c61c-448a-9ded-f9d06e81bd6e"
   },
   "outputs": [
    {
     "data": {
      "text/plain": [
       "20"
      ]
     },
     "execution_count": 15,
     "metadata": {},
     "output_type": "execute_result"
    }
   ],
   "source": [
    "10*2"
   ]
  },
  {
   "cell_type": "code",
   "execution_count": 16,
   "metadata": {
    "colab": {
     "base_uri": "https://localhost:8080/"
    },
    "id": "pN_qM2jKeZx1",
    "outputId": "a6e8eeac-01e4-4aad-e5a2-203d7249b74c"
   },
   "outputs": [
    {
     "data": {
      "text/plain": [
       "5.0"
      ]
     },
     "execution_count": 16,
     "metadata": {},
     "output_type": "execute_result"
    }
   ],
   "source": [
    "10 / 2 # 5.0 / -> division\n",
    "#  for / in python always output data-type will be a float"
   ]
  },
  {
   "cell_type": "code",
   "execution_count": null,
   "metadata": {
    "id": "h3m4gwPCerXZ"
   },
   "outputs": [],
   "source": [
    "# //\n",
    "# floor division:\n",
    "# output will be in quotient "
   ]
  },
  {
   "cell_type": "code",
   "execution_count": 22,
   "metadata": {
    "colab": {
     "base_uri": "https://localhost:8080/"
    },
    "id": "RdHZP25Eg57V",
    "outputId": "689b992e-99a7-4740-ab3a-24a2b9867a14"
   },
   "outputs": [
    {
     "name": "stdout",
     "output_type": "stream",
     "text": [
      "2\n",
      "2.3333333333333335\n"
     ]
    }
   ],
   "source": [
    "print(7//3) \n",
    "print(7/3) # 2.33333"
   ]
  },
  {
   "cell_type": "code",
   "execution_count": 21,
   "metadata": {
    "colab": {
     "base_uri": "https://localhost:8080/"
    },
    "id": "x9zG_kDLgn9X",
    "outputId": "20e34a86-45ea-4058-db54-473d14bbc261"
   },
   "outputs": [
    {
     "data": {
      "text/plain": [
       "1"
      ]
     },
     "execution_count": 21,
     "metadata": {},
     "output_type": "execute_result"
    }
   ],
   "source": [
    "# %\n",
    "# modolo division:\n",
    "# output will be in reminder \n",
    "7 % 3"
   ]
  },
  {
   "cell_type": "code",
   "execution_count": 23,
   "metadata": {
    "colab": {
     "base_uri": "https://localhost:8080/"
    },
    "id": "XIQHhNehhKnn",
    "outputId": "9dd9bf4c-eb1d-4672-eec3-0f2fbfe5f8bb"
   },
   "outputs": [
    {
     "data": {
      "text/plain": [
       "16"
      ]
     },
     "execution_count": 23,
     "metadata": {},
     "output_type": "execute_result"
    }
   ],
   "source": [
    "2 ** 4 # ** means power"
   ]
  },
  {
   "cell_type": "code",
   "execution_count": 24,
   "metadata": {
    "id": "P0P57i6Ah7BI"
   },
   "outputs": [],
   "source": [
    "# when any of of the operand is float that output will be a float"
   ]
  },
  {
   "cell_type": "code",
   "execution_count": 25,
   "metadata": {
    "colab": {
     "base_uri": "https://localhost:8080/"
    },
    "id": "ckNaQVcwiLv0",
    "outputId": "f367dce1-f740-449b-be33-26b12e01b11d"
   },
   "outputs": [
    {
     "data": {
      "text/plain": [
       "10.0"
      ]
     },
     "execution_count": 25,
     "metadata": {},
     "output_type": "execute_result"
    }
   ],
   "source": [
    "4.5 + 5.5 # 10.0"
   ]
  },
  {
   "cell_type": "code",
   "execution_count": 47,
   "metadata": {
    "colab": {
     "base_uri": "https://localhost:8080/"
    },
    "id": "J0TZ43WliYi0",
    "outputId": "980a961e-8824-4a8f-e58f-7e887826d355"
   },
   "outputs": [
    {
     "name": "stdout",
     "output_type": "stream",
     "text": [
      "45.0\n",
      "<class 'float'>\n"
     ]
    }
   ],
   "source": [
    "a = 4.5 * 10 # 45.0\n",
    "print(a)         # 45.0\n",
    "print(type(a))   # float"
   ]
  },
  {
   "cell_type": "code",
   "execution_count": 27,
   "metadata": {
    "colab": {
     "base_uri": "https://localhost:8080/"
    },
    "id": "Wz_idnAXigmt",
    "outputId": "ea39afb7-fbe8-4f2f-99ed-09b9a2cc3307"
   },
   "outputs": [
    {
     "name": "stdout",
     "output_type": "stream",
     "text": [
      "4.0\n"
     ]
    }
   ],
   "source": [
    "print(10//2.5) # 4.0\n"
   ]
  },
  {
   "cell_type": "code",
   "execution_count": 28,
   "metadata": {
    "colab": {
     "base_uri": "https://localhost:8080/"
    },
    "id": "ViQsDjJ2ixrc",
    "outputId": "814d8d96-079b-4c84-ad4f-759ccdc187ba"
   },
   "outputs": [
    {
     "name": "stdout",
     "output_type": "stream",
     "text": [
      "4.0\n"
     ]
    }
   ],
   "source": [
    "print(12//2.5) # 4.0\n"
   ]
  },
  {
   "cell_type": "code",
   "execution_count": 29,
   "metadata": {
    "colab": {
     "base_uri": "https://localhost:8080/"
    },
    "id": "pxQ4Ml_Ejj94",
    "outputId": "7c5e027a-829f-41a6-9946-e2451e5b06af"
   },
   "outputs": [
    {
     "data": {
      "text/plain": [
       "48.0"
      ]
     },
     "execution_count": 29,
     "metadata": {},
     "output_type": "execute_result"
    }
   ],
   "source": [
    "120 // 2.5 # 48.0"
   ]
  },
  {
   "cell_type": "code",
   "execution_count": 37,
   "metadata": {
    "colab": {
     "base_uri": "https://localhost:8080/"
    },
    "id": "dhtIRUBnk2SX",
    "outputId": "7da8f63f-74b5-42aa-f699-859412292d09"
   },
   "outputs": [
    {
     "data": {
      "text/plain": [
       "0.5"
      ]
     },
     "execution_count": 37,
     "metadata": {},
     "output_type": "execute_result"
    }
   ],
   "source": [
    "13 % 2.5"
   ]
  },
  {
   "cell_type": "code",
   "execution_count": null,
   "metadata": {
    "id": "1aP3LzZ6jNs5"
   },
   "outputs": [],
   "source": [
    "# Equality opeartor:\n",
    "\n",
    "> , < , >= , <= , != (i.e) not equal , == (comparision)\n",
    "\n",
    "# the output of this will be in bool"
   ]
  },
  {
   "cell_type": "code",
   "execution_count": 30,
   "metadata": {
    "colab": {
     "base_uri": "https://localhost:8080/"
    },
    "id": "TZ-J4srgj5Kg",
    "outputId": "abefeb8b-ba29-4910-da6a-04e24b954158"
   },
   "outputs": [
    {
     "data": {
      "text/plain": [
       "True"
      ]
     },
     "execution_count": 30,
     "metadata": {},
     "output_type": "execute_result"
    }
   ],
   "source": [
    "45 >= 45"
   ]
  },
  {
   "cell_type": "code",
   "execution_count": 31,
   "metadata": {
    "colab": {
     "base_uri": "https://localhost:8080/"
    },
    "id": "64yl-r-ekYEj",
    "outputId": "744408d5-a064-4b0d-df2f-c51aa4316f98"
   },
   "outputs": [
    {
     "data": {
      "text/plain": [
       "False"
      ]
     },
     "execution_count": 31,
     "metadata": {},
     "output_type": "execute_result"
    }
   ],
   "source": [
    "45 != 45"
   ]
  },
  {
   "cell_type": "code",
   "execution_count": 32,
   "metadata": {
    "colab": {
     "base_uri": "https://localhost:8080/"
    },
    "id": "3Eyime-Dkh_O",
    "outputId": "14c95f6b-c14f-4455-ca36-de63d3e7f3d1"
   },
   "outputs": [
    {
     "data": {
      "text/plain": [
       "True"
      ]
     },
     "execution_count": 32,
     "metadata": {},
     "output_type": "execute_result"
    }
   ],
   "source": [
    "45 == 45"
   ]
  },
  {
   "cell_type": "code",
   "execution_count": 38,
   "metadata": {
    "id": "U1icMxw8kyHc"
   },
   "outputs": [],
   "source": [
    "# DECLARATION OF VARIABLE:\n",
    "\n",
    "# if anything is not in datatype it will be considired as variable.\n",
    "# python will check it it was assigned / declared to any datatype."
   ]
  },
  {
   "cell_type": "code",
   "execution_count": 39,
   "metadata": {
    "colab": {
     "base_uri": "https://localhost:8080/",
     "height": 166
    },
    "id": "z65-Zn0dlgjS",
    "outputId": "a3d33bf8-124c-4d5f-e3d2-5faac5727cc6"
   },
   "outputs": [
    {
     "ename": "NameError",
     "evalue": "ignored",
     "output_type": "error",
     "traceback": [
      "\u001b[0;31m---------------------------------------------------------------------------\u001b[0m",
      "\u001b[0;31mNameError\u001b[0m                                 Traceback (most recent call last)",
      "\u001b[0;32m<ipython-input-39-22ef3fb62a76>\u001b[0m in \u001b[0;36m<cell line: 1>\u001b[0;34m()\u001b[0m\n\u001b[0;32m----> 1\u001b[0;31m \u001b[0mname\u001b[0m\u001b[0;34m\u001b[0m\u001b[0;34m\u001b[0m\u001b[0m\n\u001b[0m",
      "\u001b[0;31mNameError\u001b[0m: name 'name' is not defined"
     ]
    }
   ],
   "source": [
    "name "
   ]
  },
  {
   "cell_type": "code",
   "execution_count": 40,
   "metadata": {
    "id": "kcRGNttVmGkk"
   },
   "outputs": [],
   "source": [
    "cricket = 'Sachin'\n",
    "\n",
    "# i have assigned / declared Sachin to cricket\n"
   ]
  },
  {
   "cell_type": "code",
   "execution_count": 44,
   "metadata": {
    "colab": {
     "base_uri": "https://localhost:8080/",
     "height": 70
    },
    "id": "zf_DQ4vZmd0c",
    "outputId": "208f3a48-6307-4ab6-8a91-349f5a74ae48"
   },
   "outputs": [
    {
     "name": "stdout",
     "output_type": "stream",
     "text": [
      "Sachin\n",
      "<class 'str'>\n"
     ]
    },
    {
     "data": {
      "application/vnd.google.colaboratory.intrinsic+json": {
       "type": "string"
      },
      "text/plain": [
       "'Magesh'"
      ]
     },
     "execution_count": 44,
     "metadata": {},
     "output_type": "execute_result"
    }
   ],
   "source": [
    "print(cricket)\n",
    "print(type(cricket))\n",
    "'Magesh'"
   ]
  },
  {
   "cell_type": "code",
   "execution_count": null,
   "metadata": {
    "id": "hgzLmYUmmnxx"
   },
   "outputs": [],
   "source": [
    "a = 1\n",
    "b = 2\n",
    "c = 3\n",
    "d = a / b * c // b ** b + 40 /20 - 10 % b - c // b\n",
    "\n",
    "# precedence rule:\n",
    "\n",
    "# B   - Bracket\n",
    "# O   - Order\n",
    "# D   - Division  M - Multi\n",
    "# A   - Addition  S - Sub\n"
   ]
  },
  {
   "cell_type": "code",
   "execution_count": 1,
   "metadata": {
    "id": "mRmn-EX1nz1Y"
   },
   "outputs": [
    {
     "name": "stdout",
     "output_type": "stream",
     "text": [
      "lena\n"
     ]
    }
   ],
   "source": [
    "a=\"I love india\"\n",
    "print(a[2::3])"
   ]
  },
  {
   "cell_type": "code",
   "execution_count": null,
   "metadata": {
    "id": "gFfSiK1yn4fB"
   },
   "outputs": [],
   "source": []
  }
 ],
 "metadata": {
  "colab": {
   "provenance": []
  },
  "kernelspec": {
   "display_name": "Python 3 (ipykernel)",
   "language": "python",
   "name": "python3"
  },
  "language_info": {
   "codemirror_mode": {
    "name": "ipython",
    "version": 3
   },
   "file_extension": ".py",
   "mimetype": "text/x-python",
   "name": "python",
   "nbconvert_exporter": "python",
   "pygments_lexer": "ipython3",
   "version": "3.9.13"
  }
 },
 "nbformat": 4,
 "nbformat_minor": 1
}
