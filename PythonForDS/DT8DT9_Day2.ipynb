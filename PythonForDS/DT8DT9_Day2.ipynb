{
 "cells": [
  {
   "cell_type": "markdown",
   "metadata": {
    "id": "uf0ZeV47FC9c"
   },
   "source": [
    "### DECLERATION OF VARIABLE"
   ]
  },
  {
   "cell_type": "code",
   "execution_count": 4,
   "metadata": {
    "id": "xuQXo8_ZEoVO"
   },
   "outputs": [],
   "source": [
    "a = 'I love India'\n",
    "\n",
    "# a is assigned to 'I love India'\n",
    "# a is variable\n",
    "\n",
    "# variable is something which is assigned to any datatype"
   ]
  },
  {
   "cell_type": "code",
   "execution_count": 5,
   "metadata": {
    "colab": {
     "base_uri": "https://localhost:8080/"
    },
    "id": "Ny4mQi54FHmC",
    "outputId": "0db9388f-b2e5-4882-b199-a263fb7fcdb3"
   },
   "outputs": [
    {
     "name": "stdout",
     "output_type": "stream",
     "text": [
      "I love India\n"
     ]
    }
   ],
   "source": [
    "print(a)"
   ]
  },
  {
   "cell_type": "code",
   "execution_count": 7,
   "metadata": {
    "colab": {
     "base_uri": "https://localhost:8080/"
    },
    "id": "qJZdYPoiFHu4",
    "outputId": "078ce323-dc8c-45df-8bd7-c03ba6371e5d"
   },
   "outputs": [
    {
     "name": "stdout",
     "output_type": "stream",
     "text": [
      "35\n"
     ]
    }
   ],
   "source": [
    "a = 10\n",
    "b = 20\n",
    "c = 5\n",
    "print(a + b + c)"
   ]
  },
  {
   "cell_type": "code",
   "execution_count": 8,
   "metadata": {
    "colab": {
     "base_uri": "https://localhost:8080/"
    },
    "id": "giV0Q1JFFH4y",
    "outputId": "27a9c009-fd1f-45bb-e29a-f4bc7c300406"
   },
   "outputs": [
    {
     "name": "stdout",
     "output_type": "stream",
     "text": [
      "350\n"
     ]
    }
   ],
   "source": [
    "a = 100\n",
    "b = 200\n",
    "c = 50\n",
    "print(a + b + c)"
   ]
  },
  {
   "cell_type": "code",
   "execution_count": null,
   "metadata": {
    "id": "FdFgv3X4F8x7"
   },
   "outputs": [],
   "source": [
    "a = 100\n",
    "a = 90\n",
    "b = 200\n",
    "c = 50\n",
    "print(a + b + c)"
   ]
  },
  {
   "cell_type": "code",
   "execution_count": 9,
   "metadata": {
    "colab": {
     "base_uri": "https://localhost:8080/"
    },
    "id": "ydQiBkeTGLjM",
    "outputId": "4383ac55-adc1-4495-9aba-318803d255a9"
   },
   "outputs": [
    {
     "name": "stdout",
     "output_type": "stream",
     "text": [
      "<class 'str'>\n"
     ]
    }
   ],
   "source": [
    "a = 100\n",
    "a = '90'\n",
    "print(type(a)) # <class 'str'>  str"
   ]
  },
  {
   "cell_type": "code",
   "execution_count": 10,
   "metadata": {
    "colab": {
     "base_uri": "https://localhost:8080/"
    },
    "id": "N8ZqtnieGcOX",
    "outputId": "3e758533-dd49-4ea2-a475-8c6a2690a127"
   },
   "outputs": [
    {
     "name": "stdout",
     "output_type": "stream",
     "text": [
      "130\n"
     ]
    }
   ],
   "source": [
    "a = 100\n",
    "a = a + 30\n",
    "print(a)"
   ]
  },
  {
   "cell_type": "code",
   "execution_count": null,
   "metadata": {
    "id": "mauQjUJAG8JD"
   },
   "outputs": [],
   "source": [
    "int()     # int function\n",
    "\n",
    "# 1. can convert any number into int\n",
    "# 2. can convert str into number if all elements are numbers\n",
    "\n",
    "\n",
    "float()   # float function\n",
    "\n",
    "# 1. can convert any number into float\n",
    "# 2. can convert str into number if all elements are numbers can have one decimal\n"
   ]
  },
  {
   "cell_type": "code",
   "execution_count": 12,
   "metadata": {
    "colab": {
     "base_uri": "https://localhost:8080/"
    },
    "id": "FpvO3AMdHPDM",
    "outputId": "1b3966fa-15e2-4518-abd2-b5f5cce100e0"
   },
   "outputs": [
    {
     "name": "stdout",
     "output_type": "stream",
     "text": [
      "567\n",
      "567.0\n"
     ]
    }
   ],
   "source": [
    "print(int(567.789))\n",
    "print(float(567))"
   ]
  },
  {
   "cell_type": "code",
   "execution_count": 23,
   "metadata": {
    "colab": {
     "base_uri": "https://localhost:8080/"
    },
    "id": "OnyUMBugIfIr",
    "outputId": "560e1462-6fd2-4795-e52c-b83aa426bbb7"
   },
   "outputs": [
    {
     "name": "stdout",
     "output_type": "stream",
     "text": [
      "67890\n",
      "<class 'int'>\n",
      "67890\n",
      "<class 'str'>\n"
     ]
    }
   ],
   "source": [
    "b = '67890'\n",
    "a = int(b)\n",
    "print(a)\n",
    "print(type(a))\n",
    "\n",
    "print(b)\n",
    "print(type(b))"
   ]
  },
  {
   "cell_type": "code",
   "execution_count": 26,
   "metadata": {
    "colab": {
     "base_uri": "https://localhost:8080/"
    },
    "id": "24nAfZBJJAC3",
    "outputId": "951806f1-fef1-4d67-d4b5-7e9444cd998d"
   },
   "outputs": [
    {
     "name": "stdout",
     "output_type": "stream",
     "text": [
      "67890\n",
      "<class 'int'>\n",
      "67890\n",
      "<class 'str'>\n"
     ]
    }
   ],
   "source": [
    "b = '678.90' # error\n",
    "a = int(b)\n",
    "print(a)\n",
    "print(type(a))\n",
    "\n",
    "print(b)\n",
    "print(type(b))"
   ]
  },
  {
   "cell_type": "code",
   "execution_count": 27,
   "metadata": {
    "colab": {
     "base_uri": "https://localhost:8080/"
    },
    "id": "X57j6WJXJTAr",
    "outputId": "60fee8a1-bb11-4e9f-b25f-463e8e45fdc2"
   },
   "outputs": [
    {
     "name": "stdout",
     "output_type": "stream",
     "text": [
      "67890.0\n",
      "<class 'float'>\n",
      "67890\n",
      "<class 'str'>\n"
     ]
    }
   ],
   "source": [
    "b = '67890' \n",
    "a = float(b)\n",
    "print(a)\n",
    "print(type(a))\n",
    "\n",
    "print(b)\n",
    "print(type(b))"
   ]
  },
  {
   "cell_type": "code",
   "execution_count": 28,
   "metadata": {
    "colab": {
     "base_uri": "https://localhost:8080/"
    },
    "id": "Xg_2npZkJcFH",
    "outputId": "d5f5a342-4a38-42b7-9279-16cabe07f939"
   },
   "outputs": [
    {
     "name": "stdout",
     "output_type": "stream",
     "text": [
      "678.9\n",
      "<class 'float'>\n",
      "678.90\n",
      "<class 'str'>\n"
     ]
    }
   ],
   "source": [
    "b = '678.90' \n",
    "a = float(b)\n",
    "print(a)\n",
    "print(type(a))\n",
    "\n",
    "print(b)\n",
    "print(type(b))"
   ]
  },
  {
   "cell_type": "code",
   "execution_count": null,
   "metadata": {
    "id": "j8qT236pKWU-"
   },
   "outputs": [],
   "source": [
    "int() # 0\n",
    "float() # 0.0\n",
    "bool() # False\n",
    "str() # ''"
   ]
  },
  {
   "cell_type": "markdown",
   "metadata": {
    "id": "xoLuSEOdEY01"
   },
   "source": [
    "### STRING:"
   ]
  },
  {
   "cell_type": "code",
   "execution_count": 6,
   "metadata": {
    "colab": {
     "base_uri": "https://localhost:8080/",
     "height": 53
    },
    "id": "INcDipDREFRJ",
    "outputId": "4f98aaba-03a7-4578-e966-f46b13ab92be"
   },
   "outputs": [
    {
     "name": "stdout",
     "output_type": "stream",
     "text": [
      "MAGESH\n"
     ]
    },
    {
     "data": {
      "application/vnd.google.colaboratory.intrinsic+json": {
       "type": "string"
      },
      "text/plain": [
       "'MAGESH'"
      ]
     },
     "execution_count": 6,
     "metadata": {},
     "output_type": "execute_result"
    }
   ],
   "source": [
    "print('MAGESH')\n",
    "'MAGESH'"
   ]
  },
  {
   "cell_type": "code",
   "execution_count": 2,
   "metadata": {
    "colab": {
     "base_uri": "https://localhost:8080/"
    },
    "id": "TjQKbEthEaJJ",
    "outputId": "b632462b-9f49-467e-acaa-23f13d78c1da"
   },
   "outputs": [
    {
     "data": {
      "text/plain": [
       "str"
      ]
     },
     "execution_count": 2,
     "metadata": {},
     "output_type": "execute_result"
    }
   ],
   "source": [
    "type('MAGESH')"
   ]
  },
  {
   "cell_type": "code",
   "execution_count": 15,
   "metadata": {
    "id": "yHHQVkMXG2hr"
   },
   "outputs": [],
   "source": [
    "a = 'I love India'\n",
    "\n",
    "\n",
    "# every element will be considired as str elements\n",
    "# str is a homogeneous data type"
   ]
  },
  {
   "cell_type": "code",
   "execution_count": 17,
   "metadata": {
    "colab": {
     "base_uri": "https://localhost:8080/"
    },
    "id": "tWPQlwGeHwfA",
    "outputId": "fc0b9c11-8ad6-47fc-b86f-ba87532f7595"
   },
   "outputs": [
    {
     "data": {
      "text/plain": [
       "19"
      ]
     },
     "execution_count": 17,
     "metadata": {},
     "output_type": "execute_result"
    }
   ],
   "source": [
    "a = 'I love    India &*('\n",
    "len(a)"
   ]
  },
  {
   "cell_type": "code",
   "execution_count": 29,
   "metadata": {
    "colab": {
     "base_uri": "https://localhost:8080/",
     "height": 36
    },
    "id": "y743IiCKH6IR",
    "outputId": "9290f66b-c73d-42a3-f387-b6b0aa4666ba"
   },
   "outputs": [
    {
     "data": {
      "application/vnd.google.colaboratory.intrinsic+json": {
       "type": "string"
      },
      "text/plain": [
       "''"
      ]
     },
     "execution_count": 29,
     "metadata": {},
     "output_type": "execute_result"
    }
   ],
   "source": [
    "str()\n",
    "# any data type can be converted into str"
   ]
  },
  {
   "cell_type": "code",
   "execution_count": 33,
   "metadata": {
    "colab": {
     "base_uri": "https://localhost:8080/"
    },
    "id": "cWMsfw77Jvh8",
    "outputId": "700530ef-45af-45c7-f857-32b719d70535"
   },
   "outputs": [
    {
     "name": "stdout",
     "output_type": "stream",
     "text": [
      "67.89\n",
      "<class 'str'>\n",
      "67.89\n",
      "<class 'float'>\n"
     ]
    }
   ],
   "source": [
    "b = 67.890\n",
    "a = str(b)\n",
    "print(a)\n",
    "print(type(a))\n",
    "\n",
    "print(b)\n",
    "print(type(b))"
   ]
  },
  {
   "cell_type": "markdown",
   "metadata": {
    "id": "AUPmMdBfKtNB"
   },
   "source": [
    "#### INDEXING:"
   ]
  },
  {
   "cell_type": "code",
   "execution_count": 41,
   "metadata": {
    "id": "2kLB4QO0Kuzx"
   },
   "outputs": [],
   "source": [
    "# to take one element at a time from a str\n",
    "\n",
    "a = 'I love India'\n",
    "  #  0123456789.."
   ]
  },
  {
   "cell_type": "code",
   "execution_count": 39,
   "metadata": {
    "id": "H2qkQ4KEK3nG"
   },
   "outputs": [],
   "source": [
    "# syntax:\n",
    "# str_variable[index_no]\n",
    "\n",
    "# index_no:\n",
    "# all the elements in the str has its own unique no (i.e) index_no\n",
    "# starts from 0 and ends with len(str_variable) -1"
   ]
  },
  {
   "cell_type": "code",
   "execution_count": 42,
   "metadata": {
    "colab": {
     "base_uri": "https://localhost:8080/",
     "height": 36
    },
    "id": "3KrjF9EmMDm4",
    "outputId": "95051845-a4a4-47eb-8626-821ed3d6a933"
   },
   "outputs": [
    {
     "data": {
      "application/vnd.google.colaboratory.intrinsic+json": {
       "type": "string"
      },
      "text/plain": [
       "'I'"
      ]
     },
     "execution_count": 42,
     "metadata": {},
     "output_type": "execute_result"
    }
   ],
   "source": [
    "a[7]"
   ]
  },
  {
   "cell_type": "markdown",
   "metadata": {
    "id": "NLqdd1GgMSXR"
   },
   "source": [
    "#### SLICING:"
   ]
  },
  {
   "cell_type": "code",
   "execution_count": null,
   "metadata": {
    "id": "BbnBNZPHMG1N"
   },
   "outputs": [],
   "source": [
    "# to take MORE THAN one element at a time from a str\n",
    "\n",
    "# syntax:\n",
    "\n",
    "## str_variable[ start_index_no : end_index_no - 1 : step ] step by default it will be 1 what python will do\n",
    "\n",
    "# str_variable[ start_index_no : end_index_no + 1 : step ] step/skip by default it will be 1 user should do\n"
   ]
  },
  {
   "cell_type": "code",
   "execution_count": 47,
   "metadata": {
    "colab": {
     "base_uri": "https://localhost:8080/"
    },
    "id": "jvWiJTueMT23",
    "outputId": "a69e1029-a886-4b90-df16-783808e1dd0d"
   },
   "outputs": [
    {
     "name": "stdout",
     "output_type": "stream",
     "text": [
      "love\n",
      "love\n",
      "love\n",
      "love\n"
     ]
    }
   ],
   "source": [
    "print(a[2:5+1])\n",
    "print(a[2:6])\n",
    "print(a[2:6:])\n",
    "print(a[2:6:1])"
   ]
  },
  {
   "cell_type": "code",
   "execution_count": 44,
   "metadata": {
    "id": "49oV4029NqEf"
   },
   "outputs": [],
   "source": [
    "a = 'I love India'\n",
    "  #  0123456789.."
   ]
  },
  {
   "cell_type": "code",
   "execution_count": 50,
   "metadata": {
    "colab": {
     "base_uri": "https://localhost:8080/"
    },
    "id": "y2LvZgXxN3GN",
    "outputId": "8ed92a3a-fe06-4255-a92c-0b5151d9cc61"
   },
   "outputs": [
    {
     "name": "stdout",
     "output_type": "stream",
     "text": [
      "lov\n",
      "I lov\n",
      "ve India\n",
      "I love India\n"
     ]
    }
   ],
   "source": [
    "print(a[2:5])\n",
    "print(a[:5]) # 'I lov'\n",
    "print(a[4:]) # 've India'\n",
    "print(a[:]) # 'I love India'"
   ]
  },
  {
   "cell_type": "code",
   "execution_count": null,
   "metadata": {
    "id": "vMjDWelGN5KZ"
   },
   "outputs": [],
   "source": [
    "a = 'I love India'\n",
    "  #  0123456789.."
   ]
  },
  {
   "cell_type": "code",
   "execution_count": 51,
   "metadata": {
    "colab": {
     "base_uri": "https://localhost:8080/"
    },
    "id": "XSkgem80PJAJ",
    "outputId": "9a38f060-9b6c-477b-ec09-0a2b019227ad"
   },
   "outputs": [
    {
     "name": "stdout",
     "output_type": "stream",
     "text": [
      "I love India\n"
     ]
    }
   ],
   "source": [
    "print(a[::])"
   ]
  },
  {
   "cell_type": "code",
   "execution_count": 52,
   "metadata": {
    "colab": {
     "base_uri": "https://localhost:8080/"
    },
    "id": "M2nA_a9dPY_P",
    "outputId": "8ce307b5-b753-44bf-bd08-a82f3a48638e"
   },
   "outputs": [
    {
     "name": "stdout",
     "output_type": "stream",
     "text": [
      "Ilv ni\n"
     ]
    }
   ],
   "source": [
    "print(a[::2])"
   ]
  },
  {
   "cell_type": "code",
   "execution_count": 53,
   "metadata": {
    "colab": {
     "base_uri": "https://localhost:8080/"
    },
    "id": "cWr0_qJlP3Ve",
    "outputId": "aedb9e04-1015-4ec0-dbec-4621e5ee31db"
   },
   "outputs": [
    {
     "name": "stdout",
     "output_type": "stream",
     "text": [
      "lena\n"
     ]
    }
   ],
   "source": [
    "print(a[2::3])\n"
   ]
  },
  {
   "cell_type": "code",
   "execution_count": 54,
   "metadata": {
    "id": "gMyQZbK5Qet9"
   },
   "outputs": [],
   "source": [
    "# to take one element at a time from a str\n",
    "\n",
    "a = 'I love India'\n",
    "  #  ...987654321 -ve negative index-numbers"
   ]
  },
  {
   "cell_type": "code",
   "execution_count": 55,
   "metadata": {
    "colab": {
     "base_uri": "https://localhost:8080/",
     "height": 36
    },
    "id": "dZS-YYovRV4z",
    "outputId": "aa787173-b959-4685-ecc6-946785e21626"
   },
   "outputs": [
    {
     "data": {
      "application/vnd.google.colaboratory.intrinsic+json": {
       "type": "string"
      },
      "text/plain": [
       "'I'"
      ]
     },
     "execution_count": 55,
     "metadata": {},
     "output_type": "execute_result"
    }
   ],
   "source": [
    "a[-5]"
   ]
  },
  {
   "cell_type": "code",
   "execution_count": 59,
   "metadata": {
    "colab": {
     "base_uri": "https://localhost:8080/"
    },
    "id": "wZam2uxORW5D",
    "outputId": "e131e859-fa59-4cbc-99f0-a71cee279b9b"
   },
   "outputs": [
    {
     "name": "stdout",
     "output_type": "stream",
     "text": [
      "In\n",
      "Ind\n",
      "Ind\n",
      "Ind\n",
      "Ind\n"
     ]
    }
   ],
   "source": [
    "print(a[-5:-3])\n",
    "print(a[-3:-5])\n",
    "print(a[-5:-3 +1])\n",
    "print(a[-5:-2])\n",
    "print(a[-5:-2])\n",
    "print(a[7:-2])"
   ]
  },
  {
   "cell_type": "code",
   "execution_count": null,
   "metadata": {
    "id": "Q4IycbjtR6JA"
   },
   "outputs": [],
   "source": [
    "# reverse slicing\n",
    "\n",
    "# syntax:\n",
    "# str_variable[ start_index_no : end_index_no - 1 : -step ] step/skip by default it will be 1 user should do\n"
   ]
  },
  {
   "cell_type": "code",
   "execution_count": 60,
   "metadata": {
    "id": "nZeS8vtETcrn"
   },
   "outputs": [],
   "source": [
    "a = 'I love India'\n",
    "  #  0123456789.."
   ]
  },
  {
   "cell_type": "code",
   "execution_count": 64,
   "metadata": {
    "colab": {
     "base_uri": "https://localhost:8080/",
     "height": 36
    },
    "id": "gaRYlyvkTdyH",
    "outputId": "3c059b1f-5f2d-4354-b66d-2f78c10f7625"
   },
   "outputs": [
    {
     "data": {
      "application/vnd.google.colaboratory.intrinsic+json": {
       "type": "string"
      },
      "text/plain": [
       "'dnI'"
      ]
     },
     "execution_count": 64,
     "metadata": {},
     "output_type": "execute_result"
    }
   ],
   "source": [
    "a[2:6] # forward\n",
    "a[2:6:-1] # reverse\n",
    "a[5:2-1:-1] # reverse\n",
    "a[9:7-1:-1] # reverse\n",
    "a[9:7-1:-1] # reverse"
   ]
  },
  {
   "cell_type": "code",
   "execution_count": 66,
   "metadata": {
    "colab": {
     "base_uri": "https://localhost:8080/"
    },
    "id": "AVeQorRnTgfo",
    "outputId": "1c1af0ab-9b8a-4dda-dead-1ba13d381588"
   },
   "outputs": [
    {
     "name": "stdout",
     "output_type": "stream",
     "text": [
      "magesh\n",
      "hsegam\n"
     ]
    }
   ],
   "source": [
    "a = 'magesh'\n",
    "print(a[::1])\n",
    "print(a[::-1])"
   ]
  },
  {
   "cell_type": "code",
   "execution_count": null,
   "metadata": {
    "id": "et1zlnKLWVua"
   },
   "outputs": [],
   "source": [
    "# int , float , bool - non iterable datatype\n",
    "# str , list , tuple , set ,dict -  iterable datatype"
   ]
  },
  {
   "cell_type": "markdown",
   "metadata": {
    "id": "vRw74dEzWlH3"
   },
   "source": [
    "### STRING METHODS:"
   ]
  },
  {
   "cell_type": "code",
   "execution_count": 68,
   "metadata": {
    "colab": {
     "base_uri": "https://localhost:8080/"
    },
    "id": "4l0kBEFVWm3u",
    "outputId": "d4d4b867-6265-4c95-c648-eb267e9f04d0"
   },
   "outputs": [
    {
     "data": {
      "text/plain": [
       "['__add__',\n",
       " '__class__',\n",
       " '__contains__',\n",
       " '__delattr__',\n",
       " '__dir__',\n",
       " '__doc__',\n",
       " '__eq__',\n",
       " '__format__',\n",
       " '__ge__',\n",
       " '__getattribute__',\n",
       " '__getitem__',\n",
       " '__getnewargs__',\n",
       " '__gt__',\n",
       " '__hash__',\n",
       " '__init__',\n",
       " '__init_subclass__',\n",
       " '__iter__',\n",
       " '__le__',\n",
       " '__len__',\n",
       " '__lt__',\n",
       " '__mod__',\n",
       " '__mul__',\n",
       " '__ne__',\n",
       " '__new__',\n",
       " '__reduce__',\n",
       " '__reduce_ex__',\n",
       " '__repr__',\n",
       " '__rmod__',\n",
       " '__rmul__',\n",
       " '__setattr__',\n",
       " '__sizeof__',\n",
       " '__str__',\n",
       " '__subclasshook__',\n",
       " 'capitalize',\n",
       " 'casefold',\n",
       " 'center',\n",
       " 'count',\n",
       " 'encode',\n",
       " 'endswith',\n",
       " 'expandtabs',\n",
       " 'find',\n",
       " 'format',\n",
       " 'format_map',\n",
       " 'index',\n",
       " 'isalnum',\n",
       " 'isalpha',\n",
       " 'isascii',\n",
       " 'isdecimal',\n",
       " 'isdigit',\n",
       " 'isidentifier',\n",
       " 'islower',\n",
       " 'isnumeric',\n",
       " 'isprintable',\n",
       " 'isspace',\n",
       " 'istitle',\n",
       " 'isupper',\n",
       " 'join',\n",
       " 'ljust',\n",
       " 'lower',\n",
       " 'lstrip',\n",
       " 'maketrans',\n",
       " 'partition',\n",
       " 'removeprefix',\n",
       " 'removesuffix',\n",
       " 'replace',\n",
       " 'rfind',\n",
       " 'rindex',\n",
       " 'rjust',\n",
       " 'rpartition',\n",
       " 'rsplit',\n",
       " 'rstrip',\n",
       " 'split',\n",
       " 'splitlines',\n",
       " 'startswith',\n",
       " 'strip',\n",
       " 'swapcase',\n",
       " 'title',\n",
       " 'translate',\n",
       " 'upper',\n",
       " 'zfill']"
      ]
     },
     "execution_count": 68,
     "metadata": {},
     "output_type": "execute_result"
    }
   ],
   "source": [
    "dir(str)"
   ]
  },
  {
   "cell_type": "code",
   "execution_count": null,
   "metadata": {
    "id": "mp75dgZJX7IQ"
   },
   "outputs": [],
   "source": [
    "# upper \n",
    "# lower\n",
    "# isalpha\n",
    "# isalnum\n",
    "# isdigit\n",
    "\n",
    "# count\n",
    "# index\n",
    "# find\n",
    "# join\n",
    "# split\n"
   ]
  },
  {
   "cell_type": "code",
   "execution_count": 70,
   "metadata": {
    "colab": {
     "base_uri": "https://localhost:8080/"
    },
    "id": "IOtekZ0OW-oY",
    "outputId": "42e8cea9-a7de-42a2-fc06-9829344f2ce4"
   },
   "outputs": [
    {
     "data": {
      "text/plain": [
       "True"
      ]
     },
     "execution_count": 70,
     "metadata": {},
     "output_type": "execute_result"
    }
   ],
   "source": [
    "a = 'Magesh'\n",
    "a.endswith('h')"
   ]
  },
  {
   "cell_type": "code",
   "execution_count": 73,
   "metadata": {
    "colab": {
     "base_uri": "https://localhost:8080/"
    },
    "id": "STGbfyKtYQI5",
    "outputId": "65344cf3-1077-4aac-fbe7-9e36b1e69a0a"
   },
   "outputs": [
    {
     "name": "stdout",
     "output_type": "stream",
     "text": [
      "MAGESH MASDF 789 \n"
     ]
    }
   ],
   "source": [
    "a = 'Magesh Masdf 789 '\n",
    "print(a.upper())"
   ]
  },
  {
   "cell_type": "code",
   "execution_count": 74,
   "metadata": {
    "colab": {
     "base_uri": "https://localhost:8080/"
    },
    "id": "N7h34UodYZ-S",
    "outputId": "764890df-f848-452b-e7ad-dab47a154d9c"
   },
   "outputs": [
    {
     "name": "stdout",
     "output_type": "stream",
     "text": [
      "magesh masdf 789 \n"
     ]
    }
   ],
   "source": [
    "a = 'Magesh Masdf 789 '\n",
    "print(a.lower())"
   ]
  },
  {
   "cell_type": "code",
   "execution_count": 75,
   "metadata": {
    "colab": {
     "base_uri": "https://localhost:8080/"
    },
    "id": "06lCYalJYf-v",
    "outputId": "98b893f9-27cf-4dc9-aee0-106e8c1b380c"
   },
   "outputs": [
    {
     "name": "stdout",
     "output_type": "stream",
     "text": [
      "False\n"
     ]
    }
   ],
   "source": [
    "a = 'Magesh Masdf 789 '\n",
    "print(a.isalpha())"
   ]
  },
  {
   "cell_type": "code",
   "execution_count": 76,
   "metadata": {
    "colab": {
     "base_uri": "https://localhost:8080/"
    },
    "id": "WmhF6FjSYvuB",
    "outputId": "77a71381-cb28-49a1-d503-62f4d6f2ccd8"
   },
   "outputs": [
    {
     "name": "stdout",
     "output_type": "stream",
     "text": [
      "False\n"
     ]
    }
   ],
   "source": [
    "a = 'Magesh Masdf 789 '\n",
    "print(a.isalnum())"
   ]
  },
  {
   "cell_type": "code",
   "execution_count": 78,
   "metadata": {
    "colab": {
     "base_uri": "https://localhost:8080/"
    },
    "id": "bBoqTHH6Y4kt",
    "outputId": "5b482e06-91e6-40b3-eca9-13757929acd6"
   },
   "outputs": [
    {
     "name": "stdout",
     "output_type": "stream",
     "text": [
      "True\n"
     ]
    }
   ],
   "source": [
    "a = '789'\n",
    "print(a.isdigit())"
   ]
  },
  {
   "cell_type": "code",
   "execution_count": 81,
   "metadata": {
    "colab": {
     "base_uri": "https://localhost:8080/"
    },
    "id": "WBZIw5SOY7v8",
    "outputId": "c28e4f7e-61b5-4422-cb0a-f3cecd0118e8"
   },
   "outputs": [
    {
     "name": "stdout",
     "output_type": "stream",
     "text": [
      "2\n",
      "0\n",
      "0\n"
     ]
    }
   ],
   "source": [
    "# COUNT:\n",
    "\n",
    "# syntax\n",
    "# a.count('substring')\n",
    "# gives the output of how many times the substring is repeated\n",
    "# it is case sensitive\n",
    "\n",
    "a = 'Magesh Masdf 789 '\n",
    "print(a.count('M'))\n",
    "print(a.count('ad'))\n",
    "print(a.count('m'))"
   ]
  },
  {
   "cell_type": "code",
   "execution_count": 85,
   "metadata": {
    "colab": {
     "base_uri": "https://localhost:8080/"
    },
    "id": "tozB_DNBZYLw",
    "outputId": "63d972d0-acf7-4420-c6ac-3df6eccaecf7"
   },
   "outputs": [
    {
     "name": "stdout",
     "output_type": "stream",
     "text": [
      "0\n",
      "7\n"
     ]
    }
   ],
   "source": [
    "# INDEX\n",
    "\n",
    "# syntax\n",
    "# a.index('substring')\n",
    "\n",
    "# it is case sensitive\n",
    "# gives the output of first occured index-number of that substring \n",
    "  # gives the index of the first element in substring\n",
    "# if the eleemnt is not found it will trow u error\n",
    "\n",
    "a = 'Magesh Masdf 789 '\n",
    "print(a.index('M'))\n",
    "print(a.index('Mas'))\n",
    "print(a.index('Mad')) # error\n"
   ]
  },
  {
   "cell_type": "code",
   "execution_count": 89,
   "metadata": {
    "colab": {
     "base_uri": "https://localhost:8080/"
    },
    "id": "vTgBGzyzaEo-",
    "outputId": "744f197f-4d4b-4b1e-d0db-89c90d606fd5"
   },
   "outputs": [
    {
     "name": "stdout",
     "output_type": "stream",
     "text": [
      "0\n",
      "7\n",
      "-1\n",
      "13\n"
     ]
    }
   ],
   "source": [
    "# FIND:\n",
    "\n",
    "# syntax\n",
    "# a.find('substring')\n",
    "\n",
    "# it is case sensitive\n",
    "# gives the output of first occured index-number of that substring \n",
    "  # gives the index of the first element in substring\n",
    "# if the eleemnt is not found it will give -1\n",
    "\n",
    "a = 'Magesh Masdf 789 '\n",
    "print(a.find('M'))\n",
    "print(a.find('Mas'))\n",
    "print(a.find('Mad')) # -1\n",
    "print(a.find('789')) # \n",
    "print(a.find(789)) # error"
   ]
  },
  {
   "cell_type": "code",
   "execution_count": 104,
   "metadata": {
    "colab": {
     "base_uri": "https://localhost:8080/",
     "height": 36
    },
    "id": "PuOUoghgfqsx",
    "outputId": "b49ecbca-09b5-4f54-bb37-8ed9a14dcdde"
   },
   "outputs": [
    {
     "data": {
      "application/vnd.google.colaboratory.intrinsic+json": {
       "type": "string"
      },
      "text/plain": [
       "'   I love INdia'"
      ]
     },
     "execution_count": 104,
     "metadata": {},
     "output_type": "execute_result"
    }
   ],
   "source": [
    "# strip\n",
    "# remove whitespace at extremes\n",
    "\n",
    "a = '   I love INdia   '\n",
    "a.strip()\n",
    "a = '   I love INdia   '\n",
    "a.lstrip()\n",
    "a.rstrip()"
   ]
  },
  {
   "cell_type": "code",
   "execution_count": 92,
   "metadata": {
    "colab": {
     "base_uri": "https://localhost:8080/"
    },
    "id": "qIJuK1yFa166",
    "outputId": "4aaa40b0-ab48-4b1b-fd47-78ebc51c8066"
   },
   "outputs": [
    {
     "name": "stdout",
     "output_type": "stream",
     "text": [
      "M-a-g-e-s-h\n",
      "1-2-3-4-5-6-7\n",
      "<class 'str'>\n"
     ]
    }
   ],
   "source": [
    "# JOIN:\n",
    "\n",
    "# syntax\n",
    "# 'substring'.join(str_variable)\n",
    "\n",
    "# the substring will be added b/w all the elements.   | except at extreme\n",
    "# join works only for string \n",
    "\n",
    "a = \"Magesh\"\n",
    "print('-'.join(a))\n",
    "# 'M-a-g-e-s-h'\n",
    "\n",
    "a = \"1234567\"\n",
    "print('-'.join(a))\n",
    "# '1-2-3-4-5-6-7'\n",
    "\n",
    "print(type(a[3]))"
   ]
  },
  {
   "cell_type": "code",
   "execution_count": null,
   "metadata": {
    "id": "Z4doJNsqb-Vh"
   },
   "outputs": [],
   "source": [
    "# SPLIT:\n",
    "\n",
    "# syntax\n",
    "# str_variable.split('substring')\n",
    "\n",
    "# output type will be in list"
   ]
  },
  {
   "cell_type": "code",
   "execution_count": 95,
   "metadata": {
    "colab": {
     "base_uri": "https://localhost:8080/"
    },
    "id": "kCA_3lgddKVQ",
    "outputId": "26e940df-a912-4779-cba1-191720754ff7"
   },
   "outputs": [
    {
     "name": "stdout",
     "output_type": "stream",
     "text": [
      "MageshDeveloper\n",
      "Magesh Developer\n"
     ]
    }
   ],
   "source": [
    "a = 'Magesh'\n",
    "b = 'Developer'\n",
    "print(a + b) # concatnate\n",
    "print(a +' '+ b) # concatnate"
   ]
  },
  {
   "cell_type": "code",
   "execution_count": 97,
   "metadata": {
    "id": "C9LMMx-_dU-c"
   },
   "outputs": [],
   "source": [
    "a = 10\n",
    "b = 'Developer'\n",
    "print(a + b) # error"
   ]
  },
  {
   "cell_type": "code",
   "execution_count": 98,
   "metadata": {
    "colab": {
     "base_uri": "https://localhost:8080/"
    },
    "id": "ERw_FyPOdh2e",
    "outputId": "bad42c6d-138c-43b5-ae05-b36411fada25"
   },
   "outputs": [
    {
     "name": "stdout",
     "output_type": "stream",
     "text": [
      "MageMageMageMage\n"
     ]
    }
   ],
   "source": [
    "a = 4\n",
    "b = 'Mage'\n",
    "print(a * b) \n",
    "# 'MageMageMageMage'"
   ]
  },
  {
   "cell_type": "markdown",
   "metadata": {
    "id": "7dGEWqUTeCa3"
   },
   "source": [
    "### LIST:"
   ]
  },
  {
   "cell_type": "code",
   "execution_count": 105,
   "metadata": {
    "colab": {
     "base_uri": "https://localhost:8080/"
    },
    "id": "nVmh5B4rdun0",
    "outputId": "3bf6a0f4-f1aa-49c7-eda0-857378c79094"
   },
   "outputs": [
    {
     "name": "stdout",
     "output_type": "stream",
     "text": [
      "1.5\n",
      "[1.1, 1.5, 'Magesh']\n",
      "Magesh\n",
      "<class 'str'>\n"
     ]
    }
   ],
   "source": [
    "# it is a heterogeneous datatype\n",
    "# elements seperated bt , (i.e) comma\n",
    "\n",
    "a = [1,2,3,4,1.1,1.5,'Magesh']\n",
    "  #  0 1 2 3 4   5    6\n",
    "print(a[5])\n",
    "b = a[6] # indexing\n",
    "print(a[4:]) # slicing\n",
    "print(b)\n",
    "print(type(a[6]))"
   ]
  },
  {
   "cell_type": "code",
   "execution_count": null,
   "metadata": {
    "id": "koQisd6NeC3W"
   },
   "outputs": [],
   "source": [
    "TOPICS COVERED:\n",
    "\n",
    "string indexing\n",
    "string slicing\n",
    "string reverse slicing\n",
    "string methods\n",
    "  # upper \n",
    "  # lower\n",
    "  # isalpha\n",
    "  # isalnum\n",
    "  # isdigit\n",
    "  # count\n",
    "  # index\n",
    "  # find\n",
    "  # join\n",
    "int(),float(),str()\n",
    "list overview"
   ]
  }
 ],
 "metadata": {
  "colab": {
   "provenance": []
  },
  "kernelspec": {
   "display_name": "Python 3 (ipykernel)",
   "language": "python",
   "name": "python3"
  },
  "language_info": {
   "codemirror_mode": {
    "name": "ipython",
    "version": 3
   },
   "file_extension": ".py",
   "mimetype": "text/x-python",
   "name": "python",
   "nbconvert_exporter": "python",
   "pygments_lexer": "ipython3",
   "version": "3.9.13"
  }
 },
 "nbformat": 4,
 "nbformat_minor": 1
}
