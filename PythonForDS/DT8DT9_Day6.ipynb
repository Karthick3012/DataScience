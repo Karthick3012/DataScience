{
  "nbformat": 4,
  "nbformat_minor": 0,
  "metadata": {
    "colab": {
      "provenance": []
    },
    "kernelspec": {
      "name": "python3",
      "display_name": "Python 3"
    },
    "language_info": {
      "name": "python"
    }
  },
  "cells": [
    {
      "cell_type": "code",
      "execution_count": 5,
      "metadata": {
        "id": "5iP8Ud8DKnWq"
      },
      "outputs": [],
      "source": [
        "def multiple(*z):\n",
        "  print(z) # tuple\n",
        "  add = 0\n",
        "  for i in z:\n",
        "    add = add + i  # add += i\n",
        "  print(add)\n"
      ]
    },
    {
      "cell_type": "code",
      "source": [
        "multiple(1,2,3,4,5)\n",
        "multiple(1,2,3,4,5,6,7,8,8)\n",
        "multiple(1,2)"
      ],
      "metadata": {
        "colab": {
          "base_uri": "https://localhost:8080/"
        },
        "id": "w1k9XRkkLSBI",
        "outputId": "77ffc295-bbd2-4128-95b1-fccd8a9cd304"
      },
      "execution_count": 6,
      "outputs": [
        {
          "output_type": "stream",
          "name": "stdout",
          "text": [
            "(1, 2, 3, 4, 5)\n",
            "15\n",
            "(1, 2, 3, 4, 5, 6, 7, 8, 8)\n",
            "44\n",
            "(1, 2)\n",
            "3\n"
          ]
        }
      ]
    },
    {
      "cell_type": "code",
      "source": [],
      "metadata": {
        "id": "7PwchRoMLgK_"
      },
      "execution_count": null,
      "outputs": []
    },
    {
      "cell_type": "markdown",
      "source": [
        "### CLASS:"
      ],
      "metadata": {
        "id": "z1hGK4wmMEIy"
      }
    },
    {
      "cell_type": "code",
      "source": [
        "# OOPS - Object Oriented Programming"
      ],
      "metadata": {
        "id": "Ai7dTr2yMHWw"
      },
      "execution_count": 7,
      "outputs": []
    },
    {
      "cell_type": "code",
      "source": [
        "# to group the common functions under one category"
      ],
      "metadata": {
        "id": "8i2jw_ohMScp"
      },
      "execution_count": 8,
      "outputs": []
    },
    {
      "cell_type": "code",
      "source": [
        "# syntax:\n",
        "\n",
        "# class className:\n",
        "#   statement"
      ],
      "metadata": {
        "id": "NP4ivu-SNlrX"
      },
      "execution_count": 9,
      "outputs": []
    },
    {
      "cell_type": "code",
      "source": [
        "# self denotes that | functions is an instance of that class"
      ],
      "metadata": {
        "id": "to_ey5qAO8bl"
      },
      "execution_count": null,
      "outputs": []
    },
    {
      "cell_type": "code",
      "source": [
        "class arithmetic:\n",
        "\n",
        "  def addition(self):\n",
        "    return 2 + 5\n",
        "\n",
        "  def sub(self):\n",
        "    return 5- 3\n",
        "\n",
        "  def multi(self,z):\n",
        "    return 8 * z\n",
        "\n",
        "  \n",
        "class arithmetic2:\n",
        "  def addition(self):\n",
        "    return 2 + 5\n",
        "\n",
        "  def sub(self):\n",
        "    return 5- 3\n",
        "\n",
        "  def multi(self,z):\n",
        "    return 8 * z"
      ],
      "metadata": {
        "id": "82SM3NwSOUTn"
      },
      "execution_count": 21,
      "outputs": []
    },
    {
      "cell_type": "code",
      "source": [
        "a1 = arithmetic()\n",
        "# arithmetic().addition()"
      ],
      "metadata": {
        "id": "y5mlypNNPFG5"
      },
      "execution_count": 25,
      "outputs": []
    },
    {
      "cell_type": "code",
      "source": [
        "print(a1.addition())\n",
        "print(a1.sub())\n",
        "print(a1.multi(5))"
      ],
      "metadata": {
        "colab": {
          "base_uri": "https://localhost:8080/"
        },
        "id": "9ow718Q7PO4Z",
        "outputId": "17967c37-7f4c-4cc5-a0bd-325ee626f77f"
      },
      "execution_count": 23,
      "outputs": [
        {
          "output_type": "stream",
          "name": "stdout",
          "text": [
            "7\n",
            "2\n",
            "40\n"
          ]
        }
      ]
    },
    {
      "cell_type": "code",
      "source": [
        "class engine:\n",
        "\n",
        "  def __init__(self,petrol,oil,battery):\n",
        "    self.petrol1   = petrol\n",
        "    self.oil      = oil\n",
        "    self.battery  = battery\n",
        "    # gng 2 use inside functions : as how we get input\n",
        "\n",
        "  def performance_flywheel(self):\n",
        "    print((self.petrol1 * 1.25) * (self.oil * 0.75) * 0.8)\n",
        "\n",
        "  def performance_cylinder(self):\n",
        "      print((self.petrol1 * .76) * self.oil * 1.35)\n",
        "\n",
        "  def performance_piston(self):\n",
        "    print(self.petrol1 * self.oil * 0.25)\n",
        "\n",
        "  def performance_ECU(self,life):\n",
        "    print(self.battery * 1.75 * (life*12/100) * self.oil)\n",
        "\n",
        "class engine2:\n",
        "\n",
        "  def __init__(self,petrol,oil,battery):\n",
        "    self.petrol1  = petrol\n",
        "    self.oil      = oil\n",
        "    self.battery  = battery\n",
        "    # gng 2 use inside functions : as how we get input\n",
        "\n",
        "  def performance_flywheel(self):\n",
        "    print((self.petrol1 + 1.2345) * (self.oil * 0.34) * 0.8)\n",
        "\n",
        "  def performance_cylinder(self):\n",
        "      print((self.petrol1 * .2346) * self.oil * 1.35)\n",
        "\n",
        "  def performance_piston(self):\n",
        "    print(self.petrol1 * self.oil * 0.25)\n",
        "\n",
        "  def performance_ECU(self,life):\n",
        "    print(self.battery * 1.75 + (life*12/100) * self.oil)"
      ],
      "metadata": {
        "id": "JSXwP-AbPXEK"
      },
      "execution_count": 102,
      "outputs": []
    },
    {
      "cell_type": "code",
      "source": [
        "engine1 = engine(110,5,12)\n",
        "print(engine1.__dict__)\n",
        "engine1.performance_flywheel()\n",
        "engine1.performance_cylinder()\n",
        "engine1.performance_piston()\n",
        "engine1.performance_ECU(3)\n"
      ],
      "metadata": {
        "colab": {
          "base_uri": "https://localhost:8080/"
        },
        "id": "Pe62k5DgPZDA",
        "outputId": "e8182f63-b070-48d8-fe33-e5c2e1a842fe"
      },
      "execution_count": 103,
      "outputs": [
        {
          "output_type": "stream",
          "name": "stdout",
          "text": [
            "{'petrol1': 110, 'oil': 5, 'battery': 12}\n",
            "412.5\n",
            "564.3000000000001\n",
            "137.5\n",
            "37.8\n"
          ]
        }
      ]
    },
    {
      "cell_type": "code",
      "source": [
        "engine2 = engine(110,5,11)\n",
        "\n",
        "engine2.performance_flywheel()\n",
        "engine2.performance_cylinder()\n",
        "engine2.performance_piston()\n",
        "engine2.performance_ECU(3)"
      ],
      "metadata": {
        "colab": {
          "base_uri": "https://localhost:8080/"
        },
        "id": "xa_fD7LDPdhm",
        "outputId": "a0e8813c-e590-413b-efb4-35a2aa5c3e5b"
      },
      "execution_count": 57,
      "outputs": [
        {
          "output_type": "stream",
          "name": "stdout",
          "text": [
            "412.5\n",
            "564.3000000000001\n",
            "137.5\n",
            "34.65\n"
          ]
        }
      ]
    },
    {
      "cell_type": "markdown",
      "source": [
        "#### CLASS INHERIATNCE:"
      ],
      "metadata": {
        "id": "Ldt2d_cMZAbk"
      }
    },
    {
      "cell_type": "code",
      "source": [
        "class school:\n",
        "\n",
        "  def __init__(self,name,age,sex,dob):\n",
        "    self.name = name\n",
        "    self.age  =  age\n",
        "    self.sex  =  sex\n",
        "    self.dob  =  dob\n",
        "\n",
        "  def leavecalender(self):\n",
        "    print('leave from parent')\n",
        "  \n",
        "  def schoolName(self):\n",
        "    # print('DT8DT9 School')\n",
        "    return('DT8DT9 School')\n"
      ],
      "metadata": {
        "id": "W2jNYjHwUawc"
      },
      "execution_count": 72,
      "outputs": []
    },
    {
      "cell_type": "code",
      "source": [
        "class teacher(school):\n",
        "\n",
        "    # def __init__(self,name,age,sex,dob):\n",
        "    #   self.name = name\n",
        "    #   self.age  =  age\n",
        "    #   self.sex  =  sex\n",
        "    #   self.dob  =  dob\n",
        "\n",
        "    # def leavecalender(self):\n",
        "    #   print('leave from parent')\n",
        "    \n",
        "    # def schoolName(self):\n",
        "    #   # print('DT8DT9 School')\n",
        "    #   return('DT8DT9 School')\n",
        "\n",
        "    # def __init__(self,salary,name,age,sex,dob):\n",
        "    #   super().__init__(name,age,sex,dob)\n",
        "\n",
        "    def __init__(self,salary,subject,*args):\n",
        "      super().__init__(*args)\n",
        "\n",
        "      self.salary = salary\n",
        "      self.subject = subject\n",
        "\n",
        "    def teacherName(self):\n",
        "      print(self.name)\n",
        "\n",
        "    def teacherAge(self):\n",
        "      print(self.age)\n",
        "\n",
        "    def teacherSalary(self):\n",
        "      print('Teacher Salary is',self.salary)\n",
        "\n",
        "    def teacherDetails(self):\n",
        "      d = {\n",
        "          \"name\" : self.name,\n",
        "          \"age\" : self.age,\n",
        "          \"D.O.B\" : self.dob,\n",
        "          \"sex\" : self.sex,\n",
        "           \"salary\": self.salary,\n",
        "           \"subject\": self.subject,\n",
        "          \"working at\" : self.schoolName(),\n",
        "      }\n",
        "      print(d)"
      ],
      "metadata": {
        "id": "dT1R5DStUiOP"
      },
      "execution_count": 98,
      "outputs": []
    },
    {
      "cell_type": "code",
      "source": [
        "s1 = school(1,2,3,4)"
      ],
      "metadata": {
        "id": "u5BDLYi9hCZr"
      },
      "execution_count": null,
      "outputs": []
    },
    {
      "cell_type": "code",
      "source": [
        "t1 = teacher(20000,\"Python\",\"Magesh\",20,'M','20-20-2000')\n",
        "t1.leavecalender()\n",
        "t1.schoolName()"
      ],
      "metadata": {
        "colab": {
          "base_uri": "https://localhost:8080/"
        },
        "id": "pdKp7WhQUu2y",
        "outputId": "c06a26fb-9d95-4e1d-e01f-ee092f5f98dc"
      },
      "execution_count": 104,
      "outputs": [
        {
          "output_type": "stream",
          "name": "stdout",
          "text": [
            "leave from parent\n",
            "DT8DT9 School\n"
          ]
        }
      ]
    },
    {
      "cell_type": "code",
      "source": [
        "t1.teacherDetails()"
      ],
      "metadata": {
        "colab": {
          "base_uri": "https://localhost:8080/"
        },
        "id": "qIhQ3optbZ7o",
        "outputId": "f84e2216-233e-4e31-e265-9ee3f19678ae"
      },
      "execution_count": 100,
      "outputs": [
        {
          "output_type": "stream",
          "name": "stdout",
          "text": [
            "DT8DT9 School\n",
            "{'name': 'Magesh', 'age': 20, 'D.O.B': '20-20-2000', 'sex': 'M', 'salary': 20000, 'subject': 'Python', 'working at': None}\n"
          ]
        }
      ]
    },
    {
      "cell_type": "code",
      "source": [
        "print(t1.__dict__) # to get the arguments\n",
        "print(t1.subject)\n",
        "print(t1.name)\n",
        "print(t1.age)\n",
        "print(t1.sex)\n",
        "# print(t1['sex'])  error"
      ],
      "metadata": {
        "colab": {
          "base_uri": "https://localhost:8080/"
        },
        "id": "7rOb17VUiZie",
        "outputId": "d5b67af3-3301-4897-afbb-366435826d50"
      },
      "execution_count": 108,
      "outputs": [
        {
          "output_type": "stream",
          "name": "stdout",
          "text": [
            "{'name': 'Magesh', 'age': 20, 'sex': 'M', 'dob': '20-20-2000', 'salary': 20000, 'subject': 'Python'}\n",
            "Python\n",
            "Magesh\n",
            "20\n",
            "M\n"
          ]
        }
      ]
    },
    {
      "cell_type": "code",
      "source": [
        "t1.teacherSalary()"
      ],
      "metadata": {
        "colab": {
          "base_uri": "https://localhost:8080/"
        },
        "id": "QQEljkYvdcWz",
        "outputId": "4202b538-dde4-473c-e94c-327e8b03b0c8"
      },
      "execution_count": 97,
      "outputs": [
        {
          "output_type": "stream",
          "name": "stdout",
          "text": [
            "Teacher Salary is 20000\n"
          ]
        }
      ]
    },
    {
      "cell_type": "code",
      "source": [
        "print(t1.__dict__) # as dict to see the attribute of a class"
      ],
      "metadata": {
        "colab": {
          "base_uri": "https://localhost:8080/"
        },
        "id": "afw6Ca9ZftO8",
        "outputId": "f8051dde-5497-4dfe-8a13-ad55eddeb5a1"
      },
      "execution_count": 101,
      "outputs": [
        {
          "output_type": "stream",
          "name": "stdout",
          "text": [
            "{'name': 'Magesh', 'age': 20, 'sex': 'M', 'dob': '20-20-2000', 'salary': 20000, 'subject': 'Python'}\n"
          ]
        }
      ]
    },
    {
      "cell_type": "code",
      "source": [
        "# regx - overview\n",
        "# pip\n",
        "# iterator\n",
        "# pickling\n",
        "# json"
      ],
      "metadata": {
        "id": "y3i2z5IHhV3D"
      },
      "execution_count": null,
      "outputs": []
    },
    {
      "cell_type": "code",
      "source": [
        "# pass break continue"
      ],
      "metadata": {
        "id": "e47KD7zJjevY"
      },
      "execution_count": 109,
      "outputs": []
    },
    {
      "cell_type": "markdown",
      "source": [
        "### pass break continue"
      ],
      "metadata": {
        "id": "qQ0y5mFVkDb1"
      }
    },
    {
      "cell_type": "code",
      "source": [
        "# pass - \n",
        "# it will not affect the code is used to complete a stetement"
      ],
      "metadata": {
        "id": "nleo0nMWjryZ"
      },
      "execution_count": 110,
      "outputs": []
    },
    {
      "cell_type": "code",
      "source": [
        "if 78 > 90:\n",
        "  pass\n",
        "\n",
        "if 748 > 90:\n",
        "  print('one')"
      ],
      "metadata": {
        "colab": {
          "base_uri": "https://localhost:8080/"
        },
        "id": "aduLhu_Pjz-i",
        "outputId": "3a0f08f4-4b6f-43eb-bf44-51597204a8b0"
      },
      "execution_count": 112,
      "outputs": [
        {
          "output_type": "stream",
          "name": "stdout",
          "text": [
            "one\n"
          ]
        }
      ]
    },
    {
      "cell_type": "code",
      "source": [
        "for i in [1,2,3,4,5,6,7]:\n",
        "  print(i)\n",
        "  pass"
      ],
      "metadata": {
        "colab": {
          "base_uri": "https://localhost:8080/"
        },
        "id": "I8pWXuyzj58M",
        "outputId": "872d3475-d7c2-4af3-bf40-19374f62ef16"
      },
      "execution_count": 113,
      "outputs": [
        {
          "output_type": "stream",
          "name": "stdout",
          "text": [
            "1\n",
            "2\n",
            "3\n",
            "4\n",
            "5\n",
            "6\n",
            "7\n"
          ]
        }
      ]
    },
    {
      "cell_type": "code",
      "source": [
        "# continue\n",
        "\n",
        "# 1. can be used only inside iteration\n",
        "# 2. when we hit the continue that iteartion will be skipped (i.e) anything below continue will not get executed"
      ],
      "metadata": {
        "id": "TDJD-U_pj_O7"
      },
      "execution_count": 115,
      "outputs": []
    },
    {
      "cell_type": "code",
      "source": [
        "for i in [1,2,3,4]:\n",
        "  if i == 3:\n",
        "    continue\n",
        "  print(i)"
      ],
      "metadata": {
        "colab": {
          "base_uri": "https://localhost:8080/"
        },
        "id": "azAVeXdSkHB2",
        "outputId": "78d87131-377d-4190-bc1f-d51a518a9ca7"
      },
      "execution_count": 116,
      "outputs": [
        {
          "output_type": "stream",
          "name": "stdout",
          "text": [
            "1\n",
            "2\n",
            "4\n"
          ]
        }
      ]
    },
    {
      "cell_type": "code",
      "source": [
        "# break\n",
        "\n",
        "# 1. can be used only inside iteration\n",
        "# 2. when we hit the break that iteartion will be terminated"
      ],
      "metadata": {
        "id": "8ydDgqoXk8gH"
      },
      "execution_count": null,
      "outputs": []
    },
    {
      "cell_type": "code",
      "source": [
        "for i in [1,2,3,4]:\n",
        "  if i == 3:\n",
        "    break\n",
        "  print(i)"
      ],
      "metadata": {
        "colab": {
          "base_uri": "https://localhost:8080/"
        },
        "id": "Sp82tLmElUWG",
        "outputId": "d523ed88-b81a-45d7-92f7-421910e35814"
      },
      "execution_count": 117,
      "outputs": [
        {
          "output_type": "stream",
          "name": "stdout",
          "text": [
            "1\n",
            "2\n"
          ]
        }
      ]
    },
    {
      "cell_type": "code",
      "source": [
        "for i in [1,2,3,4,5]:\n",
        "  print(i)\n",
        "  if i == 3 and i %2:\n",
        "    break"
      ],
      "metadata": {
        "id": "BQAMRCQ4lhjJ"
      },
      "execution_count": null,
      "outputs": []
    }
  ]
}