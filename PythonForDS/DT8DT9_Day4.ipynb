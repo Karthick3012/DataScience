{
 "cells": [
  {
   "cell_type": "code",
   "execution_count": 1,
   "metadata": {
    "id": "ROFlpo2KHuqa"
   },
   "outputs": [],
   "source": [
    "# for -using range:"
   ]
  },
  {
   "cell_type": "code",
   "execution_count": 3,
   "metadata": {
    "colab": {
     "base_uri": "https://localhost:8080/"
    },
    "id": "MHCxMI7wJUUH",
    "outputId": "33a0faa9-a758-42b2-8b69-2066d47dc492"
   },
   "outputs": [
    {
     "data": {
      "text/plain": [
       "range(0, 5)"
      ]
     },
     "execution_count": 3,
     "metadata": {},
     "output_type": "execute_result"
    }
   ],
   "source": [
    "# syntax:\n",
    "# range(n)              | n - should be an int\n",
    "# range(start,n)        | start - should be an int\n",
    "# range(start,n,step)   | step - should be an int\n",
    "\n",
    "# 1. iterable datatype\n",
    "# 2. it starts from 0 ends with n-1\n",
    "\n",
    "range(5) # range(0,5)"
   ]
  },
  {
   "cell_type": "code",
   "execution_count": 4,
   "metadata": {
    "colab": {
     "base_uri": "https://localhost:8080/"
    },
    "id": "2Uw-hSxUJXiz",
    "outputId": "b125b57b-b261-44f0-ffd7-fcfb8ba1f51f"
   },
   "outputs": [
    {
     "data": {
      "text/plain": [
       "[0, 1, 2, 3, 4]"
      ]
     },
     "execution_count": 4,
     "metadata": {},
     "output_type": "execute_result"
    }
   ],
   "source": [
    "list(range(5))"
   ]
  },
  {
   "cell_type": "code",
   "execution_count": 5,
   "metadata": {
    "colab": {
     "base_uri": "https://localhost:8080/"
    },
    "id": "V9OdDyNNKhfZ",
    "outputId": "291e9291-ebd2-4a1d-b86c-8c0966f25530"
   },
   "outputs": [
    {
     "data": {
      "text/plain": [
       "[4, 5, 6, 7, 8, 9, 10, 11, 12, 13, 14]"
      ]
     },
     "execution_count": 5,
     "metadata": {},
     "output_type": "execute_result"
    }
   ],
   "source": [
    "list(range(4,15))"
   ]
  },
  {
   "cell_type": "code",
   "execution_count": null,
   "metadata": {
    "id": "0tskJeZIKw6K"
   },
   "outputs": [],
   "source": [
    "a = [1,2,3,'magesh','orange','apple']\n",
    "\n",
    "\n"
   ]
  },
  {
   "cell_type": "code",
   "execution_count": 10,
   "metadata": {
    "colab": {
     "base_uri": "https://localhost:8080/"
    },
    "id": "AetO9RUiK7Bo",
    "outputId": "b37b1eaf-52b6-45fb-f460-d60660ac1022"
   },
   "outputs": [
    {
     "name": "stdout",
     "output_type": "stream",
     "text": [
      "1\n",
      "2\n",
      "3\n",
      "magesh\n",
      "orange\n",
      "apple\n"
     ]
    }
   ],
   "source": [
    "a = [1,2,3,'magesh']\n",
    "a = [1,2,3,'magesh','orange','apple']\n",
    "\n",
    "for i in range(len(a)):\n",
    "  print(a[i]) # a[0],a[1],a[2],a[4]"
   ]
  },
  {
   "cell_type": "markdown",
   "metadata": {
    "id": "lSRnSIvJMsJl"
   },
   "source": [
    "### WHILE:"
   ]
  },
  {
   "cell_type": "code",
   "execution_count": 12,
   "metadata": {
    "id": "dxrOa9G_MuD1"
   },
   "outputs": [],
   "source": [
    "# infinite loop | conditional loop"
   ]
  },
  {
   "cell_type": "code",
   "execution_count": 13,
   "metadata": {
    "id": "irwCtoOkNJ1r"
   },
   "outputs": [],
   "source": [
    "# syntax:\n",
    "# while  condition:  |  \n",
    "#   statement\n",
    "\n",
    "# while loop will run till condition True\n",
    "\n",
    "# we should create the terminating condition for while if not it will be an infinite loop"
   ]
  },
  {
   "cell_type": "code",
   "execution_count": 16,
   "metadata": {
    "colab": {
     "base_uri": "https://localhost:8080/"
    },
    "id": "ng8fg7zjNfcd",
    "outputId": "baba69f6-fa0b-46cf-8e94-2a8e7a740d8b"
   },
   "outputs": [
    {
     "name": "stdout",
     "output_type": "stream",
     "text": [
      "10\n",
      "9\n",
      "8\n",
      "7\n",
      "6\n"
     ]
    }
   ],
   "source": [
    "a = 10\n",
    "while a > 5:\n",
    "  print(a)\n",
    "  a = a - 1\n",
    "\n",
    "# 1. 10 : a = 9\n",
    "# 2. 9  : a = 8\n",
    "# 3. 8  : a = 7\n",
    "# 4. 7  : a = 6\n",
    "# 5. 6  : a = 5\n",
    "# 6. "
   ]
  },
  {
   "cell_type": "code",
   "execution_count": 17,
   "metadata": {
    "colab": {
     "base_uri": "https://localhost:8080/"
    },
    "id": "2-bFpl_JNonH",
    "outputId": "0887eb98-33fa-47d9-e903-076d5d01cacd"
   },
   "outputs": [
    {
     "name": "stdout",
     "output_type": "stream",
     "text": [
      "1\n",
      "2\n",
      "3\n",
      "4\n"
     ]
    }
   ],
   "source": [
    "a = [1,2,3,4]\n",
    "\n",
    "\n",
    "\n",
    "i = 0\n",
    "while i < 4:\n",
    "  print(a[i]) # 1\n",
    "  i = i+1\n",
    "\n",
    "# 1. i = 0  : 1 : i = 1\n",
    "# 2. i = 1  : 2 : i = 2\n",
    "# 3. i = 2  : 3 : i = 3\n",
    "# 4. i = 3  : 4 : i = 4\n",
    "# 5. i = 4\n"
   ]
  },
  {
   "cell_type": "code",
   "execution_count": 89,
   "metadata": {
    "colab": {
     "base_uri": "https://localhost:8080/"
    },
    "id": "TjQJBrDJh0sD",
    "outputId": "1789bfaf-0c69-491e-afe9-ad0b7fd895d7"
   },
   "outputs": [
    {
     "name": "stdout",
     "output_type": "stream",
     "text": [
      "1\n",
      "2\n",
      "3\n",
      "4\n"
     ]
    }
   ],
   "source": [
    "a = [1,2,3,4]\n",
    "print(a[0])\n",
    "print(a[1])\n",
    "print(a[2])\n",
    "print(a[3])"
   ]
  },
  {
   "cell_type": "code",
   "execution_count": null,
   "metadata": {
    "id": "Egr2EsYnP6Je"
   },
   "outputs": [],
   "source": []
  },
  {
   "cell_type": "markdown",
   "metadata": {
    "id": "x4qfjZgFP7aN"
   },
   "source": [
    "### ITEM ASSIGNEMENT:"
   ]
  },
  {
   "cell_type": "code",
   "execution_count": 19,
   "metadata": {
    "colab": {
     "base_uri": "https://localhost:8080/"
    },
    "id": "xnHCTd5hP9-C",
    "outputId": "9446a62f-4177-41bf-b54c-c8fe80dbdcaa"
   },
   "outputs": [
    {
     "data": {
      "text/plain": [
       "[1, 2, 3, 'magesh', [45.45, 'India'], 'apple']"
      ]
     },
     "execution_count": 19,
     "metadata": {},
     "output_type": "execute_result"
    }
   ],
   "source": [
    "a = [1,2,3,'magesh','orange','apple']\n",
    "\n",
    "a[4] = [45.45 , 'India']\n",
    "\n",
    "a"
   ]
  },
  {
   "cell_type": "code",
   "execution_count": 20,
   "metadata": {
    "colab": {
     "base_uri": "https://localhost:8080/",
     "height": 183
    },
    "id": "Um1vZyhNP-AW",
    "outputId": "27f2f093-2c87-45a1-c438-559fc14000eb"
   },
   "outputs": [
    {
     "ename": "TypeError",
     "evalue": "ignored",
     "output_type": "error",
     "traceback": [
      "\u001b[0;31m---------------------------------------------------------------------------\u001b[0m",
      "\u001b[0;31mTypeError\u001b[0m                                 Traceback (most recent call last)",
      "\u001b[0;32m<ipython-input-20-a0537a21bcbd>\u001b[0m in \u001b[0;36m<cell line: 2>\u001b[0;34m()\u001b[0m\n\u001b[1;32m      1\u001b[0m \u001b[0ma\u001b[0m \u001b[0;34m=\u001b[0m \u001b[0;34m'asdfsadf'\u001b[0m\u001b[0;34m\u001b[0m\u001b[0;34m\u001b[0m\u001b[0m\n\u001b[0;32m----> 2\u001b[0;31m \u001b[0ma\u001b[0m\u001b[0;34m[\u001b[0m\u001b[0;36m3\u001b[0m\u001b[0;34m]\u001b[0m \u001b[0;34m=\u001b[0m \u001b[0;34m'asdf'\u001b[0m\u001b[0;34m\u001b[0m\u001b[0;34m\u001b[0m\u001b[0m\n\u001b[0m",
      "\u001b[0;31mTypeError\u001b[0m: 'str' object does not support item assignment"
     ]
    }
   ],
   "source": [
    "a = 'asdfsadf'\n",
    "a[3] = 'asdf'"
   ]
  },
  {
   "cell_type": "markdown",
   "metadata": {
    "id": "sS6tX--DPujC"
   },
   "source": [
    "### TUPLE:"
   ]
  },
  {
   "cell_type": "code",
   "execution_count": 29,
   "metadata": {
    "id": "QIl1kEALPwGl"
   },
   "outputs": [],
   "source": [
    "# immutable datatype\n",
    "# read only datatype"
   ]
  },
  {
   "cell_type": "code",
   "execution_count": 22,
   "metadata": {
    "colab": {
     "base_uri": "https://localhost:8080/"
    },
    "id": "qMCWNk8kQlna",
    "outputId": "9d6f3f6d-2c0d-4249-d09c-6986f318088f"
   },
   "outputs": [
    {
     "data": {
      "text/plain": [
       "()"
      ]
     },
     "execution_count": 22,
     "metadata": {},
     "output_type": "execute_result"
    }
   ],
   "source": [
    "tuple() # can convert any iterable datatype to tuple"
   ]
  },
  {
   "cell_type": "code",
   "execution_count": 25,
   "metadata": {
    "colab": {
     "base_uri": "https://localhost:8080/"
    },
    "id": "6PYYpjOTQwci",
    "outputId": "dc8ace73-8236-4fa0-e000-520c86a6f396"
   },
   "outputs": [
    {
     "name": "stdout",
     "output_type": "stream",
     "text": [
      "(1, 2, 3, 4, 5)\n",
      "('1', ',', '2', ',', '3', ',', '4', ',', '5')\n"
     ]
    }
   ],
   "source": [
    "a = [1,2,3,4,5]\n",
    "print(tuple(a))\n",
    "\n",
    "a = '1,2,3,4,5'\n",
    "print(tuple(a))"
   ]
  },
  {
   "cell_type": "code",
   "execution_count": 26,
   "metadata": {
    "colab": {
     "base_uri": "https://localhost:8080/"
    },
    "id": "cE4BeHlBQ5d8",
    "outputId": "9c9232c3-97ae-4057-9201-4d94b8d1fd46"
   },
   "outputs": [
    {
     "name": "stdout",
     "output_type": "stream",
     "text": [
      "['1', ',', '2', ',', '3', ',', '4', ',', '5']\n"
     ]
    }
   ],
   "source": [
    "a = (1, 2, 3, 4, 5)\n",
    "list(a)\n",
    "a = '1,2,3,4,5'\n",
    "print(list(a))"
   ]
  },
  {
   "cell_type": "code",
   "execution_count": 28,
   "metadata": {
    "id": "djHXXltVQ8C1"
   },
   "outputs": [],
   "source": [
    "# dir(tuple)"
   ]
  },
  {
   "cell_type": "code",
   "execution_count": 33,
   "metadata": {
    "colab": {
     "base_uri": "https://localhost:8080/",
     "height": 201
    },
    "id": "HPJSFTOFRZx6",
    "outputId": "3ccc1990-067b-442e-abfa-48a39d3db946"
   },
   "outputs": [
    {
     "ename": "TypeError",
     "evalue": "ignored",
     "output_type": "error",
     "traceback": [
      "\u001b[0;31m---------------------------------------------------------------------------\u001b[0m",
      "\u001b[0;31mTypeError\u001b[0m                                 Traceback (most recent call last)",
      "\u001b[0;32m<ipython-input-33-bcf26c74eb9e>\u001b[0m in \u001b[0;36m<cell line: 3>\u001b[0;34m()\u001b[0m\n\u001b[1;32m      1\u001b[0m \u001b[0mRGB\u001b[0m \u001b[0;34m=\u001b[0m \u001b[0;34m(\u001b[0m\u001b[0;36m210\u001b[0m\u001b[0;34m,\u001b[0m\u001b[0;36m165\u001b[0m\u001b[0;34m,\u001b[0m\u001b[0;36m34\u001b[0m\u001b[0;34m)\u001b[0m\u001b[0;34m\u001b[0m\u001b[0;34m\u001b[0m\u001b[0m\n\u001b[1;32m      2\u001b[0m \u001b[0;34m\u001b[0m\u001b[0m\n\u001b[0;32m----> 3\u001b[0;31m \u001b[0mRGB\u001b[0m\u001b[0;34m[\u001b[0m\u001b[0;36m2\u001b[0m\u001b[0;34m]\u001b[0m \u001b[0;34m=\u001b[0m \u001b[0;36m54\u001b[0m\u001b[0;34m\u001b[0m\u001b[0;34m\u001b[0m\u001b[0m\n\u001b[0m",
      "\u001b[0;31mTypeError\u001b[0m: 'tuple' object does not support item assignment"
     ]
    }
   ],
   "source": [
    "RGB = (210,165,34)\n",
    "\n",
    "RGB[2] = 54"
   ]
  },
  {
   "cell_type": "code",
   "execution_count": 36,
   "metadata": {
    "colab": {
     "base_uri": "https://localhost:8080/"
    },
    "id": "AIxqkwAXSFXt",
    "outputId": "f31c6944-10e9-4b4a-8c90-9903b7d153be"
   },
   "outputs": [
    {
     "name": "stdout",
     "output_type": "stream",
     "text": [
      "[11, 12, 13]\n",
      "12\n",
      "12\n"
     ]
    }
   ],
   "source": [
    "a = [1,2,3,[11,12,13]]\n",
    "b = a[3]\n",
    "print(b)\n",
    "print(b[1])\n",
    "print(a[3][1])"
   ]
  },
  {
   "cell_type": "code",
   "execution_count": 37,
   "metadata": {
    "colab": {
     "base_uri": "https://localhost:8080/"
    },
    "id": "W8XvAhqPS5-s",
    "outputId": "2aac7a0d-bd45-4b63-8aa4-e03c5a1bb5b5"
   },
   "outputs": [
    {
     "name": "stdout",
     "output_type": "stream",
     "text": [
      "[11, 12, 13]\n",
      "12\n"
     ]
    },
    {
     "data": {
      "text/plain": [
       "[1, 2, 3, [11, 'Magesh', 13]]"
      ]
     },
     "execution_count": 37,
     "metadata": {},
     "output_type": "execute_result"
    }
   ],
   "source": [
    "a = [1,2,3,[11,12,13]]\n",
    "b = a[3]\n",
    "print(b)\n",
    "print(b[1])\n",
    "a[3][1] = 'Magesh'\n",
    "a"
   ]
  },
  {
   "cell_type": "code",
   "execution_count": 42,
   "metadata": {
    "colab": {
     "base_uri": "https://localhost:8080/"
    },
    "id": "maBF6V4lTRmq",
    "outputId": "28c7304f-52c8-4528-fc58-9645a0795b2d"
   },
   "outputs": [
    {
     "name": "stdout",
     "output_type": "stream",
     "text": [
      "<class 'list'>\n",
      "[11, 12, 13]\n",
      "12\n"
     ]
    },
    {
     "data": {
      "text/plain": [
       "(1, 2, 3, [11, 'Magesh', 13])"
      ]
     },
     "execution_count": 42,
     "metadata": {},
     "output_type": "execute_result"
    }
   ],
   "source": [
    "a = (1,2,3,[11,12,13])\n",
    "b = a[3]\n",
    "# a[3] = 'mages' # not possible\n",
    "print(type(a[3]))\n",
    "print(b)\n",
    "print(b[1])\n",
    "a[3][1] = 'Magesh'\n",
    "a"
   ]
  },
  {
   "cell_type": "code",
   "execution_count": 43,
   "metadata": {
    "colab": {
     "base_uri": "https://localhost:8080/"
    },
    "id": "dLIqaC2uTRur",
    "outputId": "91f64a61-0650-44d9-89a8-9dd5f30a9cd3"
   },
   "outputs": [
    {
     "name": "stdout",
     "output_type": "stream",
     "text": [
      "(11, 12, 13)\n",
      "12\n"
     ]
    },
    {
     "data": {
      "text/plain": [
       "[1, 2, 3, 'Magesh']"
      ]
     },
     "execution_count": 43,
     "metadata": {},
     "output_type": "execute_result"
    }
   ],
   "source": [
    "a = [1,2,3,(11,12,13)]\n",
    "b = a[3]\n",
    "print(b)\n",
    "print(b[1])\n",
    "a[3] = 'Magesh'\n",
    "# a[3][1] = 'Magesh' # not possible\n",
    "a"
   ]
  },
  {
   "cell_type": "code",
   "execution_count": 46,
   "metadata": {
    "colab": {
     "base_uri": "https://localhost:8080/"
    },
    "id": "e1oRSHjOTRy3",
    "outputId": "178ca2ff-a179-4532-f069-12f839139de8"
   },
   "outputs": [
    {
     "data": {
      "text/plain": [
       "([1, 2, 3], [11, 12, 13], [14, 15, 16, [1, 2, 3]], ('asdf', 'sdf', 'qew'))"
      ]
     },
     "execution_count": 46,
     "metadata": {},
     "output_type": "execute_result"
    }
   ],
   "source": [
    "a = ( [1,2,3] , [11,12,13] , [14,15,16] , ('asdf','sdf','qew') )\n",
    "\n",
    "a[2].append([1,2,3])\n",
    "\n",
    "a"
   ]
  },
  {
   "cell_type": "markdown",
   "metadata": {
    "id": "c9Yf2wEsXMdA"
   },
   "source": [
    "### SET\n",
    "\n"
   ]
  },
  {
   "cell_type": "code",
   "execution_count": 50,
   "metadata": {
    "id": "WDLULhBNTR4F"
   },
   "outputs": [],
   "source": [
    "# un-ordered datatye\n",
    "# set will only have unique element"
   ]
  },
  {
   "cell_type": "code",
   "execution_count": 48,
   "metadata": {
    "colab": {
     "base_uri": "https://localhost:8080/"
    },
    "id": "4NOpZZUBX4X8",
    "outputId": "3199c4e9-9021-4d06-9fcb-0f2d6f87b3ba"
   },
   "outputs": [
    {
     "data": {
      "text/plain": [
       "set()"
      ]
     },
     "execution_count": 48,
     "metadata": {},
     "output_type": "execute_result"
    }
   ],
   "source": [
    "{}\n",
    "set() # can convert any iterable datatype to set"
   ]
  },
  {
   "cell_type": "code",
   "execution_count": null,
   "metadata": {
    "id": "_U1A1LlHYm7p"
   },
   "outputs": [],
   "source": [
    "# set can have elements like int, float, bool ,None , str,tuple"
   ]
  },
  {
   "cell_type": "code",
   "execution_count": 49,
   "metadata": {
    "colab": {
     "base_uri": "https://localhost:8080/"
    },
    "id": "xMWeKBeiYMm9",
    "outputId": "0fc029de-497e-4d28-e61b-957371b506c3"
   },
   "outputs": [
    {
     "data": {
      "text/plain": [
       "{1, 2, 3, 4, 5, 6, 123}"
      ]
     },
     "execution_count": 49,
     "metadata": {},
     "output_type": "execute_result"
    }
   ],
   "source": [
    "a = {123,1,2,3,4,5,6}\n",
    "a"
   ]
  },
  {
   "cell_type": "code",
   "execution_count": 51,
   "metadata": {
    "colab": {
     "base_uri": "https://localhost:8080/"
    },
    "id": "D5yP3yG8YSPc",
    "outputId": "57c4502c-3362-4faf-ed16-8f6835808a4a"
   },
   "outputs": [
    {
     "data": {
      "text/plain": [
       "{1, 2, 3, 4, 5, 6, 7, 123}"
      ]
     },
     "execution_count": 51,
     "metadata": {},
     "output_type": "execute_result"
    }
   ],
   "source": [
    "a = {123,1,2,3,4,5,6,6,6,7,3,2,1,2,3,1}\n",
    "a"
   ]
  },
  {
   "cell_type": "code",
   "execution_count": 53,
   "metadata": {
    "colab": {
     "base_uri": "https://localhost:8080/",
     "height": 183
    },
    "id": "PvGFUSO3Yc3w",
    "outputId": "01990319-1768-4bef-fd7a-448a15302f2f"
   },
   "outputs": [
    {
     "ename": "TypeError",
     "evalue": "ignored",
     "output_type": "error",
     "traceback": [
      "\u001b[0;31m---------------------------------------------------------------------------\u001b[0m",
      "\u001b[0;31mTypeError\u001b[0m                                 Traceback (most recent call last)",
      "\u001b[0;32m<ipython-input-53-8c005ddbd04b>\u001b[0m in \u001b[0;36m<cell line: 1>\u001b[0;34m()\u001b[0m\n\u001b[0;32m----> 1\u001b[0;31m \u001b[0ma\u001b[0m \u001b[0;34m=\u001b[0m \u001b[0;34m{\u001b[0m\u001b[0;36m123\u001b[0m\u001b[0;34m,\u001b[0m\u001b[0;36m1\u001b[0m\u001b[0;34m,\u001b[0m\u001b[0;36m2\u001b[0m\u001b[0;34m,\u001b[0m\u001b[0;36m3\u001b[0m\u001b[0;34m,\u001b[0m\u001b[0;36m4\u001b[0m\u001b[0;34m,\u001b[0m\u001b[0;36m5\u001b[0m\u001b[0;34m,\u001b[0m\u001b[0;36m6\u001b[0m\u001b[0;34m,\u001b[0m\u001b[0;36m6\u001b[0m\u001b[0;34m,\u001b[0m\u001b[0;36m6\u001b[0m\u001b[0;34m,\u001b[0m\u001b[0;36m7\u001b[0m\u001b[0;34m,\u001b[0m\u001b[0;36m3\u001b[0m\u001b[0;34m,\u001b[0m\u001b[0;36m2\u001b[0m\u001b[0;34m,\u001b[0m\u001b[0;36m1\u001b[0m\u001b[0;34m,\u001b[0m\u001b[0;36m2\u001b[0m\u001b[0;34m,\u001b[0m\u001b[0;36m3\u001b[0m\u001b[0;34m,\u001b[0m\u001b[0;36m1\u001b[0m\u001b[0;34m,\u001b[0m\u001b[0;34m[\u001b[0m\u001b[0;36m12\u001b[0m\u001b[0;34m,\u001b[0m\u001b[0;36m1\u001b[0m\u001b[0;34m,\u001b[0m\u001b[0;36m3\u001b[0m\u001b[0;34m]\u001b[0m\u001b[0;34m}\u001b[0m\u001b[0;34m\u001b[0m\u001b[0;34m\u001b[0m\u001b[0m\n\u001b[0m\u001b[1;32m      2\u001b[0m \u001b[0ma\u001b[0m\u001b[0;34m\u001b[0m\u001b[0;34m\u001b[0m\u001b[0m\n",
      "\u001b[0;31mTypeError\u001b[0m: unhashable type: 'list'"
     ]
    }
   ],
   "source": [
    "a = {123,1,2,3,4,5,6,6,6,7,3,2,1,2,3,1,[12,1,3]}\n",
    "a"
   ]
  },
  {
   "cell_type": "code",
   "execution_count": 54,
   "metadata": {
    "colab": {
     "base_uri": "https://localhost:8080/"
    },
    "id": "yq07c8KjYhwX",
    "outputId": "6810e455-5c04-4325-efcc-4c6ad7d9040f"
   },
   "outputs": [
    {
     "data": {
      "text/plain": [
       "{1, 123, 2, 3, 4, 5, 6, 7, '[12,1,3]'}"
      ]
     },
     "execution_count": 54,
     "metadata": {},
     "output_type": "execute_result"
    }
   ],
   "source": [
    "a = {123,1,2,3,4,5,6,6,6,7,3,2,1,2,3,1,'[12,1,3]'}\n",
    "a"
   ]
  },
  {
   "cell_type": "code",
   "execution_count": 56,
   "metadata": {
    "colab": {
     "base_uri": "https://localhost:8080/",
     "height": 183
    },
    "id": "WhpzSdIUYzcY",
    "outputId": "0f570a1e-37ec-4b41-cd6f-e8e8940496a6"
   },
   "outputs": [
    {
     "ename": "TypeError",
     "evalue": "ignored",
     "output_type": "error",
     "traceback": [
      "\u001b[0;31m---------------------------------------------------------------------------\u001b[0m",
      "\u001b[0;31mTypeError\u001b[0m                                 Traceback (most recent call last)",
      "\u001b[0;32m<ipython-input-56-a08b2be8f770>\u001b[0m in \u001b[0;36m<cell line: 1>\u001b[0;34m()\u001b[0m\n\u001b[0;32m----> 1\u001b[0;31m \u001b[0ma\u001b[0m \u001b[0;34m=\u001b[0m \u001b[0;34m{\u001b[0m\u001b[0;36m123\u001b[0m\u001b[0;34m,\u001b[0m\u001b[0;36m1\u001b[0m\u001b[0;34m,\u001b[0m\u001b[0;36m2\u001b[0m\u001b[0;34m,\u001b[0m\u001b[0;36m3\u001b[0m\u001b[0;34m,\u001b[0m\u001b[0;36m4\u001b[0m\u001b[0;34m,\u001b[0m\u001b[0;34m(\u001b[0m\u001b[0;34m{\u001b[0m\u001b[0;36m12\u001b[0m\u001b[0;34m,\u001b[0m\u001b[0;36m12\u001b[0m\u001b[0;34m}\u001b[0m\u001b[0;34m)\u001b[0m\u001b[0;34m}\u001b[0m\u001b[0;34m\u001b[0m\u001b[0;34m\u001b[0m\u001b[0m\n\u001b[0m\u001b[1;32m      2\u001b[0m \u001b[0ma\u001b[0m\u001b[0;34m\u001b[0m\u001b[0;34m\u001b[0m\u001b[0m\n",
      "\u001b[0;31mTypeError\u001b[0m: unhashable type: 'set'"
     ]
    }
   ],
   "source": [
    "a = {123,1,2,3,4}\n",
    "a"
   ]
  },
  {
   "cell_type": "markdown",
   "metadata": {
    "id": "NHeQrmlkZpKq"
   },
   "source": [
    "#### SET METHODS:"
   ]
  },
  {
   "cell_type": "code",
   "execution_count": 57,
   "metadata": {
    "id": "iPdSUbGXZqo9"
   },
   "outputs": [],
   "source": [
    "a = {1,2,3,4}\n",
    "b = {4,5,6,7}"
   ]
  },
  {
   "cell_type": "code",
   "execution_count": 59,
   "metadata": {
    "colab": {
     "base_uri": "https://localhost:8080/"
    },
    "id": "gWqH-XhdZ_MA",
    "outputId": "a3cf1b1b-c528-488d-8e10-716cd888fb21"
   },
   "outputs": [
    {
     "data": {
      "text/plain": [
       "['__and__',\n",
       " '__class__',\n",
       " '__class_getitem__',\n",
       " '__contains__',\n",
       " '__delattr__',\n",
       " '__dir__',\n",
       " '__doc__',\n",
       " '__eq__',\n",
       " '__format__',\n",
       " '__ge__',\n",
       " '__getattribute__',\n",
       " '__gt__',\n",
       " '__hash__',\n",
       " '__iand__',\n",
       " '__init__',\n",
       " '__init_subclass__',\n",
       " '__ior__',\n",
       " '__isub__',\n",
       " '__iter__',\n",
       " '__ixor__',\n",
       " '__le__',\n",
       " '__len__',\n",
       " '__lt__',\n",
       " '__ne__',\n",
       " '__new__',\n",
       " '__or__',\n",
       " '__rand__',\n",
       " '__reduce__',\n",
       " '__reduce_ex__',\n",
       " '__repr__',\n",
       " '__ror__',\n",
       " '__rsub__',\n",
       " '__rxor__',\n",
       " '__setattr__',\n",
       " '__sizeof__',\n",
       " '__str__',\n",
       " '__sub__',\n",
       " '__subclasshook__',\n",
       " '__xor__',\n",
       " 'add',\n",
       " 'clear',\n",
       " 'copy',\n",
       " 'difference',\n",
       " 'difference_update',\n",
       " 'discard',\n",
       " 'intersection',\n",
       " 'intersection_update',\n",
       " 'isdisjoint',\n",
       " 'issubset',\n",
       " 'issuperset',\n",
       " 'pop',\n",
       " 'remove',\n",
       " 'symmetric_difference',\n",
       " 'symmetric_difference_update',\n",
       " 'union',\n",
       " 'update']"
      ]
     },
     "execution_count": 59,
     "metadata": {},
     "output_type": "execute_result"
    }
   ],
   "source": [
    "dir(set)"
   ]
  },
  {
   "cell_type": "code",
   "execution_count": 60,
   "metadata": {
    "colab": {
     "base_uri": "https://localhost:8080/"
    },
    "id": "RPD2FRciZvid",
    "outputId": "3f1503b8-b3d8-44c5-86ea-e9710d4ae298"
   },
   "outputs": [
    {
     "data": {
      "text/plain": [
       "{1, 2, 3, 4, 'Magsh'}"
      ]
     },
     "execution_count": 60,
     "metadata": {},
     "output_type": "execute_result"
    }
   ],
   "source": [
    "a = {1,2,3,4}\n",
    "b = {4,5,6,7}\n",
    "a.add('Magsh')\n",
    "a"
   ]
  },
  {
   "cell_type": "code",
   "execution_count": 61,
   "metadata": {
    "colab": {
     "base_uri": "https://localhost:8080/"
    },
    "id": "nN_Q3jBAZ-kF",
    "outputId": "af2a6998-da8b-44f5-e5e4-a9c631780f65"
   },
   "outputs": [
    {
     "data": {
      "text/plain": [
       "{2, 3, 4, 'Magsh'}"
      ]
     },
     "execution_count": 61,
     "metadata": {},
     "output_type": "execute_result"
    }
   ],
   "source": [
    "a.pop() # remove random element from set\n",
    "a"
   ]
  },
  {
   "cell_type": "code",
   "execution_count": 62,
   "metadata": {
    "colab": {
     "base_uri": "https://localhost:8080/"
    },
    "id": "kRrYfZlmamiS",
    "outputId": "7451ff77-61dc-4c11-e28a-8c124d515ca9"
   },
   "outputs": [
    {
     "data": {
      "text/plain": [
       "{2, 3, 'Magsh'}"
      ]
     },
     "execution_count": 62,
     "metadata": {},
     "output_type": "execute_result"
    }
   ],
   "source": [
    "a.remove(4) # remove the exace element from set\n",
    "a"
   ]
  },
  {
   "cell_type": "code",
   "execution_count": 63,
   "metadata": {
    "colab": {
     "base_uri": "https://localhost:8080/"
    },
    "id": "e8zywICzawzR",
    "outputId": "2e73fa33-2833-44f6-90ad-56f6b0003f13"
   },
   "outputs": [
    {
     "data": {
      "text/plain": [
       "{1, 2, 3, 4, 5, 6, 7}"
      ]
     },
     "execution_count": 63,
     "metadata": {},
     "output_type": "execute_result"
    }
   ],
   "source": [
    "a = {1,2,3,4}\n",
    "b = {4,5,6,7}\n",
    "a.union(b)"
   ]
  },
  {
   "cell_type": "code",
   "execution_count": 64,
   "metadata": {
    "colab": {
     "base_uri": "https://localhost:8080/"
    },
    "id": "GOQTc9xja5Js",
    "outputId": "ee462a65-6325-454e-89b2-96df7bead5b1"
   },
   "outputs": [
    {
     "data": {
      "text/plain": [
       "{4}"
      ]
     },
     "execution_count": 64,
     "metadata": {},
     "output_type": "execute_result"
    }
   ],
   "source": [
    "a.intersection(b)"
   ]
  },
  {
   "cell_type": "code",
   "execution_count": 91,
   "metadata": {
    "colab": {
     "base_uri": "https://localhost:8080/"
    },
    "id": "Kdh07nbBiRqf",
    "outputId": "e05c6375-967c-4aa1-f243-52e534a8f796"
   },
   "outputs": [
    {
     "name": "stdout",
     "output_type": "stream",
     "text": [
      "{1, 2, 3, 4}\n",
      "intersection {4}\n",
      "{4}\n"
     ]
    }
   ],
   "source": [
    "a = {1,2,3,4}\n",
    "b = {4,5,6,7}\n",
    "print(a)\n",
    "print('intersection',a.intersection(b))\n",
    "a.intersection_update(b)\n",
    "print(a)\n"
   ]
  },
  {
   "cell_type": "code",
   "execution_count": 66,
   "metadata": {
    "colab": {
     "base_uri": "https://localhost:8080/"
    },
    "id": "8V9gvGUhbLAn",
    "outputId": "45d751b3-a7f8-41cd-bc4a-e128ef0feca0"
   },
   "outputs": [
    {
     "name": "stdout",
     "output_type": "stream",
     "text": [
      "{1, 2, 3}\n",
      "{5, 6, 7}\n"
     ]
    }
   ],
   "source": [
    "print(a.difference(b))\n",
    "print(b.difference(a))"
   ]
  },
  {
   "cell_type": "code",
   "execution_count": 68,
   "metadata": {
    "colab": {
     "base_uri": "https://localhost:8080/"
    },
    "id": "Qv8wvXB5bnqp",
    "outputId": "63e8494a-7b4d-4297-a4fd-cd7a8e1d357f"
   },
   "outputs": [
    {
     "name": "stdout",
     "output_type": "stream",
     "text": [
      "{1, 2, 3, 5, 6, 7}\n",
      "{1, 2, 3, 5, 6, 7}\n"
     ]
    }
   ],
   "source": [
    "print(a.symmetric_difference(b))"
   ]
  },
  {
   "cell_type": "code",
   "execution_count": 69,
   "metadata": {
    "colab": {
     "base_uri": "https://localhost:8080/"
    },
    "id": "q9kJsj0AcCwa",
    "outputId": "01c19e5f-bb65-4eaa-8f58-c82e553350d2"
   },
   "outputs": [
    {
     "name": "stdout",
     "output_type": "stream",
     "text": [
      "{4}\n"
     ]
    }
   ],
   "source": [
    "a = {1,2,3,4}\n",
    "b = {4,5,6,7}\n",
    "a.intersection_update(b)\n",
    "print(a)"
   ]
  },
  {
   "cell_type": "code",
   "execution_count": 72,
   "metadata": {
    "colab": {
     "base_uri": "https://localhost:8080/"
    },
    "id": "Wot6HVQLceyd",
    "outputId": "6fe84adc-d2b4-449d-8b98-0a504ecd75e2"
   },
   "outputs": [
    {
     "name": "stdout",
     "output_type": "stream",
     "text": [
      "[1, 2, 'Magesh']\n",
      "[1, 2, 'Magesh']\n"
     ]
    }
   ],
   "source": [
    "# copy:\n",
    "\n",
    "a = [1,2,3]\n",
    "b = a         # changes maded will be reflected in both variable\n",
    "# a & b have the common memeory\n",
    "a.pop()\n",
    "b.append('Magesh')\n",
    "\n",
    "print(a)\n",
    "print(b)"
   ]
  },
  {
   "cell_type": "code",
   "execution_count": 73,
   "metadata": {
    "colab": {
     "base_uri": "https://localhost:8080/"
    },
    "id": "CXKKOzU-c7rp",
    "outputId": "06392f94-33f1-4d24-b7cc-7ac58ebea6fc"
   },
   "outputs": [
    {
     "name": "stdout",
     "output_type": "stream",
     "text": [
      "[1, 2]\n",
      "[1, 2, 3, 'Magesh']\n"
     ]
    }
   ],
   "source": [
    "# copy:\n",
    "\n",
    "a = [1,2,3]\n",
    "b = a.copy()         \n",
    "# a & b have the diff memeory\n",
    "a.pop()\n",
    "b.append('Magesh')\n",
    "\n",
    "print(a)\n",
    "print(b)"
   ]
  },
  {
   "cell_type": "code",
   "execution_count": null,
   "metadata": {
    "id": "o0Xvzl5RdWnU"
   },
   "outputs": [],
   "source": []
  },
  {
   "cell_type": "markdown",
   "metadata": {
    "id": "VKZ4U7kBd8OS"
   },
   "source": [
    "### DICT:"
   ]
  },
  {
   "cell_type": "code",
   "execution_count": 74,
   "metadata": {
    "colab": {
     "base_uri": "https://localhost:8080/"
    },
    "id": "RdD2LPj8d-WX",
    "outputId": "9cd3f63a-14c6-48c6-911a-14a6a4d99e31"
   },
   "outputs": [
    {
     "data": {
      "text/plain": [
       "{}"
      ]
     },
     "execution_count": 74,
     "metadata": {},
     "output_type": "execute_result"
    }
   ],
   "source": [
    "{}\n",
    "dict()"
   ]
  },
  {
   "cell_type": "code",
   "execution_count": 75,
   "metadata": {
    "id": "ExVgfAYjeEMz"
   },
   "outputs": [],
   "source": [
    "# 1. for all ele it must have two data (i.e) key : value pair\n",
    "# 2. by using key we can take the value  dict_variable[keyelement]\n",
    "# 3. value can be any data type but | key data type int,flot,str,None,tuple\n",
    "# 4. if the key is common dict will consider only the lastest key - value pair\n",
    "# 5. we can update or create a  key-value pair (i.e) we can only update value"
   ]
  },
  {
   "cell_type": "code",
   "execution_count": 76,
   "metadata": {
    "id": "n7XYustHeO8e"
   },
   "outputs": [],
   "source": [
    "a = { 'key1':'value1' , 'key2':'value2' , \"key3\" : \"value3\" , }"
   ]
  },
  {
   "cell_type": "code",
   "execution_count": 77,
   "metadata": {
    "colab": {
     "base_uri": "https://localhost:8080/",
     "height": 36
    },
    "id": "wZ7fCQ1aeoTu",
    "outputId": "f4a43546-9cbe-4f81-d06b-f613176635d7"
   },
   "outputs": [
    {
     "data": {
      "application/vnd.google.colaboratory.intrinsic+json": {
       "type": "string"
      },
      "text/plain": [
       "'value3'"
      ]
     },
     "execution_count": 77,
     "metadata": {},
     "output_type": "execute_result"
    }
   ],
   "source": [
    "a[\"key3\"]"
   ]
  },
  {
   "cell_type": "code",
   "execution_count": 79,
   "metadata": {
    "id": "FQMOqipEfQH-"
   },
   "outputs": [],
   "source": [
    "# a[\"key4\"] # error "
   ]
  },
  {
   "cell_type": "code",
   "execution_count": 80,
   "metadata": {
    "colab": {
     "base_uri": "https://localhost:8080/"
    },
    "id": "I2oLW4nrfhRB",
    "outputId": "303e993c-0083-4dca-a1b6-c8fe6d7d044b"
   },
   "outputs": [
    {
     "data": {
      "text/plain": [
       "{'key1': 'value1', 'key2': 'value2', 'key3': ['value3'], 'key4': {1: 2, 2: 3}}"
      ]
     },
     "execution_count": 80,
     "metadata": {},
     "output_type": "execute_result"
    }
   ],
   "source": [
    "a = { 'key1':'value1' , 'key2':'value2' , \"key3\" : [\"value3\" ], \"key4\" : {1:2,2:3} }\n",
    "a"
   ]
  },
  {
   "cell_type": "code",
   "execution_count": 82,
   "metadata": {
    "id": "xTWNUSXLgAj4"
   },
   "outputs": [],
   "source": [
    "# a = { 'key1':'value1' , 'key2':'value2' , [\"key3\"] : [\"value3\" ], \"key4\" : {1:2,2:3} } error\n",
    "# a"
   ]
  },
  {
   "cell_type": "code",
   "execution_count": 83,
   "metadata": {
    "colab": {
     "base_uri": "https://localhost:8080/"
    },
    "id": "O7Ih0LOogDoY",
    "outputId": "92361f23-1e64-4e9f-f6b3-89d7332a6e4c"
   },
   "outputs": [
    {
     "data": {
      "text/plain": [
       "{'key1': 'Magesh'}"
      ]
     },
     "execution_count": 83,
     "metadata": {},
     "output_type": "execute_result"
    }
   ],
   "source": [
    "a = { 'key1':'value1' , \"key1\":\"Magesh\" }\n",
    "a # {  \"key1\":\"Magesh\" }"
   ]
  },
  {
   "cell_type": "code",
   "execution_count": 84,
   "metadata": {
    "colab": {
     "base_uri": "https://localhost:8080/"
    },
    "id": "t5nO9fTygfjD",
    "outputId": "1a271ce3-d15a-400a-9a9c-1b8eb2020c4e"
   },
   "outputs": [
    {
     "data": {
      "text/plain": [
       "{'key1': 'Magesh', 'name': 'Magesh'}"
      ]
     },
     "execution_count": 84,
     "metadata": {},
     "output_type": "execute_result"
    }
   ],
   "source": [
    "a = {  \"key1\":\"Magesh\" }\n",
    "\n",
    "a['name'] = 'Magesh'\n",
    "\n",
    "a   # {  \"key1\":\"Magesh\" , 'name': 'Magesh'}"
   ]
  },
  {
   "cell_type": "code",
   "execution_count": 85,
   "metadata": {
    "colab": {
     "base_uri": "https://localhost:8080/"
    },
    "id": "DkgNuHFjhHKw",
    "outputId": "d35a60ec-287e-4773-fb0d-9a1ea3871efd"
   },
   "outputs": [
    {
     "name": "stdout",
     "output_type": "stream",
     "text": [
      "{'key1': ['Update'], 'name': 'Magesh'}\n"
     ]
    }
   ],
   "source": [
    "a = {'key1': 'Magesh', 'name': 'Magesh'}\n",
    "\n",
    "a['key1'] = ['Update']\n",
    "\n",
    "print(a)"
   ]
  },
  {
   "cell_type": "code",
   "execution_count": 1,
   "metadata": {
    "id": "gi0cWQO6hTSx"
   },
   "outputs": [
    {
     "name": "stdout",
     "output_type": "stream",
     "text": [
      "Requirement already satisfied: matplotlib in /home/ducati/anaconda3/lib/python3.9/site-packages (3.5.2)\n",
      "Requirement already satisfied: numpy>=1.17 in /home/ducati/anaconda3/lib/python3.9/site-packages (from matplotlib) (1.21.5)\n",
      "Requirement already satisfied: kiwisolver>=1.0.1 in /home/ducati/anaconda3/lib/python3.9/site-packages (from matplotlib) (1.4.2)\n",
      "Requirement already satisfied: pyparsing>=2.2.1 in /home/ducati/anaconda3/lib/python3.9/site-packages (from matplotlib) (3.0.9)\n",
      "Requirement already satisfied: fonttools>=4.22.0 in /home/ducati/anaconda3/lib/python3.9/site-packages (from matplotlib) (4.25.0)\n",
      "Requirement already satisfied: pillow>=6.2.0 in /home/ducati/anaconda3/lib/python3.9/site-packages (from matplotlib) (9.2.0)\n",
      "Requirement already satisfied: packaging>=20.0 in /home/ducati/anaconda3/lib/python3.9/site-packages (from matplotlib) (21.3)\n",
      "Requirement already satisfied: cycler>=0.10 in /home/ducati/anaconda3/lib/python3.9/site-packages (from matplotlib) (0.11.0)\n",
      "Requirement already satisfied: python-dateutil>=2.7 in /home/ducati/anaconda3/lib/python3.9/site-packages (from matplotlib) (2.8.2)\n",
      "Requirement already satisfied: six>=1.5 in /home/ducati/anaconda3/lib/python3.9/site-packages (from python-dateutil>=2.7->matplotlib) (1.16.0)\n"
     ]
    }
   ],
   "source": [
    "! pip install matplotlib"
   ]
  },
  {
   "cell_type": "code",
   "execution_count": null,
   "metadata": {},
   "outputs": [],
   "source": []
  }
 ],
 "metadata": {
  "colab": {
   "collapsed_sections": [
    "lSRnSIvJMsJl",
    "x4qfjZgFP7aN",
    "sS6tX--DPujC",
    "c9Yf2wEsXMdA"
   ],
   "provenance": []
  },
  "kernelspec": {
   "display_name": "Python 3 (ipykernel)",
   "language": "python",
   "name": "python3"
  },
  "language_info": {
   "codemirror_mode": {
    "name": "ipython",
    "version": 3
   },
   "file_extension": ".py",
   "mimetype": "text/x-python",
   "name": "python",
   "nbconvert_exporter": "python",
   "pygments_lexer": "ipython3",
   "version": "3.9.13"
  }
 },
 "nbformat": 4,
 "nbformat_minor": 1
}
