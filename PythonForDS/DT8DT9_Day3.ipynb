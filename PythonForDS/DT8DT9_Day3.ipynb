{
 "cells": [
  {
   "cell_type": "code",
   "execution_count": 1,
   "metadata": {
    "id": "HB6nrXNOJhl7"
   },
   "outputs": [],
   "source": [
    "# SPLIT:\n",
    "\n",
    "# syntax\n",
    "# str_variable.split('substring')\n",
    "\n",
    "# output type will be in list\n",
    "# the substring will not be in the output.\n",
    "# substring there will be a break where we found this sub string"
   ]
  },
  {
   "cell_type": "code",
   "execution_count": 2,
   "metadata": {
    "colab": {
     "base_uri": "https://localhost:8080/"
    },
    "id": "yKRqI9TBJ6rV",
    "outputId": "09a2befb-f578-455c-e9e9-9b2c93ce6c1b"
   },
   "outputs": [
    {
     "data": {
      "text/plain": [
       "['at', 'h ', 'ri', 'ket']"
      ]
     },
     "execution_count": 2,
     "metadata": {},
     "output_type": "execute_result"
    }
   ],
   "source": [
    "a = 'atch cricket'\n",
    "a.split('c')"
   ]
  },
  {
   "cell_type": "code",
   "execution_count": 3,
   "metadata": {
    "colab": {
     "base_uri": "https://localhost:8080/",
     "height": 36
    },
    "id": "GRiR-dS-Kirz",
    "outputId": "aaa005fa-3cbe-47bf-92fb-51a30f0cb518"
   },
   "outputs": [
    {
     "data": {
      "application/vnd.google.colaboratory.intrinsic+json": {
       "type": "string"
      },
      "text/plain": [
       "'ket'"
      ]
     },
     "execution_count": 3,
     "metadata": {},
     "output_type": "execute_result"
    }
   ],
   "source": [
    "a = ['at', 'h ', 'ri', 'ket']\n",
    "a[3]"
   ]
  },
  {
   "cell_type": "code",
   "execution_count": 4,
   "metadata": {
    "colab": {
     "base_uri": "https://localhost:8080/"
    },
    "id": "Jwbg8Kc3Kiy1",
    "outputId": "aa7a61c7-0e0f-44a1-dcf5-fd77d716c4f5"
   },
   "outputs": [
    {
     "data": {
      "text/plain": [
       "[]"
      ]
     },
     "execution_count": 4,
     "metadata": {},
     "output_type": "execute_result"
    }
   ],
   "source": [
    "list() # can convert any iterable datatype to list"
   ]
  },
  {
   "cell_type": "code",
   "execution_count": 5,
   "metadata": {
    "colab": {
     "base_uri": "https://localhost:8080/"
    },
    "id": "mtWQsX82Ki1d",
    "outputId": "525685c6-bb9b-4a7c-823d-30e16fcb7f71"
   },
   "outputs": [
    {
     "data": {
      "text/plain": [
       "['a', 't', 'c', 'h', ' ', 'c', 'r', 'i', 'c', 'k', 'e', 't']"
      ]
     },
     "execution_count": 5,
     "metadata": {},
     "output_type": "execute_result"
    }
   ],
   "source": [
    "a = 'atch cricket'\n",
    "list(a)"
   ]
  },
  {
   "cell_type": "markdown",
   "metadata": {
    "id": "vyXNTsj1MCeb"
   },
   "source": [
    "### LIST METHOD:"
   ]
  },
  {
   "cell_type": "code",
   "execution_count": 6,
   "metadata": {
    "colab": {
     "base_uri": "https://localhost:8080/"
    },
    "id": "B9xVU1ccKi3y",
    "outputId": "786cd276-6121-44dc-9d03-ba438429b870"
   },
   "outputs": [
    {
     "data": {
      "text/plain": [
       "['__add__',\n",
       " '__class__',\n",
       " '__class_getitem__',\n",
       " '__contains__',\n",
       " '__delattr__',\n",
       " '__delitem__',\n",
       " '__dir__',\n",
       " '__doc__',\n",
       " '__eq__',\n",
       " '__format__',\n",
       " '__ge__',\n",
       " '__getattribute__',\n",
       " '__getitem__',\n",
       " '__gt__',\n",
       " '__hash__',\n",
       " '__iadd__',\n",
       " '__imul__',\n",
       " '__init__',\n",
       " '__init_subclass__',\n",
       " '__iter__',\n",
       " '__le__',\n",
       " '__len__',\n",
       " '__lt__',\n",
       " '__mul__',\n",
       " '__ne__',\n",
       " '__new__',\n",
       " '__reduce__',\n",
       " '__reduce_ex__',\n",
       " '__repr__',\n",
       " '__reversed__',\n",
       " '__rmul__',\n",
       " '__setattr__',\n",
       " '__setitem__',\n",
       " '__sizeof__',\n",
       " '__str__',\n",
       " '__subclasshook__',\n",
       " 'append',\n",
       " 'clear',\n",
       " 'copy',\n",
       " 'count',\n",
       " 'extend',\n",
       " 'index',\n",
       " 'insert',\n",
       " 'pop',\n",
       " 'remove',\n",
       " 'reverse',\n",
       " 'sort']"
      ]
     },
     "execution_count": 6,
     "metadata": {},
     "output_type": "execute_result"
    }
   ],
   "source": [
    "dir(list)"
   ]
  },
  {
   "cell_type": "code",
   "execution_count": 17,
   "metadata": {
    "colab": {
     "base_uri": "https://localhost:8080/"
    },
    "id": "udRYv9P8Ki6Y",
    "outputId": "8fefaecc-51b8-4090-be70-366cb4911409"
   },
   "outputs": [
    {
     "name": "stdout",
     "output_type": "stream",
     "text": [
      "['at', 'h ', 'ri', 'ket', 'one', 15, ['one', 12, 3, 4, 4, 6]]\n"
     ]
    }
   ],
   "source": [
    "# APPEND:\n",
    "\n",
    "# it will take only one element\n",
    "# it will add that element at the end of the list.\n",
    "\n",
    "a = ['at', 'h ', 'ri', 'ket']\n",
    "a.append('one')\n",
    "a.append(15)\n",
    "a.append(['one',12,3,4,4,6])\n",
    "print(a)\n",
    "# ['at', 'h ', 'ri', 'ket', 'one', 15,['one',12,3,4,4,6]]"
   ]
  },
  {
   "cell_type": "code",
   "execution_count": 20,
   "metadata": {
    "colab": {
     "base_uri": "https://localhost:8080/"
    },
    "id": "KoF0QuXiOu9Z",
    "outputId": "4d1fc13c-a869-4003-fe73-65b9277aec03"
   },
   "outputs": [
    {
     "name": "stdout",
     "output_type": "stream",
     "text": [
      "6\n",
      "['one', 12, 4, 4, 6]\n"
     ]
    }
   ],
   "source": [
    "# POP:\n",
    "\n",
    "a = ['one', 12, 3, 4, 4, 6]\n",
    "# a.pop()         # it will remove the last element\n",
    "a.pop(2)          # remove the index no element\n",
    "print(a[4])  \n",
    "print(a)"
   ]
  },
  {
   "cell_type": "code",
   "execution_count": 16,
   "metadata": {
    "colab": {
     "base_uri": "https://localhost:8080/"
    },
    "id": "9Obuu0WEOBkx",
    "outputId": "15a9681c-49f7-4a41-90a4-b49c1b3d67f4"
   },
   "outputs": [
    {
     "name": "stdout",
     "output_type": "stream",
     "text": [
      "['at', 'h ', 'ri', 'ket', 'one', 12, 3, 4, 4, 6]\n"
     ]
    }
   ],
   "source": [
    "# EXTEND:\n",
    "\n",
    "# it will take only one element\n",
    "# it will add all the  element one by one at the end of the list.\n",
    "\n",
    "a = ['at', 'h ', 'ri', 'ket']\n",
    "a.extend(['one',12,3,4,4,6])\n",
    "print(a)"
   ]
  },
  {
   "cell_type": "code",
   "execution_count": 12,
   "metadata": {
    "colab": {
     "base_uri": "https://localhost:8080/"
    },
    "id": "qvVejHs3Ki_E",
    "outputId": "6fa37fbd-d8ce-486b-fe33-9c327035748e"
   },
   "outputs": [
    {
     "name": "stdout",
     "output_type": "stream",
     "text": [
      "0\n",
      "3\n",
      "0\n"
     ]
    }
   ],
   "source": [
    "# COUNT:\n",
    "\n",
    "# syntax\n",
    "# a.count(any element)\n",
    "# it will take only one element\n",
    "# gives the output of how many times the substring is repeated\n",
    "# it is case sensitive and check exact datatype\n",
    "\n",
    "a = ['at', 'h ', 'ri', 'ket','ket','ket',1,2,3,1,1,1,3]\n",
    "print(a.count('one'))\n",
    "print(a.count('ket'))\n",
    "print(a.count('1'))\n",
    "\n"
   ]
  },
  {
   "cell_type": "code",
   "execution_count": 22,
   "metadata": {
    "colab": {
     "base_uri": "https://localhost:8080/",
     "height": 36
    },
    "id": "Ej9gUZ5tKjBq",
    "outputId": "0a127efe-6372-4601-9ea2-ed5c0846d1be"
   },
   "outputs": [
    {
     "data": {
      "application/vnd.google.colaboratory.intrinsic+json": {
       "type": "string"
      },
      "text/plain": [
       "'one-12-3-4-4-6'"
      ]
     },
     "execution_count": 22,
     "metadata": {},
     "output_type": "execute_result"
    }
   ],
   "source": [
    "# JOIN:\n",
    "# to use join all the elements in a list must be a str\n",
    "\n",
    "a = ['one','12','3','4','4','6']\n",
    "'-'.join(a)"
   ]
  },
  {
   "cell_type": "code",
   "execution_count": 2,
   "metadata": {
    "id": "q6Mhs23KKf5B"
   },
   "outputs": [],
   "source": [
    "# sort\n",
    "# sorted\n",
    "# reverse\n",
    "# reversed\n",
    "# copy\n",
    "\n",
    "# sum\n",
    "# max\n",
    "# min\n",
    "# insert\n",
    "# chr \n",
    "# ord\n",
    "# clear\n"
   ]
  },
  {
   "cell_type": "code",
   "execution_count": 24,
   "metadata": {
    "colab": {
     "base_uri": "https://localhost:8080/"
    },
    "id": "C8kxS9VyKhvL",
    "outputId": "5796a4c7-f5e4-4cca-b0ef-b91b4e55d7a2"
   },
   "outputs": [
    {
     "name": "stdout",
     "output_type": "stream",
     "text": [
      "[1, 21, 41, 98, 123, 124, 341]\n"
     ]
    }
   ],
   "source": [
    "# sort\n",
    "\n",
    "# syntax:\n",
    "# list_var.sort()\n",
    "\n",
    "# 1. by default sort in ascending order\n",
    "# 2. it will sort the source variable (i.e) list_var\n",
    "\n",
    "a = [1,21,123,124,341,41,98]\n",
    "a.sort()\n",
    "print(a)"
   ]
  },
  {
   "cell_type": "code",
   "execution_count": 29,
   "metadata": {
    "colab": {
     "base_uri": "https://localhost:8080/"
    },
    "id": "OJ8QmVgRKhxN",
    "outputId": "06c8d6a7-0aaf-41c7-c0a0-9c3e9e8374a6"
   },
   "outputs": [
    {
     "name": "stdout",
     "output_type": "stream",
     "text": [
      "[1, 21, 41, 98, 123, 124, 341]\n",
      "[1, 21, 123, 124, 341, 41, 98]\n"
     ]
    }
   ],
   "source": [
    "# sorted\n",
    "\n",
    "# syntax:\n",
    "# sorted(list_var)\n",
    "\n",
    "# 1. by default sort in ascending order\n",
    "# 2. it will sort and it will create a new list\n",
    "# 3. it will not affect the soure\n",
    "\n",
    "a = [1,21,123,124,341,41,98]\n",
    "c = sorted(a)\n",
    "print(c)\n",
    "print(a)"
   ]
  },
  {
   "cell_type": "code",
   "execution_count": 30,
   "metadata": {
    "colab": {
     "base_uri": "https://localhost:8080/"
    },
    "id": "pNsKhQegKhz2",
    "outputId": "5251968d-1277-4d4e-ae21-e0585e336393"
   },
   "outputs": [
    {
     "name": "stdout",
     "output_type": "stream",
     "text": [
      "[98, 41, 341, 124, 123, 21, 1]\n"
     ]
    }
   ],
   "source": [
    "# reverse\n",
    "\n",
    "# syntax:\n",
    "# list_var.reverse()\n",
    "\n",
    "# 1. it will reverse the input\n",
    "# 2. it will sort the source variable (i.e) list_var\n",
    "\n",
    "a = [1,21,123,124,341,41,98]\n",
    "a.reverse()\n",
    "print(a)"
   ]
  },
  {
   "cell_type": "code",
   "execution_count": 32,
   "metadata": {
    "colab": {
     "base_uri": "https://localhost:8080/"
    },
    "id": "VuektoJSKh2M",
    "outputId": "c53c76b5-9936-4477-a2fe-187a2074b861"
   },
   "outputs": [
    {
     "name": "stdout",
     "output_type": "stream",
     "text": [
      "[98, 41, 341, 124, 123, 21, 1]\n",
      "[1, 21, 123, 124, 341, 41, 98]\n"
     ]
    }
   ],
   "source": [
    "# reversed\n",
    "\n",
    "# syntax:\n",
    "# reversed(list_var)\n",
    "\n",
    "# 1. it will reverse the list and give as new output\n",
    "# 2. it will reverse and it will create a new list\n",
    "# 3. it will not affect the soure\n",
    "# 4. output will be in type iterator    |  we have to use list method\n",
    "\n",
    "a = [1,21,123,124,341,41,98]\n",
    "c = reversed(a)\n",
    "print(list(c))\n",
    "print(a)"
   ]
  },
  {
   "cell_type": "code",
   "execution_count": null,
   "metadata": {
    "id": "nx1DEL51Kh4f"
   },
   "outputs": [],
   "source": []
  },
  {
   "cell_type": "markdown",
   "metadata": {
    "id": "ui0mCha_T9OJ"
   },
   "source": [
    "### CONDITIONS:"
   ]
  },
  {
   "cell_type": "code",
   "execution_count": 33,
   "metadata": {
    "id": "gJL1ZyX7Kh7G"
   },
   "outputs": [],
   "source": [
    "# if elif else\n"
   ]
  },
  {
   "cell_type": "code",
   "execution_count": null,
   "metadata": {
    "id": "z-YWDGZIUK_L"
   },
   "outputs": [],
   "source": [
    "# syntax\n",
    "\n",
    "# if condition:  # condition = True or False\n",
    "#   statement\n",
    "# elif condition:\n",
    "#   statement\n",
    "# elif condition:\n",
    "#   statement\n",
    "# elif condition:\n",
    "#   statement\n",
    "# elif condition:\n",
    "#   statement\n",
    "# else:\n",
    "#   statemennt\n",
    "\n",
    "# 1. if holds the first priority\n",
    "# 2. if the condition is True the statemenet of if will be executed\n",
    "# 3. if the condition is False the statemenet of else will be executed\n",
    "# 4. for an if-else condition there will be only one output"
   ]
  },
  {
   "cell_type": "code",
   "execution_count": null,
   "metadata": {
    "id": "mxHChSP9UV_2"
   },
   "outputs": [],
   "source": [
    "# when a condition will be False \n",
    "\n",
    "# False. None. 0. empty any data-type\n",
    "\n",
    "# apart from the above everything will be considired as True"
   ]
  },
  {
   "cell_type": "code",
   "execution_count": 36,
   "metadata": {
    "colab": {
     "base_uri": "https://localhost:8080/"
    },
    "id": "4rfj1y7mUWB1",
    "outputId": "712610f1-3f29-4c54-d56c-fe3b56f36d63"
   },
   "outputs": [
    {
     "name": "stdout",
     "output_type": "stream",
     "text": [
      "Hello\n"
     ]
    }
   ],
   "source": [
    "if True:\n",
    "  print('Hello')"
   ]
  },
  {
   "cell_type": "code",
   "execution_count": 38,
   "metadata": {
    "id": "cbt9VO3PUWD8"
   },
   "outputs": [],
   "source": [
    "if False:\n",
    "  print('Hi')"
   ]
  },
  {
   "cell_type": "code",
   "execution_count": 39,
   "metadata": {
    "colab": {
     "base_uri": "https://localhost:8080/"
    },
    "id": "Eh-_NL1NV_J7",
    "outputId": "695cdefc-321c-48f3-b14d-a1015da54bba"
   },
   "outputs": [
    {
     "name": "stdout",
     "output_type": "stream",
     "text": [
      "inside else block\n"
     ]
    }
   ],
   "source": [
    "if False:\n",
    "  print('Hi')\n",
    "else:\n",
    "  print('inside else block')"
   ]
  },
  {
   "cell_type": "code",
   "execution_count": 40,
   "metadata": {
    "colab": {
     "base_uri": "https://localhost:8080/"
    },
    "id": "Y2yWffeaWU1_",
    "outputId": "6eb005ab-60cb-40d8-9a16-4a2dc55e4c0a"
   },
   "outputs": [
    {
     "name": "stdout",
     "output_type": "stream",
     "text": [
      "2\n"
     ]
    }
   ],
   "source": [
    "if 45%5:\n",
    "  print(1)\n",
    "else:\n",
    "  print(2)"
   ]
  },
  {
   "cell_type": "code",
   "execution_count": 41,
   "metadata": {
    "colab": {
     "base_uri": "https://localhost:8080/"
    },
    "id": "W0Ygxd9lWsQZ",
    "outputId": "54c52b36-7c62-4775-f096-fdafb7d8cfea"
   },
   "outputs": [
    {
     "name": "stdout",
     "output_type": "stream",
     "text": [
      "1\n"
     ]
    }
   ],
   "source": [
    "if 45*5:\n",
    "  print(1)\n",
    "else:\n",
    "  print(2)"
   ]
  },
  {
   "cell_type": "code",
   "execution_count": 42,
   "metadata": {
    "colab": {
     "base_uri": "https://localhost:8080/"
    },
    "id": "tGUIQYHVXA8f",
    "outputId": "4af62ef6-a312-4f20-8803-dd0a3faae3f1"
   },
   "outputs": [
    {
     "name": "stdout",
     "output_type": "stream",
     "text": [
      "1\n"
     ]
    }
   ],
   "source": [
    "if 'condition':  \n",
    "  print(1)\n",
    "elif True:\n",
    "  print(2)\n",
    "elif 45< 90:\n",
    "  print(3)\n",
    "elif 30 * 12:\n",
    "  print(4)\n",
    "elif 0:\n",
    "  print(5)\n",
    "else:\n",
    "    print(6)\n"
   ]
  },
  {
   "cell_type": "code",
   "execution_count": 43,
   "metadata": {
    "colab": {
     "base_uri": "https://localhost:8080/"
    },
    "id": "7CeX-limYnVB",
    "outputId": "ce507d9e-390f-42ee-a865-5f17ef07f02a"
   },
   "outputs": [
    {
     "name": "stdout",
     "output_type": "stream",
     "text": [
      "2\n",
      "4\n",
      "6\n",
      "8\n"
     ]
    }
   ],
   "source": [
    "if '':  \n",
    "  print(1)\n",
    "elif True:\n",
    "  print(2)\n",
    "else:\n",
    "    print(3)\n",
    "  \n",
    "if '0':\n",
    "  print(4)\n",
    "\n",
    "if 45 > 80:\n",
    "  print(5)\n",
    "else:\n",
    "  print(6)\n",
    "\n",
    "if False:\n",
    "  print(7)\n",
    "elif 45 > 20:\n",
    "  print(8)\n",
    "elif 'Magesh':\n",
    "  print(9)\n",
    "elif 10 % 2:\n",
    "  print(10)"
   ]
  },
  {
   "cell_type": "code",
   "execution_count": 44,
   "metadata": {
    "colab": {
     "base_uri": "https://localhost:8080/"
    },
    "id": "yPny4kOaaMjJ",
    "outputId": "68b6127d-2454-4fa6-96b4-d2126b96d65f"
   },
   "outputs": [
    {
     "data": {
      "text/plain": [
       "True"
      ]
     },
     "execution_count": 44,
     "metadata": {},
     "output_type": "execute_result"
    }
   ],
   "source": [
    "True or False"
   ]
  },
  {
   "cell_type": "code",
   "execution_count": 45,
   "metadata": {
    "colab": {
     "base_uri": "https://localhost:8080/"
    },
    "id": "689o3WmjbZ0r",
    "outputId": "29303a0f-f4ec-41b0-f882-bcc79d4dd11b"
   },
   "outputs": [
    {
     "data": {
      "text/plain": [
       "False"
      ]
     },
     "execution_count": 45,
     "metadata": {},
     "output_type": "execute_result"
    }
   ],
   "source": [
    "True and False"
   ]
  },
  {
   "cell_type": "code",
   "execution_count": 47,
   "metadata": {
    "colab": {
     "base_uri": "https://localhost:8080/"
    },
    "id": "MsGF2njMbcK-",
    "outputId": "1f0263b5-fad5-4604-beb4-c346522508c1"
   },
   "outputs": [
    {
     "name": "stdout",
     "output_type": "stream",
     "text": [
      "2\n"
     ]
    }
   ],
   "source": [
    "if 56 > 45 and '':\n",
    "  print(1)\n",
    "else:\n",
    "  print(2)"
   ]
  },
  {
   "cell_type": "code",
   "execution_count": 48,
   "metadata": {
    "colab": {
     "base_uri": "https://localhost:8080/"
    },
    "id": "Gll0MGDxbor6",
    "outputId": "b4f83009-0b73-4224-db5d-2e7106769841"
   },
   "outputs": [
    {
     "data": {
      "text/plain": [
       "True"
      ]
     },
     "execution_count": 48,
     "metadata": {},
     "output_type": "execute_result"
    }
   ],
   "source": [
    "'in' in  'I live in India'"
   ]
  },
  {
   "cell_type": "code",
   "execution_count": 49,
   "metadata": {
    "colab": {
     "base_uri": "https://localhost:8080/"
    },
    "id": "L92PHW3KcCWo",
    "outputId": "c76e28c6-5f50-43ea-b2e8-ef4ab75d5e3f"
   },
   "outputs": [
    {
     "data": {
      "text/plain": [
       "True"
      ]
     },
     "execution_count": 49,
     "metadata": {},
     "output_type": "execute_result"
    }
   ],
   "source": [
    "'In' in  'I live in India'\n"
   ]
  },
  {
   "cell_type": "code",
   "execution_count": 50,
   "metadata": {
    "colab": {
     "base_uri": "https://localhost:8080/"
    },
    "id": "fTpE7VyScJY0",
    "outputId": "61557268-6513-4e98-f819-1d4895fc66a0"
   },
   "outputs": [
    {
     "data": {
      "text/plain": [
       "False"
      ]
     },
     "execution_count": 50,
     "metadata": {},
     "output_type": "execute_result"
    }
   ],
   "source": [
    "not True # changes the condition"
   ]
  },
  {
   "cell_type": "code",
   "execution_count": 51,
   "metadata": {
    "colab": {
     "base_uri": "https://localhost:8080/"
    },
    "id": "R5cLrOrccRov",
    "outputId": "fa1c348e-fbd9-494c-9bb1-7254deeb83e7"
   },
   "outputs": [
    {
     "data": {
      "text/plain": [
       "True"
      ]
     },
     "execution_count": 51,
     "metadata": {},
     "output_type": "execute_result"
    }
   ],
   "source": [
    "not False"
   ]
  },
  {
   "cell_type": "code",
   "execution_count": 52,
   "metadata": {
    "colab": {
     "base_uri": "https://localhost:8080/"
    },
    "id": "9GX0BHT8cUJ3",
    "outputId": "82f3fa33-34aa-49fa-c732-c6b14594dbe8"
   },
   "outputs": [
    {
     "data": {
      "text/plain": [
       "True"
      ]
     },
     "execution_count": 52,
     "metadata": {},
     "output_type": "execute_result"
    }
   ],
   "source": [
    "'lv' not in  'I live in India'\n",
    "# not in - not of in output"
   ]
  },
  {
   "cell_type": "code",
   "execution_count": null,
   "metadata": {
    "id": "6ypihDCYcjwb"
   },
   "outputs": [],
   "source": [
    "## "
   ]
  },
  {
   "cell_type": "markdown",
   "metadata": {
    "id": "ntcOqSjScqFK"
   },
   "source": [
    "## ITERATION:"
   ]
  },
  {
   "cell_type": "code",
   "execution_count": 53,
   "metadata": {
    "id": "Iwx4DIUAcrtX"
   },
   "outputs": [],
   "source": [
    "# to take all the element form that iterable data type one by one"
   ]
  },
  {
   "cell_type": "code",
   "execution_count": null,
   "metadata": {
    "id": "bMGvvYFlc3WJ"
   },
   "outputs": [],
   "source": [
    "# 1. for loop   / finite loop\n",
    "# 2. while loop / infinite loop"
   ]
  },
  {
   "cell_type": "markdown",
   "metadata": {
    "id": "sNmcDKXXdJgl"
   },
   "source": [
    "#### 1. for loop   / finite loop\n"
   ]
  },
  {
   "cell_type": "code",
   "execution_count": 54,
   "metadata": {
    "id": "3DnU8HDcdLhC"
   },
   "outputs": [],
   "source": [
    "# syntax:\n",
    "\n",
    "# for i in iterable_data_type:\n",
    "#   statement\n",
    "\n",
    "# for user_defined_variable in iterable_data_type:\n",
    "#   statement"
   ]
  },
  {
   "cell_type": "code",
   "execution_count": 63,
   "metadata": {
    "colab": {
     "base_uri": "https://localhost:8080/"
    },
    "id": "rgXzYm5qe2Eb",
    "outputId": "f2563968-3d1a-43cf-a902-86936b637a09"
   },
   "outputs": [
    {
     "name": "stdout",
     "output_type": "stream",
     "text": [
      "odd 1\n",
      "even 2\n",
      "odd 3\n",
      "even 4\n",
      "odd 5\n",
      "even 6\n",
      "6\n"
     ]
    }
   ],
   "source": [
    "a = [1,2,3,4,5,6]\n",
    "\n",
    "for i in a:\n",
    "  if (i%2!=0):\n",
    "    print('odd',i)\n",
    "  else:\n",
    "    print('even',i)\n",
    "\n",
    "print(i) # 6\n",
    "\n",
    "# a = 100\n",
    "# a = a + 30\n",
    "# print(a)\n",
    "\n",
    "# 1. i = 1 :\n",
    "# 2. i = 2\n",
    "# 3. i = 3 \n",
    "# 4. i = 4\n",
    "# 5. i = 5\n",
    "# 6. i = 6"
   ]
  },
  {
   "cell_type": "markdown",
   "metadata": {
    "id": "UZT8BtgRi9Du"
   },
   "source": [
    "## INPUT:"
   ]
  },
  {
   "cell_type": "code",
   "execution_count": 67,
   "metadata": {
    "colab": {
     "base_uri": "https://localhost:8080/"
    },
    "id": "6AlcfbUFe8Y_",
    "outputId": "0a8b90f7-13e3-477e-ba3d-9da6920a6593"
   },
   "outputs": [
    {
     "name": "stdout",
     "output_type": "stream",
     "text": [
      "Enter the Number: 21312\n",
      "Enter the Number2: 45645\n",
      "Enter the Number3: asdfdsf\n",
      "21312\n",
      "<class 'str'>\n"
     ]
    }
   ],
   "source": [
    "a = input('Enter the Number: ')\n",
    "b = input('Enter the Number2: ')\n",
    "c = input('Enter the Number3: ')\n",
    "print(a)\n",
    "print(type(a))\n",
    "\n",
    "# ALWAYS this data type will be a string"
   ]
  },
  {
   "cell_type": "code",
   "execution_count": 69,
   "metadata": {
    "colab": {
     "base_uri": "https://localhost:8080/"
    },
    "id": "3hT3websgVoE",
    "outputId": "ebf5f4be-9e33-436e-8b37-56d0bf53528b"
   },
   "outputs": [
    {
     "name": "stdout",
     "output_type": "stream",
     "text": [
      "number1 2 3 4 5 6 7\n"
     ]
    }
   ],
   "source": [
    "a = input('number')"
   ]
  },
  {
   "cell_type": "code",
   "execution_count": 71,
   "metadata": {
    "colab": {
     "base_uri": "https://localhost:8080/",
     "height": 36
    },
    "id": "6ywGC3aSjzuW",
    "outputId": "4647df6f-1426-43af-b401-4f65ca58b6e4"
   },
   "outputs": [
    {
     "data": {
      "application/vnd.google.colaboratory.intrinsic+json": {
       "type": "string"
      },
      "text/plain": [
       "'1 2 3 4 5 6 7'"
      ]
     },
     "execution_count": 71,
     "metadata": {},
     "output_type": "execute_result"
    }
   ],
   "source": [
    "a"
   ]
  },
  {
   "cell_type": "code",
   "execution_count": 83,
   "metadata": {
    "colab": {
     "base_uri": "https://localhost:8080/"
    },
    "id": "2JxDRwW2j9uO",
    "outputId": "9389a39d-239e-4b18-ede3-460dda4d259c"
   },
   "outputs": [
    {
     "name": "stdout",
     "output_type": "stream",
     "text": [
      "odd 3\n",
      "even 4\n",
      "odd 5\n",
      "even 2\n"
     ]
    }
   ],
   "source": [
    "a = '3452rtyjk'\n",
    "# b = int(a)\n",
    "# print(b)\n",
    "for i in a:\n",
    "  c = int(i)\n",
    "  # print(i)\n",
    "  if (c%2!=0):\n",
    "    print('odd',i)\n",
    "  else:\n",
    "    print('even',i)\n",
    "\n",
    "# 1. i = '3' : c = int('3') = 3 : 'odd 3'\n",
    "# 2. i = '4' : c = int('4') = 4 : 'even 4'\n",
    "# 3. i = '5' : c = int('5') = 5 : 'odd 5'\n",
    "# 4. i = '2' : c = int('2') = 2 : 'even 2'"
   ]
  },
  {
   "cell_type": "code",
   "execution_count": null,
   "metadata": {
    "id": "lDeSgWyekh96"
   },
   "outputs": [],
   "source": []
  }
 ],
 "metadata": {
  "colab": {
   "collapsed_sections": [
    "vyXNTsj1MCeb",
    "ui0mCha_T9OJ"
   ],
   "provenance": []
  },
  "kernelspec": {
   "display_name": "Python 3 (ipykernel)",
   "language": "python",
   "name": "python3"
  },
  "language_info": {
   "codemirror_mode": {
    "name": "ipython",
    "version": 3
   },
   "file_extension": ".py",
   "mimetype": "text/x-python",
   "name": "python",
   "nbconvert_exporter": "python",
   "pygments_lexer": "ipython3",
   "version": "3.9.13"
  }
 },
 "nbformat": 4,
 "nbformat_minor": 1
}
