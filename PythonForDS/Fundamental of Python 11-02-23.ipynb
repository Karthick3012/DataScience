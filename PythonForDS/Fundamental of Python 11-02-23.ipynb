{
 "cells": [
  {
   "cell_type": "markdown",
   "id": "5f1b5407",
   "metadata": {},
   "source": [
    "# Heading \n",
    "## Heading \n",
    "### Heading \n",
    "#### Heading \n",
    "##### Heading"
   ]
  },
  {
   "cell_type": "code",
   "execution_count": 1,
   "id": "83472ea5",
   "metadata": {},
   "outputs": [
    {
     "name": "stdout",
     "output_type": "stream",
     "text": [
      "Hello! World\n",
      "Hello! World\n"
     ]
    }
   ],
   "source": [
    "print('Hello! World') # printing the hello! world statement\n",
    "print(\"Hello! World\")"
   ]
  },
  {
   "cell_type": "raw",
   "id": "8ba9ed60",
   "metadata": {},
   "source": [
    "I want you all to print 'My first code in Python' "
   ]
  },
  {
   "cell_type": "markdown",
   "id": "8246a2c1",
   "metadata": {},
   "source": [
    "# Python Variables"
   ]
  },
  {
   "cell_type": "code",
   "execution_count": 2,
   "id": "d45671f8",
   "metadata": {},
   "outputs": [
    {
     "name": "stdout",
     "output_type": "stream",
     "text": [
      "Guvi\n",
      "45\n"
     ]
    }
   ],
   "source": [
    "x = 'Harshit' \n",
    "y = 45 \n",
    "x = 'Guvi'\n",
    "#Variable = x,  'Harshit' = Value\n",
    "print(x)\n",
    "print(y)"
   ]
  },
  {
   "cell_type": "markdown",
   "id": "5d2e4d37",
   "metadata": {},
   "source": [
    "# Data Types in Python"
   ]
  },
  {
   "cell_type": "raw",
   "id": "8a8a68f1",
   "metadata": {},
   "source": [
    "Text Type : str \n",
    "'Harshit', 'Guvi', '1234Harshit', \n",
    "'gsuygbfdbsfiuh hiufhsdnfkhiowu uhjf iojhkjnfsf njkbskf.'\n",
    "\n",
    "Numeric Type: int, float, complex\n",
    "int --> 1 , 2, 3, 4, 5, 6\n",
    "float --> 1.23, 2.34, 2.000\n",
    "complex --> 1i, 1j, 1 + 1i, i = -1\n",
    "\n",
    "Sequence Type: list, tuple \n",
    "list = [\"aarthi\", \"Abhijit\", \"12345\"]\n",
    "tuple = (\"aarthi\", \"Abhijit\", \"12345\")\n",
    "\n",
    "map type = dict, dictionary \n",
    "dictt = {'name' : 'akash'}\n",
    "          key      value \n",
    "          \n",
    "Boolean Type:\n",
    "True,False"
   ]
  },
  {
   "cell_type": "code",
   "execution_count": 3,
   "id": "f7b22715",
   "metadata": {},
   "outputs": [
    {
     "name": "stdout",
     "output_type": "stream",
     "text": [
      "<class 'int'>\n"
     ]
    }
   ],
   "source": [
    "x = 5 \n",
    "print(type(x)) "
   ]
  },
  {
   "cell_type": "code",
   "execution_count": 4,
   "id": "9ca53e88",
   "metadata": {},
   "outputs": [
    {
     "name": "stdout",
     "output_type": "stream",
     "text": [
      "<class 'float'>\n"
     ]
    }
   ],
   "source": [
    "x = 5.0\n",
    "print(type(x))"
   ]
  },
  {
   "cell_type": "code",
   "execution_count": 5,
   "id": "9f575c64",
   "metadata": {},
   "outputs": [
    {
     "name": "stdout",
     "output_type": "stream",
     "text": [
      "<class 'str'>\n"
     ]
    }
   ],
   "source": [
    "z = 'Arunprasath'\n",
    "print(type(z))"
   ]
  },
  {
   "cell_type": "code",
   "execution_count": 6,
   "id": "84f69f95",
   "metadata": {},
   "outputs": [
    {
     "name": "stdout",
     "output_type": "stream",
     "text": [
      "<class 'list'>\n"
     ]
    }
   ],
   "source": [
    "listt = [\"aarthi\", \"Abhijit\", \"12345\"]\n",
    "print(type(listt))"
   ]
  },
  {
   "cell_type": "code",
   "execution_count": 7,
   "id": "e6d1f992",
   "metadata": {},
   "outputs": [
    {
     "name": "stdout",
     "output_type": "stream",
     "text": [
      "<class 'tuple'>\n"
     ]
    }
   ],
   "source": [
    "tup = (\"aarthi\", \"Abhijit\", \"12345\")\n",
    "print(type(tup))"
   ]
  },
  {
   "cell_type": "markdown",
   "id": "3473951c",
   "metadata": {},
   "source": [
    "# Casting"
   ]
  },
  {
   "cell_type": "code",
   "execution_count": 8,
   "id": "e9459696",
   "metadata": {},
   "outputs": [
    {
     "name": "stdout",
     "output_type": "stream",
     "text": [
      "3\n",
      "3.0\n",
      "3\n",
      "<class 'str'>\n",
      "<class 'float'>\n",
      "<class 'int'>\n"
     ]
    }
   ],
   "source": [
    "q = str(3)\n",
    "w = float(3)\n",
    "e = int(3) \n",
    "print(q)\n",
    "print(w)\n",
    "print(e) \n",
    "print(type(q))\n",
    "print(type(w))\n",
    "print(type(e))"
   ]
  },
  {
   "cell_type": "code",
   "execution_count": 9,
   "id": "7a775873",
   "metadata": {},
   "outputs": [
    {
     "name": "stdout",
     "output_type": "stream",
     "text": [
      "<class 'int'>\n",
      "<class 'str'>\n"
     ]
    }
   ],
   "source": [
    "x = 3\n",
    "print(type(x)) \n",
    "y = str(x)\n",
    "print(type(y))"
   ]
  },
  {
   "cell_type": "code",
   "execution_count": 10,
   "id": "c843858d",
   "metadata": {},
   "outputs": [
    {
     "name": "stdout",
     "output_type": "stream",
     "text": [
      "<class 'float'>\n",
      "3.0\n",
      "<class 'int'>\n",
      "3\n"
     ]
    }
   ],
   "source": [
    "y = 3.0\n",
    "print(type(y))\n",
    "print(y)\n",
    "s = int(y)\n",
    "print(type(s))\n",
    "print(s)"
   ]
  },
  {
   "cell_type": "markdown",
   "id": "ad59e630",
   "metadata": {},
   "source": [
    "# Arithmetic Operations"
   ]
  },
  {
   "cell_type": "raw",
   "id": "af746f23",
   "metadata": {},
   "source": [
    "Do the summation of two numbers"
   ]
  },
  {
   "cell_type": "code",
   "execution_count": 11,
   "id": "21f4d389",
   "metadata": {},
   "outputs": [
    {
     "name": "stdout",
     "output_type": "stream",
     "text": [
      "addition of 2.7 + 9 is 11.7\n",
      "addition summ\n"
     ]
    }
   ],
   "source": [
    "a = 2.7 \n",
    "b = 9 \n",
    "summ = a + b\n",
    "print(\"addition of 2.7 + 9 is\", summ)\n",
    "print(\"addition \" + \"summ\")"
   ]
  },
  {
   "cell_type": "raw",
   "id": "0e7a19ed",
   "metadata": {},
   "source": [
    "do the substraction of two numbers\n",
    "multiplication \n",
    "division \n",
    "exponential of two number"
   ]
  },
  {
   "cell_type": "code",
   "execution_count": 12,
   "id": "6c72b75e",
   "metadata": {},
   "outputs": [
    {
     "name": "stdout",
     "output_type": "stream",
     "text": [
      "substarction: -6.3\n",
      "multiplication: 24.3\n",
      "division: 3.333333333333333\n"
     ]
    }
   ],
   "source": [
    "sub = a - b \n",
    "multiplication = a * b \n",
    "division = b / a \n",
    "\n",
    "print(\"substarction:\", sub)\n",
    "print(\"multiplication:\", multiplication)\n",
    "print(\"division:\", division)"
   ]
  },
  {
   "cell_type": "raw",
   "id": "ea46920c",
   "metadata": {},
   "source": [
    "a ^ b \n",
    "2 ^ 3"
   ]
  },
  {
   "cell_type": "code",
   "execution_count": 13,
   "id": "3a3b1dec",
   "metadata": {},
   "outputs": [
    {
     "name": "stdout",
     "output_type": "stream",
     "text": [
      "2 of power 3 is 8\n"
     ]
    }
   ],
   "source": [
    "a = 2\n",
    "b = 3\n",
    "exp = a ** b\n",
    "print(\"2 of power 3 is\", exp)"
   ]
  },
  {
   "cell_type": "code",
   "execution_count": 14,
   "id": "59a33df3",
   "metadata": {},
   "outputs": [
    {
     "name": "stdout",
     "output_type": "stream",
     "text": [
      "floor division: 1\n",
      "floor division: 7\n"
     ]
    }
   ],
   "source": [
    "# Floor Division \n",
    "# 3 / 2 = 1 \n",
    "# 15 / 2 = 7 \n",
    "\n",
    "a = 3  \n",
    "b = 2 \n",
    "floor = a // b \n",
    "print('floor division:', floor) \n",
    "\n",
    "x = 15  \n",
    "y = 2 \n",
    "floor = x // y \n",
    "print('floor division:', floor) "
   ]
  },
  {
   "cell_type": "code",
   "execution_count": 15,
   "id": "646d39ad",
   "metadata": {},
   "outputs": [
    {
     "name": "stdout",
     "output_type": "stream",
     "text": [
      "remainder: 1\n"
     ]
    }
   ],
   "source": [
    "# 15 / 2 = 7 remainder \n",
    "# Modulus Operator \n",
    "\n",
    "x = 15  \n",
    "y = 2 \n",
    "rm = x % y \n",
    "print('remainder:', rm) "
   ]
  },
  {
   "cell_type": "markdown",
   "id": "3dcf4713",
   "metadata": {},
   "source": [
    "# Comparison operator in python"
   ]
  },
  {
   "cell_type": "code",
   "execution_count": 16,
   "id": "34604d92",
   "metadata": {},
   "outputs": [],
   "source": [
    "q = 45 \n",
    "w = 15 "
   ]
  },
  {
   "cell_type": "code",
   "execution_count": 17,
   "id": "9c8facbf",
   "metadata": {},
   "outputs": [
    {
     "name": "stdout",
     "output_type": "stream",
     "text": [
      "True\n"
     ]
    }
   ],
   "source": [
    "print(q>w)"
   ]
  },
  {
   "cell_type": "code",
   "execution_count": 18,
   "id": "8cd098fe",
   "metadata": {},
   "outputs": [
    {
     "name": "stdout",
     "output_type": "stream",
     "text": [
      "False\n"
     ]
    }
   ],
   "source": [
    "print(q<w)"
   ]
  },
  {
   "cell_type": "code",
   "execution_count": 19,
   "id": "66dc5d33",
   "metadata": {},
   "outputs": [
    {
     "name": "stdout",
     "output_type": "stream",
     "text": [
      "False\n"
     ]
    }
   ],
   "source": [
    "print(q == w)"
   ]
  },
  {
   "cell_type": "code",
   "execution_count": 20,
   "id": "2f47a3e2",
   "metadata": {},
   "outputs": [
    {
     "name": "stdout",
     "output_type": "stream",
     "text": [
      "True\n"
     ]
    }
   ],
   "source": [
    "print(q != w) # !="
   ]
  },
  {
   "cell_type": "code",
   "execution_count": 21,
   "id": "922ede8f",
   "metadata": {},
   "outputs": [
    {
     "name": "stdout",
     "output_type": "stream",
     "text": [
      "True\n"
     ]
    }
   ],
   "source": [
    "print(q >= w)"
   ]
  },
  {
   "cell_type": "code",
   "execution_count": 22,
   "id": "1c83b95d",
   "metadata": {},
   "outputs": [
    {
     "name": "stdout",
     "output_type": "stream",
     "text": [
      "False\n"
     ]
    }
   ],
   "source": [
    "print(q <= w)"
   ]
  },
  {
   "cell_type": "markdown",
   "id": "4463f61e",
   "metadata": {},
   "source": [
    "# Logical Operator"
   ]
  },
  {
   "cell_type": "markdown",
   "id": "7503a738",
   "metadata": {},
   "source": [
    "and, or, not"
   ]
  },
  {
   "cell_type": "code",
   "execution_count": 23,
   "id": "445177b0",
   "metadata": {},
   "outputs": [],
   "source": [
    "a = True\n",
    "b = False"
   ]
  },
  {
   "cell_type": "code",
   "execution_count": 24,
   "id": "f3f2d613",
   "metadata": {},
   "outputs": [
    {
     "name": "stdout",
     "output_type": "stream",
     "text": [
      "False\n"
     ]
    }
   ],
   "source": [
    "print(a and b) # variables are need to be true"
   ]
  },
  {
   "cell_type": "code",
   "execution_count": 25,
   "id": "f0838c5f",
   "metadata": {},
   "outputs": [
    {
     "name": "stdout",
     "output_type": "stream",
     "text": [
      "True\n"
     ]
    }
   ],
   "source": [
    "print(a or b) # either of the variables are need to be true"
   ]
  },
  {
   "cell_type": "code",
   "execution_count": 26,
   "id": "47ac1e05",
   "metadata": {},
   "outputs": [
    {
     "name": "stdout",
     "output_type": "stream",
     "text": [
      "False\n"
     ]
    }
   ],
   "source": [
    "print(not a) # opposite of given condition"
   ]
  },
  {
   "cell_type": "markdown",
   "id": "da39d868",
   "metadata": {},
   "source": [
    "# assigment operator"
   ]
  },
  {
   "cell_type": "code",
   "execution_count": 27,
   "id": "04328e8d",
   "metadata": {},
   "outputs": [
    {
     "name": "stdout",
     "output_type": "stream",
     "text": [
      "8\n"
     ]
    }
   ],
   "source": [
    "a = 5\n",
    "b = 3\n",
    "c = a + b\n",
    "print(c)"
   ]
  },
  {
   "cell_type": "code",
   "execution_count": 28,
   "id": "c357eb82",
   "metadata": {},
   "outputs": [
    {
     "name": "stdout",
     "output_type": "stream",
     "text": [
      "8\n"
     ]
    }
   ],
   "source": [
    "a = 5\n",
    "b = 3\n",
    "a += b\n",
    "print(a)"
   ]
  },
  {
   "cell_type": "code",
   "execution_count": 29,
   "id": "721e9684",
   "metadata": {},
   "outputs": [
    {
     "name": "stdout",
     "output_type": "stream",
     "text": [
      "11\n"
     ]
    }
   ],
   "source": [
    "a = 8\n",
    "a += b\n",
    "print(a)"
   ]
  },
  {
   "cell_type": "code",
   "execution_count": 30,
   "id": "d92e5813",
   "metadata": {},
   "outputs": [
    {
     "name": "stdout",
     "output_type": "stream",
     "text": [
      "14\n"
     ]
    }
   ],
   "source": [
    "# a = 11\n",
    "a += b\n",
    "print(a)"
   ]
  },
  {
   "cell_type": "code",
   "execution_count": 31,
   "id": "970d95a8",
   "metadata": {},
   "outputs": [
    {
     "name": "stdout",
     "output_type": "stream",
     "text": [
      "17\n"
     ]
    }
   ],
   "source": [
    "a += b\n",
    "print(a)"
   ]
  },
  {
   "cell_type": "raw",
   "id": "8c4655a0",
   "metadata": {},
   "source": [
    "-= \n",
    "*=\n",
    "/= \n",
    "**=\n",
    "//="
   ]
  },
  {
   "cell_type": "code",
   "execution_count": 32,
   "id": "4f158560",
   "metadata": {},
   "outputs": [
    {
     "name": "stdout",
     "output_type": "stream",
     "text": [
      "14\n"
     ]
    }
   ],
   "source": [
    "a -= b \n",
    "print(a)"
   ]
  },
  {
   "cell_type": "code",
   "execution_count": 33,
   "id": "b3fb1431",
   "metadata": {},
   "outputs": [
    {
     "name": "stdout",
     "output_type": "stream",
     "text": [
      "42\n"
     ]
    }
   ],
   "source": [
    "a *= b\n",
    "print(a)"
   ]
  },
  {
   "cell_type": "code",
   "execution_count": 34,
   "id": "c1a2f43c",
   "metadata": {},
   "outputs": [
    {
     "name": "stdout",
     "output_type": "stream",
     "text": [
      "14.0\n"
     ]
    }
   ],
   "source": [
    "a /= b\n",
    "print(a)"
   ]
  },
  {
   "cell_type": "code",
   "execution_count": 35,
   "id": "e9d03c64",
   "metadata": {},
   "outputs": [
    {
     "name": "stdout",
     "output_type": "stream",
     "text": [
      "2744.0\n"
     ]
    }
   ],
   "source": [
    "a **= b\n",
    "print(a)"
   ]
  },
  {
   "cell_type": "code",
   "execution_count": 36,
   "id": "a3e0c579",
   "metadata": {},
   "outputs": [
    {
     "name": "stdout",
     "output_type": "stream",
     "text": [
      "914.0\n"
     ]
    }
   ],
   "source": [
    "a //= b\n",
    "print(a)"
   ]
  },
  {
   "cell_type": "code",
   "execution_count": 37,
   "id": "acb33707",
   "metadata": {},
   "outputs": [
    {
     "name": "stdout",
     "output_type": "stream",
     "text": [
      "True\n",
      "False\n"
     ]
    }
   ],
   "source": [
    "# identity operator \n",
    "a = 45\n",
    "b = 98 \n",
    "\n",
    "print(a is not b) # True \n",
    "print(a is b) # False"
   ]
  },
  {
   "cell_type": "code",
   "execution_count": 38,
   "id": "b51f68a4",
   "metadata": {},
   "outputs": [],
   "source": [
    "# mebership operator \n",
    "s = 20 \n",
    "b = 35 \n",
    "\n",
    "listt = [10, 20, 30, 40, 50]"
   ]
  },
  {
   "cell_type": "code",
   "execution_count": 39,
   "id": "fd3dc5d6",
   "metadata": {},
   "outputs": [
    {
     "name": "stdout",
     "output_type": "stream",
     "text": [
      "True\n"
     ]
    }
   ],
   "source": [
    "print(s in listt)"
   ]
  },
  {
   "cell_type": "code",
   "execution_count": 40,
   "id": "65dc8829",
   "metadata": {},
   "outputs": [
    {
     "name": "stdout",
     "output_type": "stream",
     "text": [
      "False\n"
     ]
    }
   ],
   "source": [
    "print(s not in listt)"
   ]
  },
  {
   "cell_type": "code",
   "execution_count": 41,
   "id": "37dcbb9c",
   "metadata": {},
   "outputs": [
    {
     "name": "stdout",
     "output_type": "stream",
     "text": [
      "False\n"
     ]
    }
   ],
   "source": [
    "print(b in listt)"
   ]
  },
  {
   "cell_type": "code",
   "execution_count": 42,
   "id": "8a0b315d",
   "metadata": {},
   "outputs": [
    {
     "name": "stdout",
     "output_type": "stream",
     "text": [
      "True\n"
     ]
    }
   ],
   "source": [
    "print(b not in listt)"
   ]
  },
  {
   "cell_type": "markdown",
   "id": "7bae4c09",
   "metadata": {},
   "source": [
    "# string"
   ]
  },
  {
   "cell_type": "code",
   "execution_count": 43,
   "id": "b0efd029",
   "metadata": {},
   "outputs": [
    {
     "name": "stdout",
     "output_type": "stream",
     "text": [
      "neeta is eating a food\n"
     ]
    }
   ],
   "source": [
    "strr = \"neeta is eating a food\" \n",
    "strr1 =  \"neetaiseatingafood\" \n",
    "#       01234567891011       2\n",
    "print(strr)"
   ]
  },
  {
   "cell_type": "code",
   "execution_count": 44,
   "id": "b3a17d9c",
   "metadata": {},
   "outputs": [
    {
     "name": "stdout",
     "output_type": "stream",
     "text": [
      "22\n"
     ]
    }
   ],
   "source": [
    "print(len(strr))"
   ]
  },
  {
   "cell_type": "code",
   "execution_count": 45,
   "id": "0677e4c5",
   "metadata": {},
   "outputs": [],
   "source": [
    "# String Slicing"
   ]
  },
  {
   "cell_type": "code",
   "execution_count": 46,
   "id": "88cfe625",
   "metadata": {},
   "outputs": [
    {
     "data": {
      "text/plain": [
       "'neeta'"
      ]
     },
     "execution_count": 46,
     "metadata": {},
     "output_type": "execute_result"
    }
   ],
   "source": [
    "strr[:5]"
   ]
  },
  {
   "cell_type": "code",
   "execution_count": 47,
   "id": "4955f0ab",
   "metadata": {},
   "outputs": [
    {
     "data": {
      "text/plain": [
       "' is eating a food'"
      ]
     },
     "execution_count": 47,
     "metadata": {},
     "output_type": "execute_result"
    }
   ],
   "source": [
    "strr[5:]"
   ]
  },
  {
   "cell_type": "code",
   "execution_count": 48,
   "id": "bc644068",
   "metadata": {},
   "outputs": [
    {
     "data": {
      "text/plain": [
       "'eat'"
      ]
     },
     "execution_count": 48,
     "metadata": {},
     "output_type": "execute_result"
    }
   ],
   "source": [
    "strr1[7:10]"
   ]
  },
  {
   "cell_type": "code",
   "execution_count": 49,
   "id": "be56cdb3",
   "metadata": {},
   "outputs": [
    {
     "data": {
      "text/plain": [
       "'eating'"
      ]
     },
     "execution_count": 49,
     "metadata": {},
     "output_type": "execute_result"
    }
   ],
   "source": [
    "strr[9:15]"
   ]
  },
  {
   "cell_type": "code",
   "execution_count": 50,
   "id": "16092170",
   "metadata": {},
   "outputs": [
    {
     "data": {
      "text/plain": [
       "'is'"
      ]
     },
     "execution_count": 50,
     "metadata": {},
     "output_type": "execute_result"
    }
   ],
   "source": [
    "strr[6:8]"
   ]
  },
  {
   "cell_type": "code",
   "execution_count": 51,
   "id": "bdb04a48",
   "metadata": {},
   "outputs": [],
   "source": [
    "# string concatenation "
   ]
  },
  {
   "cell_type": "code",
   "execution_count": 52,
   "id": "ab31e995",
   "metadata": {},
   "outputs": [
    {
     "name": "stdout",
     "output_type": "stream",
     "text": [
      "LakshmiPriyaNatarajan\n",
      "Lakshmi Priya Natarajan\n",
      "Lakshmi Priya Natarajan\n",
      "6\n",
      "1 2 3\n"
     ]
    }
   ],
   "source": [
    "s1 = 'Lakshmi' \n",
    "s2 =  'Priya'\n",
    "s3 = 'Natarajan'\n",
    "s = 1\n",
    "d = 2\n",
    "f = 3\n",
    "print(s1 + s2 + s3)\n",
    "print(s1 + ' ' + s2 + ' ' + s3)\n",
    "print(s1 , s2 , s3)\n",
    "\n",
    "\n",
    "print(s + d + f)\n",
    "print(s , d , f)"
   ]
  },
  {
   "cell_type": "markdown",
   "id": "36158f9c",
   "metadata": {},
   "source": [
    "# List in python\n",
    "## Properties of list \n",
    "\n",
    "### list are always presented in [ ] brackets.\n",
    "\n",
    "1. Ordered \n",
    "List has a defined order, order will not change, if any new item will come to list it will go at the end of the list,\n",
    "2. Changeable \n",
    "you can add or remove an items from the list. \n",
    "3. Allow duplicates \n",
    "list are indexed, so due to different index position we can have a duplicate value "
   ]
  },
  {
   "cell_type": "raw",
   "id": "81bfb6cd",
   "metadata": {},
   "source": [
    "liss = ['apple', 'Bbanana', 'Orange', 'apple']\n",
    "          0          1          2        3"
   ]
  },
  {
   "cell_type": "code",
   "execution_count": 53,
   "id": "011d02c8",
   "metadata": {},
   "outputs": [
    {
     "name": "stdout",
     "output_type": "stream",
     "text": [
      "['apple', 'Bbanana', 'Orange', 'apple']\n",
      "<class 'list'>\n"
     ]
    }
   ],
   "source": [
    "liss = ['apple', 'Bbanana', 'Orange', 'apple']\n",
    "print(liss) \n",
    "print(type(liss))"
   ]
  },
  {
   "cell_type": "code",
   "execution_count": 54,
   "id": "8cd4a0f9",
   "metadata": {},
   "outputs": [
    {
     "name": "stdout",
     "output_type": "stream",
     "text": [
      "4\n"
     ]
    }
   ],
   "source": [
    "print(len(liss))"
   ]
  },
  {
   "cell_type": "code",
   "execution_count": 55,
   "id": "aa97f690",
   "metadata": {},
   "outputs": [
    {
     "name": "stdout",
     "output_type": "stream",
     "text": [
      "['apple', 'Bbanana', 'Orange', 'apple']\n",
      "[1, 2, 3, 4]\n",
      "[True, False, False]\n"
     ]
    }
   ],
   "source": [
    "liss = ['apple', 'Bbanana', 'Orange', 'apple']\n",
    "liss1 = [1 , 2, 3, 4]\n",
    "liss2 = [True, False, False] \n",
    "print(liss)\n",
    "print(liss1)\n",
    "print(liss2)"
   ]
  },
  {
   "cell_type": "code",
   "execution_count": 56,
   "id": "292debbb",
   "metadata": {},
   "outputs": [
    {
     "name": "stdout",
     "output_type": "stream",
     "text": [
      "['apple', 1, True, 5.36]\n"
     ]
    }
   ],
   "source": [
    "mix_liss = ['apple', 1, True, 5.36]\n",
    "print(mix_liss)"
   ]
  },
  {
   "cell_type": "code",
   "execution_count": 57,
   "id": "958d92b2",
   "metadata": {},
   "outputs": [
    {
     "name": "stdout",
     "output_type": "stream",
     "text": [
      "['apple', [1, 2, 3], 'orange']\n",
      "[1, 2, 3]\n",
      "2\n",
      "3\n"
     ]
    }
   ],
   "source": [
    "# list inside list \n",
    "linl = ['apple', [1, 2, 3], 'orange'] \n",
    "#            0        1       2\n",
    "print(linl) \n",
    "print(linl[1]) \n",
    "print(linl[1][1])\n",
    "print(linl[1][2])"
   ]
  },
  {
   "cell_type": "code",
   "execution_count": 58,
   "id": "78e677e2",
   "metadata": {},
   "outputs": [
    {
     "name": "stdout",
     "output_type": "stream",
     "text": [
      "['apple', [1, 2, 3], 'orange']\n"
     ]
    }
   ],
   "source": [
    "d = list(('apple', [1, 2, 3], 'orange'))\n",
    "print(d)"
   ]
  },
  {
   "cell_type": "code",
   "execution_count": 59,
   "id": "4ec9ba9d",
   "metadata": {},
   "outputs": [
    {
     "name": "stdout",
     "output_type": "stream",
     "text": [
      "['maruti', 'adani', 'reliance', 'bajaj', 'Tata', 'Birla', 'Hero', 'Guvi']\n"
     ]
    }
   ],
   "source": [
    "fruits = ['maruti', 'adani', 'reliance', 'bajaj', 'Tata', 'Birla', 'Hero', 'Guvi']\n",
    "#            0         1          2         3        4       5        6      7     \n",
    "#         -8          -7          -6      -5       -4       -3      -2      -1\n",
    "print(fruits)"
   ]
  },
  {
   "cell_type": "code",
   "execution_count": 60,
   "id": "db1ca729",
   "metadata": {},
   "outputs": [
    {
     "data": {
      "text/plain": [
       "'adani'"
      ]
     },
     "execution_count": 60,
     "metadata": {},
     "output_type": "execute_result"
    }
   ],
   "source": [
    "fruits[1]"
   ]
  },
  {
   "cell_type": "code",
   "execution_count": 61,
   "id": "07374c94",
   "metadata": {},
   "outputs": [
    {
     "data": {
      "text/plain": [
       "'bajaj'"
      ]
     },
     "execution_count": 61,
     "metadata": {},
     "output_type": "execute_result"
    }
   ],
   "source": [
    "fruits[3]"
   ]
  },
  {
   "cell_type": "code",
   "execution_count": 62,
   "id": "30ab157c",
   "metadata": {},
   "outputs": [
    {
     "name": "stdout",
     "output_type": "stream",
     "text": [
      "Guvi\n",
      "Guvi\n"
     ]
    }
   ],
   "source": [
    "print(fruits[-1])\n",
    "print(fruits[7])"
   ]
  },
  {
   "cell_type": "code",
   "execution_count": 63,
   "id": "caf84ed7",
   "metadata": {},
   "outputs": [
    {
     "name": "stdout",
     "output_type": "stream",
     "text": [
      "['Tata', 'Birla', 'Hero']\n"
     ]
    }
   ],
   "source": [
    "print(fruits[4:7])"
   ]
  },
  {
   "cell_type": "code",
   "execution_count": 64,
   "id": "4baf5a18",
   "metadata": {},
   "outputs": [
    {
     "name": "stdout",
     "output_type": "stream",
     "text": [
      "['Tata', 'Birla', 'Hero', 'Guvi']\n"
     ]
    }
   ],
   "source": [
    "print(fruits[4:8])"
   ]
  },
  {
   "cell_type": "code",
   "execution_count": 65,
   "id": "9f967458",
   "metadata": {},
   "outputs": [
    {
     "name": "stdout",
     "output_type": "stream",
     "text": [
      "['maruti', 'adani', 'reliance', 'bajaj', 'Tata', 'Birla', 'Hero', 'Guvi']\n"
     ]
    }
   ],
   "source": [
    "print(fruits[:])"
   ]
  },
  {
   "cell_type": "code",
   "execution_count": 66,
   "id": "ae6eb9b2",
   "metadata": {},
   "outputs": [
    {
     "name": "stdout",
     "output_type": "stream",
     "text": [
      "['bajaj', 'Tata', 'Birla']\n"
     ]
    }
   ],
   "source": [
    "print(fruits[-5:-2])"
   ]
  },
  {
   "cell_type": "code",
   "execution_count": 67,
   "id": "3b549a43",
   "metadata": {},
   "outputs": [],
   "source": [
    "fruits = ['maruti', 'adani', 'reliance', 'bajaj', 'Tata', 'Birla', 'Hero', 'Guvi']"
   ]
  },
  {
   "cell_type": "code",
   "execution_count": 68,
   "id": "aa077ab9",
   "metadata": {},
   "outputs": [
    {
     "name": "stdout",
     "output_type": "stream",
     "text": [
      "['adani', 'reliance', 'bajaj', 'Tata', 'Birla']\n",
      "['maruti', 'bajaj', 'Hero']\n"
     ]
    }
   ],
   "source": [
    "print(fruits[1:6])\n",
    "print(fruits[    0    :   7    :    3 ]) \n",
    "#              Start     End       Step"
   ]
  },
  {
   "cell_type": "markdown",
   "id": "010d877b",
   "metadata": {},
   "source": [
    "### Changing items in the list "
   ]
  },
  {
   "cell_type": "code",
   "execution_count": 69,
   "id": "a6d433d7",
   "metadata": {},
   "outputs": [
    {
     "data": {
      "text/plain": [
       "['maruti', 'adani', 'reliance', 'Godrej', 'Tata', 'Birla', 'Hero', 'Guvi']"
      ]
     },
     "execution_count": 69,
     "metadata": {},
     "output_type": "execute_result"
    }
   ],
   "source": [
    "fruits[3] = 'Godrej'\n",
    "fruits"
   ]
  },
  {
   "cell_type": "code",
   "execution_count": 70,
   "id": "3b13e4b1",
   "metadata": {},
   "outputs": [
    {
     "name": "stdout",
     "output_type": "stream",
     "text": [
      "['maruti', 'adani ports', 'reliance petroleum', 'Godrej', 'Tata', 'Birla', 'Hero', 'Guvi']\n"
     ]
    }
   ],
   "source": [
    "fruits[1:3] = ['adani ports', 'reliance petroleum']\n",
    "print(fruits)"
   ]
  },
  {
   "cell_type": "code",
   "execution_count": 71,
   "id": "0db154b5",
   "metadata": {},
   "outputs": [
    {
     "data": {
      "text/plain": [
       "['maruti',\n",
       " 'adani ports',\n",
       " 'reliance petroleum',\n",
       " 'Godrej',\n",
       " 'Tata',\n",
       " 'Birla',\n",
       " 'Hero',\n",
       " 'Guvi',\n",
       " 'bajaj']"
      ]
     },
     "execution_count": 71,
     "metadata": {},
     "output_type": "execute_result"
    }
   ],
   "source": [
    "# append --> very imp \n",
    "\n",
    "x = 'bajaj'\n",
    "fruits.append(x)\n",
    "fruits"
   ]
  },
  {
   "cell_type": "code",
   "execution_count": 72,
   "id": "c62785f9",
   "metadata": {},
   "outputs": [],
   "source": [
    "y = 'Tata'\n",
    "fruits.append(y)"
   ]
  },
  {
   "cell_type": "code",
   "execution_count": 73,
   "id": "3707ab97",
   "metadata": {},
   "outputs": [
    {
     "name": "stdout",
     "output_type": "stream",
     "text": [
      "['maruti', 'adani ports', 'reliance petroleum', 'Godrej', 'Tata', 'Birla', 'Hero', 'Guvi', 'bajaj', 'Tata']\n"
     ]
    }
   ],
   "source": [
    "print(fruits)"
   ]
  },
  {
   "cell_type": "code",
   "execution_count": 74,
   "id": "0e03da43",
   "metadata": {},
   "outputs": [
    {
     "data": {
      "text/plain": [
       "['maruti',\n",
       " 'reliance petroleum',\n",
       " 'Godrej',\n",
       " 'Tata',\n",
       " 'Birla',\n",
       " 'Hero',\n",
       " 'Guvi',\n",
       " 'bajaj',\n",
       " 'Tata']"
      ]
     },
     "execution_count": 74,
     "metadata": {},
     "output_type": "execute_result"
    }
   ],
   "source": [
    "fruits.remove('adani ports')\n",
    "fruits"
   ]
  },
  {
   "cell_type": "code",
   "execution_count": 75,
   "id": "4ac00f21",
   "metadata": {},
   "outputs": [
    {
     "name": "stdout",
     "output_type": "stream",
     "text": [
      "['maruti', 'reliance petroleum', 'Tata', 'Birla', 'Hero', 'Guvi', 'bajaj', 'Tata']\n"
     ]
    }
   ],
   "source": [
    "fruits.pop(2)\n",
    "print(fruits)"
   ]
  },
  {
   "cell_type": "code",
   "execution_count": 76,
   "id": "c98c417f",
   "metadata": {},
   "outputs": [
    {
     "name": "stdout",
     "output_type": "stream",
     "text": [
      "[1, 2, 3, 4, 5, 'Hari', 'Jaya', 'Harry']\n"
     ]
    }
   ],
   "source": [
    "list1 = [1 ,2 ,3 ,4, 5]\n",
    "list2 = ['Hari', 'Jaya', 'Harry']\n",
    "\n",
    "final_list = list1 + list2\n",
    "print(final_list)"
   ]
  },
  {
   "cell_type": "code",
   "execution_count": 77,
   "id": "d6848e16",
   "metadata": {},
   "outputs": [
    {
     "data": {
      "text/plain": [
       "[1, 2, 3, 4, 5]"
      ]
     },
     "execution_count": 77,
     "metadata": {},
     "output_type": "execute_result"
    }
   ],
   "source": [
    "list1"
   ]
  },
  {
   "cell_type": "code",
   "execution_count": 78,
   "id": "19bb91e5",
   "metadata": {},
   "outputs": [
    {
     "name": "stdout",
     "output_type": "stream",
     "text": [
      "Jaya\n",
      "[1, 2, 3, 4, 5, 'Jaya']\n",
      "Harry\n",
      "[1, 2, 3, 4, 5, 'Jaya', 'Harry']\n"
     ]
    }
   ],
   "source": [
    "for x in list2[1:]:\n",
    "    print(x) # 0\n",
    "    list1.append(x) \n",
    "    print(list1)"
   ]
  },
  {
   "cell_type": "code",
   "execution_count": 79,
   "id": "3136d3be",
   "metadata": {},
   "outputs": [
    {
     "data": {
      "text/plain": [
       "[1, 2, 3, 4, 5, 'Jaya', 'Harry']"
      ]
     },
     "execution_count": 79,
     "metadata": {},
     "output_type": "execute_result"
    }
   ],
   "source": [
    "list1"
   ]
  },
  {
   "cell_type": "code",
   "execution_count": 80,
   "id": "a24cfcc8",
   "metadata": {},
   "outputs": [],
   "source": [
    "list1.extend(list2)"
   ]
  },
  {
   "cell_type": "code",
   "execution_count": 81,
   "id": "d4d5257e",
   "metadata": {},
   "outputs": [
    {
     "name": "stdout",
     "output_type": "stream",
     "text": [
      "[1, 2, 3, 4, 5, 'Jaya', 'Harry', 'Hari', 'Jaya', 'Harry']\n"
     ]
    }
   ],
   "source": [
    "print(list1)"
   ]
  },
  {
   "cell_type": "code",
   "execution_count": 100,
   "id": "bb1ff749",
   "metadata": {},
   "outputs": [],
   "source": [
    "listt = ['Santhosh', 'Jenardhanan', 'Lakshmi']"
   ]
  },
  {
   "cell_type": "code",
   "execution_count": 83,
   "id": "b3d24311",
   "metadata": {},
   "outputs": [],
   "source": [
    "listt.append('Pranali')"
   ]
  },
  {
   "cell_type": "code",
   "execution_count": 85,
   "id": "8fdb0576",
   "metadata": {},
   "outputs": [
    {
     "data": {
      "text/plain": [
       "['Santhosh', 'Jenardhanan', 'Lakshmi', 'Pranali']"
      ]
     },
     "execution_count": 85,
     "metadata": {},
     "output_type": "execute_result"
    }
   ],
   "source": [
    "listt"
   ]
  },
  {
   "cell_type": "code",
   "execution_count": 86,
   "id": "eb9b46b3",
   "metadata": {},
   "outputs": [
    {
     "data": {
      "text/plain": [
       "['Santhosh', 'Jenardhanan', 'Lakshmi', 'Pranali']"
      ]
     },
     "execution_count": 86,
     "metadata": {},
     "output_type": "execute_result"
    }
   ],
   "source": [
    "listt"
   ]
  },
  {
   "cell_type": "code",
   "execution_count": 87,
   "id": "72457c78",
   "metadata": {},
   "outputs": [],
   "source": [
    "listt2 = ['Suri', 'Prabakaran'] \n",
    "         "
   ]
  },
  {
   "cell_type": "code",
   "execution_count": 88,
   "id": "34e46e2d",
   "metadata": {},
   "outputs": [],
   "source": [
    "listt.append(listt2)"
   ]
  },
  {
   "cell_type": "code",
   "execution_count": 89,
   "id": "ef3dcedf",
   "metadata": {},
   "outputs": [
    {
     "data": {
      "text/plain": [
       "['Santhosh', 'Jenardhanan', 'Lakshmi', 'Pranali', ['Suri', 'Prabakaran']]"
      ]
     },
     "execution_count": 89,
     "metadata": {},
     "output_type": "execute_result"
    }
   ],
   "source": [
    "listt"
   ]
  },
  {
   "cell_type": "code",
   "execution_count": 90,
   "id": "8703b575",
   "metadata": {},
   "outputs": [
    {
     "data": {
      "text/plain": [
       "['Suri', 'Prabakaran']"
      ]
     },
     "execution_count": 90,
     "metadata": {},
     "output_type": "execute_result"
    }
   ],
   "source": [
    "listt.pop(4)"
   ]
  },
  {
   "cell_type": "code",
   "execution_count": 91,
   "id": "8ebfa7e4",
   "metadata": {},
   "outputs": [
    {
     "data": {
      "text/plain": [
       "['Santhosh', 'Jenardhanan', 'Lakshmi', 'Pranali']"
      ]
     },
     "execution_count": 91,
     "metadata": {},
     "output_type": "execute_result"
    }
   ],
   "source": [
    "listt"
   ]
  },
  {
   "cell_type": "code",
   "execution_count": 101,
   "id": "aa41e517",
   "metadata": {},
   "outputs": [
    {
     "name": "stdout",
     "output_type": "stream",
     "text": [
      "Suri\n",
      "['Santhosh', 'Jenardhanan', 'Lakshmi', 'Suri']\n",
      "Prabakaran\n",
      "['Santhosh', 'Jenardhanan', 'Lakshmi', 'Suri', 'Prabakaran']\n"
     ]
    }
   ],
   "source": [
    "for name in listt2:\n",
    "    print(name)\n",
    "    listt.append(name)\n",
    "    print(listt)"
   ]
  },
  {
   "cell_type": "code",
   "execution_count": 94,
   "id": "8f86f676",
   "metadata": {},
   "outputs": [
    {
     "name": "stdout",
     "output_type": "stream",
     "text": [
      "['Santhosh', 'Jenardhanan', 'Lakshmi', 'Pranali', 'Suri', 'Prabakaran']\n"
     ]
    }
   ],
   "source": [
    "print(listt)"
   ]
  },
  {
   "cell_type": "code",
   "execution_count": 95,
   "id": "7cb8d9a8",
   "metadata": {},
   "outputs": [],
   "source": [
    "num = [1, 2, 3, 4, 5] \n",
    "\n",
    "# Arithmetic opearation \n",
    "# for loop \n",
    "\n",
    "# (print sq_num = [1,4,9,16,25])"
   ]
  },
  {
   "cell_type": "code",
   "execution_count": 96,
   "id": "ce3828bd",
   "metadata": {},
   "outputs": [
    {
     "name": "stdout",
     "output_type": "stream",
     "text": [
      "[1, 4, 9, 16, 25]\n"
     ]
    }
   ],
   "source": [
    "print([1,4,9,16,25])"
   ]
  },
  {
   "cell_type": "code",
   "execution_count": 97,
   "id": "d43d0250",
   "metadata": {},
   "outputs": [
    {
     "name": "stdout",
     "output_type": "stream",
     "text": [
      "[1, 4, 9, 16, 25]\n"
     ]
    }
   ],
   "source": [
    "num = [1,2,3,4,5]\n",
    "sq_num=[]\n",
    "for i in num:\n",
    "    sq_num.append(i*i)\n",
    "\n",
    "print(sq_num)"
   ]
  },
  {
   "cell_type": "code",
   "execution_count": 98,
   "id": "a70ee5e2",
   "metadata": {},
   "outputs": [
    {
     "name": "stdout",
     "output_type": "stream",
     "text": [
      "[1, 4, 9, 16, 25]\n"
     ]
    }
   ],
   "source": [
    "num2 = []\n",
    "for item in num:\n",
    "    item = item * item\n",
    "    num2.append(item)\n",
    "\n",
    "print (num2)\n"
   ]
  },
  {
   "cell_type": "code",
   "execution_count": 102,
   "id": "f262b7d0",
   "metadata": {},
   "outputs": [],
   "source": [
    "listt10 = [1,2,3,4,5,6,7,8,9,10] \n",
    "new_listt_sq = [9, 16, 25, 36, 49] # -->\n",
    "\n",
    "# square is >5 and <50"
   ]
  },
  {
   "cell_type": "code",
   "execution_count": 103,
   "id": "f60e68c2",
   "metadata": {},
   "outputs": [
    {
     "name": "stdout",
     "output_type": "stream",
     "text": [
      "[9, 16, 25, 36, 49]\n"
     ]
    }
   ],
   "source": [
    "num=[1,2,3,4,5,6,7,8,9,10]\n",
    "sq_list = []\n",
    "for i in num:\n",
    "      if((i*i)>5 and (i*i)<50):\n",
    "        sq_list.append(i*i)\n",
    "print(sq_list)\n"
   ]
  },
  {
   "cell_type": "code",
   "execution_count": 104,
   "id": "fb2906c4",
   "metadata": {},
   "outputs": [],
   "source": [
    "num=[1,2,3,4,5,6,7,8,9,10]\n",
    "sq_list = [] \n",
    "\n",
    "for numb in num:\n",
    "    square = numb * numb \n",
    "    if square > 5 and square < 50:\n",
    "        sq_list.append(square)"
   ]
  },
  {
   "cell_type": "code",
   "execution_count": 105,
   "id": "4c21e911",
   "metadata": {},
   "outputs": [
    {
     "data": {
      "text/plain": [
       "[9, 16, 25, 36, 49]"
      ]
     },
     "execution_count": 105,
     "metadata": {},
     "output_type": "execute_result"
    }
   ],
   "source": [
    "sq_list"
   ]
  },
  {
   "cell_type": "markdown",
   "id": "d1752af8",
   "metadata": {},
   "source": [
    "# Tuple "
   ]
  },
  {
   "cell_type": "code",
   "execution_count": 106,
   "id": "cec3b9fc",
   "metadata": {},
   "outputs": [
    {
     "name": "stdout",
     "output_type": "stream",
     "text": [
      "('Maruti', 'Hero', 'Mahindra')\n"
     ]
    }
   ],
   "source": [
    "first_tuple = (\"Maruti\", \"Hero\", \"Mahindra\")\n",
    "print(first_tuple)"
   ]
  },
  {
   "cell_type": "code",
   "execution_count": 107,
   "id": "d1c7dd1a",
   "metadata": {},
   "outputs": [
    {
     "name": "stdout",
     "output_type": "stream",
     "text": [
      "<class 'tuple'>\n"
     ]
    }
   ],
   "source": [
    "print(type(first_tuple))"
   ]
  },
  {
   "cell_type": "code",
   "execution_count": 108,
   "id": "ec19f2a0",
   "metadata": {},
   "outputs": [
    {
     "name": "stdout",
     "output_type": "stream",
     "text": [
      "3\n"
     ]
    }
   ],
   "source": [
    "print(len(first_tuple))"
   ]
  },
  {
   "cell_type": "code",
   "execution_count": 109,
   "id": "240f02f9",
   "metadata": {},
   "outputs": [],
   "source": [
    "tuple_d = ('maruti', 'hero', 1,2, True, False, 'yoyo')"
   ]
  },
  {
   "cell_type": "code",
   "execution_count": 110,
   "id": "b6ceddce",
   "metadata": {},
   "outputs": [
    {
     "data": {
      "text/plain": [
       "('maruti', 'hero', 1, 2, True, False)"
      ]
     },
     "execution_count": 110,
     "metadata": {},
     "output_type": "execute_result"
    }
   ],
   "source": [
    "tuple_d"
   ]
  },
  {
   "cell_type": "raw",
   "id": "c6dff6cb",
   "metadata": {},
   "source": [
    "# Properties of tuple \n",
    "() \n",
    "\n",
    "Ordered \n",
    "Unchangeable \n",
    "Allow Duplicates"
   ]
  },
  {
   "cell_type": "code",
   "execution_count": 111,
   "id": "42f804f7",
   "metadata": {},
   "outputs": [
    {
     "ename": "AttributeError",
     "evalue": "'tuple' object has no attribute 'append'",
     "output_type": "error",
     "traceback": [
      "\u001b[1;31m---------------------------------------------------------------------------\u001b[0m",
      "\u001b[1;31mAttributeError\u001b[0m                            Traceback (most recent call last)",
      "\u001b[1;32m<ipython-input-111-be84c4cf3ccd>\u001b[0m in \u001b[0;36m<module>\u001b[1;34m\u001b[0m\n\u001b[1;32m----> 1\u001b[1;33m \u001b[0mtuple_d\u001b[0m\u001b[1;33m.\u001b[0m\u001b[0mappend\u001b[0m\u001b[1;33m(\u001b[0m\u001b[1;34m\"Suzuki\"\u001b[0m\u001b[1;33m)\u001b[0m\u001b[1;33m\u001b[0m\u001b[1;33m\u001b[0m\u001b[0m\n\u001b[0m",
      "\u001b[1;31mAttributeError\u001b[0m: 'tuple' object has no attribute 'append'"
     ]
    }
   ],
   "source": [
    "tuple_d.append(\"Suzuki\") # Error ---> Debugging "
   ]
  },
  {
   "cell_type": "code",
   "execution_count": 113,
   "id": "8c26dda2",
   "metadata": {},
   "outputs": [
    {
     "name": "stdout",
     "output_type": "stream",
     "text": [
      "<class 'tuple'>\n"
     ]
    }
   ],
   "source": [
    "com = ('Maruti', 'Mahindra', 'Adani', 'Tata', 'Reliance')\n",
    "print(type(com))"
   ]
  },
  {
   "cell_type": "code",
   "execution_count": 114,
   "id": "6fcb8e2c",
   "metadata": {},
   "outputs": [
    {
     "name": "stdout",
     "output_type": "stream",
     "text": [
      "['Maruti', 'Mahindra', 'Adani', 'Tata', 'Reliance']\n",
      "<class 'list'>\n"
     ]
    }
   ],
   "source": [
    "comp_list = list(com)\n",
    "print(comp_list)\n",
    "print(type(comp_list))"
   ]
  },
  {
   "cell_type": "code",
   "execution_count": 115,
   "id": "f071908c",
   "metadata": {},
   "outputs": [],
   "source": [
    "comp_list[0] = 'Maruti Suzuki'"
   ]
  },
  {
   "cell_type": "code",
   "execution_count": 117,
   "id": "171f208b",
   "metadata": {},
   "outputs": [
    {
     "name": "stdout",
     "output_type": "stream",
     "text": [
      "Maruti Suzuki\n"
     ]
    }
   ],
   "source": [
    "print(comp_list[0])"
   ]
  },
  {
   "cell_type": "code",
   "execution_count": 118,
   "id": "0d8995df",
   "metadata": {},
   "outputs": [],
   "source": [
    "# Access item in list"
   ]
  },
  {
   "cell_type": "code",
   "execution_count": 119,
   "id": "ef8d8887",
   "metadata": {},
   "outputs": [
    {
     "data": {
      "text/plain": [
       "('Maruti Suzuki', 'Mahindra', 'Adani', 'Tata', 'Reliance')"
      ]
     },
     "execution_count": 119,
     "metadata": {},
     "output_type": "execute_result"
    }
   ],
   "source": [
    "tuple(comp_list)"
   ]
  },
  {
   "cell_type": "code",
   "execution_count": 120,
   "id": "ac393af4",
   "metadata": {},
   "outputs": [
    {
     "data": {
      "text/plain": [
       "['Mahindra', 'Adani', 'Tata']"
      ]
     },
     "execution_count": 120,
     "metadata": {},
     "output_type": "execute_result"
    }
   ],
   "source": [
    "comp_list[1:4]"
   ]
  },
  {
   "cell_type": "code",
   "execution_count": 121,
   "id": "036aa731",
   "metadata": {},
   "outputs": [
    {
     "name": "stdout",
     "output_type": "stream",
     "text": [
      "['Maruti Suzuki', 'Mahindra', 'Adani', 'Tata', 'Reliance']\n"
     ]
    }
   ],
   "source": [
    "# loop through tuple \n",
    "\n",
    "print(comp_list)"
   ]
  },
  {
   "cell_type": "raw",
   "id": "d9ae1113",
   "metadata": {},
   "source": [
    "'Maruti Suzuki' \n",
    "'Mahindra' \n",
    "'Adani' \n",
    "'Tata' \n",
    "'Reliance'"
   ]
  },
  {
   "cell_type": "code",
   "execution_count": 122,
   "id": "0b5c7c31",
   "metadata": {},
   "outputs": [
    {
     "name": "stdout",
     "output_type": "stream",
     "text": [
      "<class 'str'>\n"
     ]
    }
   ],
   "source": [
    "x = 'Maruti Suzuki'\n",
    "print(type(x))"
   ]
  },
  {
   "cell_type": "code",
   "execution_count": 123,
   "id": "c414b065",
   "metadata": {},
   "outputs": [
    {
     "name": "stdout",
     "output_type": "stream",
     "text": [
      "<class 'tuple'>\n"
     ]
    }
   ],
   "source": [
    "y = ('Maruti Suzuki', 'Mahindra', 'Adani', 'Tata', 'Reliance')  \n",
    "print(type(y))"
   ]
  },
  {
   "cell_type": "code",
   "execution_count": 124,
   "id": "b9cc5a95",
   "metadata": {},
   "outputs": [
    {
     "name": "stdout",
     "output_type": "stream",
     "text": [
      "Maruti Suzuki\n",
      "Mahindra\n",
      "Adani\n",
      "Tata\n",
      "Reliance\n"
     ]
    }
   ],
   "source": [
    "for i in comp_list:\n",
    "      print(i)\n"
   ]
  },
  {
   "cell_type": "code",
   "execution_count": 125,
   "id": "01768761",
   "metadata": {},
   "outputs": [],
   "source": [
    "new_comp = ('suzuki', 'honda', 'fiat', 'volvo', 'M&M')"
   ]
  },
  {
   "cell_type": "raw",
   "id": "3fe63c8e",
   "metadata": {},
   "source": [
    "('Maruti Suzuki', 'Mahindra', 'Adani', 'Tata', 'Reliance', 'suzuki', 'honda', 'fiat', 'volvo', 'M&M')"
   ]
  },
  {
   "cell_type": "code",
   "execution_count": 128,
   "id": "3269139a",
   "metadata": {},
   "outputs": [
    {
     "name": "stdout",
     "output_type": "stream",
     "text": [
      "('Maruti Suzuki', 'Mahindra', 'Adani', 'Tata', 'Reliance', 'suzuki', 'honda', 'fiat', 'volvo', 'M&M')\n"
     ]
    }
   ],
   "source": [
    "tup = tuple(list(comp_list) + list(new_comp))\n",
    "print(tup)"
   ]
  },
  {
   "cell_type": "markdown",
   "id": "bdb71122",
   "metadata": {},
   "source": [
    "# Sets"
   ]
  },
  {
   "cell_type": "code",
   "execution_count": 129,
   "id": "c8286098",
   "metadata": {},
   "outputs": [
    {
     "name": "stdout",
     "output_type": "stream",
     "text": [
      "{'Mahindra', 'Adani', 'Maruti Suzuki'}\n"
     ]
    }
   ],
   "source": [
    "myset = {'Maruti Suzuki', 'Mahindra', 'Adani'} \n",
    "print(myset)"
   ]
  },
  {
   "cell_type": "raw",
   "id": "95bd146c",
   "metadata": {},
   "source": [
    "# Properties of sets \n",
    "{} \n",
    "Unordered \n",
    "Unchangeable \n",
    "Duplicates Not allowed"
   ]
  },
  {
   "cell_type": "code",
   "execution_count": 146,
   "id": "2f3bd904",
   "metadata": {},
   "outputs": [
    {
     "data": {
      "text/plain": [
       "{'Adani',\n",
       " 'M&M',\n",
       " 'Mahindra',\n",
       " 'Maruti Suzuki',\n",
       " 'Reliance',\n",
       " 'Tata',\n",
       " 'fiat',\n",
       " 'honda',\n",
       " 'suzuki',\n",
       " 'volvo'}"
      ]
     },
     "execution_count": 146,
     "metadata": {},
     "output_type": "execute_result"
    }
   ],
   "source": [
    "set({'Maruti Suzuki','Reliance', 'Mahindra', 'Adani', 'Tata', 'Reliance', 'suzuki', 'honda', 'fiat', 'volvo', 'M&M', 'fiat'})"
   ]
  },
  {
   "cell_type": "code",
   "execution_count": 142,
   "id": "1b1e5745",
   "metadata": {},
   "outputs": [],
   "source": [
    "cars2 = ('ford', 'fiat')"
   ]
  },
  {
   "cell_type": "code",
   "execution_count": 143,
   "id": "22dca909",
   "metadata": {},
   "outputs": [
    {
     "data": {
      "text/plain": [
       "('ford', 'fiat')"
      ]
     },
     "execution_count": 143,
     "metadata": {},
     "output_type": "execute_result"
    }
   ],
   "source": [
    "cars2"
   ]
  },
  {
   "cell_type": "code",
   "execution_count": 144,
   "id": "459f3339",
   "metadata": {},
   "outputs": [
    {
     "data": {
      "text/plain": [
       "['ford', 'fiat']"
      ]
     },
     "execution_count": 144,
     "metadata": {},
     "output_type": "execute_result"
    }
   ],
   "source": [
    "list(cars2)"
   ]
  },
  {
   "cell_type": "code",
   "execution_count": 147,
   "id": "f6657834",
   "metadata": {},
   "outputs": [],
   "source": [
    "# ('Maruti Suzuki', 'Mahindra', 'Adani', 'Tata', 'Reliance', 'suzuki', 'honda', 'fiat', 'volvo', 'M&M') \n",
    "\n",
    "# tuple to set"
   ]
  },
  {
   "cell_type": "code",
   "execution_count": 149,
   "id": "650a5182",
   "metadata": {},
   "outputs": [
    {
     "name": "stdout",
     "output_type": "stream",
     "text": [
      "{'Mahindra', 'Tata', 'honda', 'volvo', 'M&M', 'Maruti Suzuki', 'Reliance', 'Adani', 'fiat', 'suzuki'}\n"
     ]
    }
   ],
   "source": [
    "new_tuple = ('Maruti Suzuki', 'Mahindra', 'Adani', 'Tata', 'Reliance', 'suzuki', 'honda', 'fiat', 'volvo', 'M&M')\n",
    "set1 = set(new_tuple)\n",
    "print(set1)"
   ]
  },
  {
   "cell_type": "raw",
   "id": "805330a8",
   "metadata": {},
   "source": [
    "'Mahindra', \n",
    "'Tata', \n",
    "'honda', \n",
    "'volvo', \n",
    "'M&M', \n",
    "'Maruti Suzuki', \n",
    "'Reliance', \n",
    "'Adani', \n",
    "'fiat', \n",
    "'suzuki'"
   ]
  },
  {
   "cell_type": "code",
   "execution_count": 150,
   "id": "6b6d4c24",
   "metadata": {},
   "outputs": [
    {
     "name": "stdout",
     "output_type": "stream",
     "text": [
      "Mahindra\n",
      "Tata\n",
      "honda\n",
      "volvo\n",
      "M&M\n",
      "Maruti Suzuki\n",
      "Reliance\n",
      "Adani\n",
      "fiat\n",
      "suzuki\n"
     ]
    }
   ],
   "source": [
    "for i in set1:\n",
    "      print(i)"
   ]
  },
  {
   "cell_type": "code",
   "execution_count": 151,
   "id": "aae9548c",
   "metadata": {},
   "outputs": [
    {
     "name": "stdout",
     "output_type": "stream",
     "text": [
      "G\n",
      "u\n",
      "v\n",
      "i\n"
     ]
    }
   ],
   "source": [
    "s = 'Guvi'\n",
    "for i in s:\n",
    "    print(i)"
   ]
  },
  {
   "cell_type": "code",
   "execution_count": 154,
   "id": "ab55ef62",
   "metadata": {},
   "outputs": [],
   "source": [
    "set1.add('birla')"
   ]
  },
  {
   "cell_type": "code",
   "execution_count": 155,
   "id": "f659ac0d",
   "metadata": {},
   "outputs": [
    {
     "data": {
      "text/plain": [
       "{'Adani',\n",
       " 'M&M',\n",
       " 'Mahindra',\n",
       " 'Maruti Suzuki',\n",
       " 'Reliance',\n",
       " 'Tata',\n",
       " 'birla',\n",
       " 'fiat',\n",
       " 'honda',\n",
       " 'suzuki',\n",
       " 'volvo'}"
      ]
     },
     "execution_count": 155,
     "metadata": {},
     "output_type": "execute_result"
    }
   ],
   "source": [
    "set1"
   ]
  },
  {
   "cell_type": "code",
   "execution_count": 156,
   "id": "d3ea0d05",
   "metadata": {},
   "outputs": [],
   "source": [
    "set2 = {'guvi', 'jini'}\n",
    "set1.update(set2)"
   ]
  },
  {
   "cell_type": "code",
   "execution_count": 157,
   "id": "1128d585",
   "metadata": {},
   "outputs": [
    {
     "data": {
      "text/plain": [
       "{'Adani',\n",
       " 'M&M',\n",
       " 'Mahindra',\n",
       " 'Maruti Suzuki',\n",
       " 'Reliance',\n",
       " 'Tata',\n",
       " 'birla',\n",
       " 'fiat',\n",
       " 'guvi',\n",
       " 'honda',\n",
       " 'jini',\n",
       " 'suzuki',\n",
       " 'volvo'}"
      ]
     },
     "execution_count": 157,
     "metadata": {},
     "output_type": "execute_result"
    }
   ],
   "source": [
    "set1"
   ]
  },
  {
   "cell_type": "code",
   "execution_count": 158,
   "id": "fd092a29",
   "metadata": {},
   "outputs": [],
   "source": [
    "set1.remove('jini')"
   ]
  },
  {
   "cell_type": "code",
   "execution_count": 159,
   "id": "a298c59d",
   "metadata": {},
   "outputs": [
    {
     "data": {
      "text/plain": [
       "{'Adani',\n",
       " 'M&M',\n",
       " 'Mahindra',\n",
       " 'Maruti Suzuki',\n",
       " 'Reliance',\n",
       " 'Tata',\n",
       " 'birla',\n",
       " 'fiat',\n",
       " 'guvi',\n",
       " 'honda',\n",
       " 'suzuki',\n",
       " 'volvo'}"
      ]
     },
     "execution_count": 159,
     "metadata": {},
     "output_type": "execute_result"
    }
   ],
   "source": [
    "set1"
   ]
  },
  {
   "cell_type": "code",
   "execution_count": 161,
   "id": "a743957b",
   "metadata": {},
   "outputs": [
    {
     "name": "stdout",
     "output_type": "stream",
     "text": [
      "{'Mahindra', 'Tata', 'guvi', 'honda', 'ceo1', 'volvo', 'ceo3', 'M&M', 'Maruti Suzuki', 'Reliance', 'Adani', 'birla', 'ceo2', 'fiat', 'suzuki'}\n"
     ]
    }
   ],
   "source": [
    "set2 = {'ceo1',  'ceo2', 'ceo3'} \n",
    "\n",
    "set3 = set1.union(set2)\n",
    "print(set3)"
   ]
  },
  {
   "cell_type": "markdown",
   "id": "47044361",
   "metadata": {},
   "source": [
    "# Dictionary  "
   ]
  },
  {
   "cell_type": "markdown",
   "id": "c174b995",
   "metadata": {},
   "source": [
    "dictt = {key : value} "
   ]
  },
  {
   "cell_type": "raw",
   "id": "643d4333",
   "metadata": {},
   "source": [
    "comp = {'Suzuki' : 'Car'}\n",
    "#         Key      Value  "
   ]
  },
  {
   "cell_type": "raw",
   "id": "0a3b4779",
   "metadata": {},
   "source": [
    "# Changeable \n",
    "# Duplicates Not allowed"
   ]
  },
  {
   "cell_type": "code",
   "execution_count": 164,
   "id": "e85a3bea",
   "metadata": {},
   "outputs": [
    {
     "name": "stdout",
     "output_type": "stream",
     "text": [
      "{'Suzuki': 'Car', 'model': 2010, 'Year': 2020}\n"
     ]
    }
   ],
   "source": [
    "comp = {'Suzuki' : 'Car',\n",
    "        'model' : 2010, \n",
    "        'Year'  : 1980, \n",
    "        'Year'  : 2020} \n",
    "\n",
    "print(comp)"
   ]
  },
  {
   "cell_type": "code",
   "execution_count": 165,
   "id": "da0c3edc",
   "metadata": {},
   "outputs": [
    {
     "name": "stdout",
     "output_type": "stream",
     "text": [
      "{'Suzuki': 'Car', 'model': 2010, 'Year': 1980, 'year': 2020}\n"
     ]
    }
   ],
   "source": [
    "comp = {'Suzuki' : 'Car',\n",
    "        'model' : 2010, \n",
    "        'Year'  : 1980, \n",
    "        'year'  : 2020} \n",
    "print(comp)"
   ]
  },
  {
   "cell_type": "code",
   "execution_count": 166,
   "id": "7be83539",
   "metadata": {},
   "outputs": [
    {
     "data": {
      "text/plain": [
       "1980"
      ]
     },
     "execution_count": 166,
     "metadata": {},
     "output_type": "execute_result"
    }
   ],
   "source": [
    "comp['Year']"
   ]
  },
  {
   "cell_type": "code",
   "execution_count": 167,
   "id": "b52247b0",
   "metadata": {},
   "outputs": [
    {
     "name": "stdout",
     "output_type": "stream",
     "text": [
      "4\n"
     ]
    }
   ],
   "source": [
    "print(len(comp))"
   ]
  },
  {
   "cell_type": "code",
   "execution_count": 168,
   "id": "a0647eaf",
   "metadata": {},
   "outputs": [
    {
     "data": {
      "text/plain": [
       "['2010', '2011', '2012', '2013', '2014']"
      ]
     },
     "execution_count": 168,
     "metadata": {},
     "output_type": "execute_result"
    }
   ],
   "source": [
    "['2010', '2011', '2012', '2013', '2014']"
   ]
  },
  {
   "cell_type": "code",
   "execution_count": 169,
   "id": "cbd78bf8",
   "metadata": {},
   "outputs": [
    {
     "name": "stdout",
     "output_type": "stream",
     "text": [
      "{'Suzuki': 'Car', 'Model': 2010, 'Year': ['2010', '2011', '2012', '2013', '2014']}\n"
     ]
    }
   ],
   "source": [
    "new_dictt = {\"Suzuki\":\"Car\", 'Model':2010, \"Year\":['2010','2011','2012','2013','2014']}\n",
    "print(new_dictt)"
   ]
  },
  {
   "cell_type": "code",
   "execution_count": 170,
   "id": "8de4163d",
   "metadata": {},
   "outputs": [
    {
     "name": "stdout",
     "output_type": "stream",
     "text": [
      "{'Suzuki': 'Car', 'model': 2010, 'Year': 1980, 'year': [2012, 2023]}\n"
     ]
    }
   ],
   "source": [
    "comp['year']=[2012,2023] \n",
    "print(comp)"
   ]
  },
  {
   "cell_type": "code",
   "execution_count": 171,
   "id": "a4c863be",
   "metadata": {},
   "outputs": [
    {
     "name": "stdout",
     "output_type": "stream",
     "text": [
      "{'name': 'suzuki', 'age': 15, 'year': 2013}\n"
     ]
    }
   ],
   "source": [
    "thisdict = dict(name = 'suzuki', age = 15, year = 2013)\n",
    "print(thisdict)"
   ]
  },
  {
   "cell_type": "code",
   "execution_count": 172,
   "id": "af7403b7",
   "metadata": {},
   "outputs": [
    {
     "data": {
      "text/plain": [
       "{'Suzuki': 'Car', 'model': 2010, 'Year': 1980, 'year': 2020, 'hp': 56}"
      ]
     },
     "execution_count": 172,
     "metadata": {},
     "output_type": "execute_result"
    }
   ],
   "source": [
    "comp = {'Suzuki' : 'Car',\n",
    "        'model' : 2010, \n",
    "        'Year'  : 1980, \n",
    "        'year'  : 2020}  \n",
    "\n",
    "comp['hp'] = 56 \n",
    "\n",
    "comp"
   ]
  },
  {
   "cell_type": "code",
   "execution_count": 173,
   "id": "5e2fb27b",
   "metadata": {},
   "outputs": [],
   "source": [
    "comp['hp'] = 95"
   ]
  },
  {
   "cell_type": "code",
   "execution_count": 174,
   "id": "1441058f",
   "metadata": {},
   "outputs": [
    {
     "data": {
      "text/plain": [
       "{'Suzuki': 'Car', 'model': 2010, 'Year': 1980, 'year': 2020, 'hp': 95}"
      ]
     },
     "execution_count": 174,
     "metadata": {},
     "output_type": "execute_result"
    }
   ],
   "source": [
    "comp"
   ]
  },
  {
   "cell_type": "code",
   "execution_count": 175,
   "id": "8b249042",
   "metadata": {},
   "outputs": [
    {
     "data": {
      "text/plain": [
       "1980"
      ]
     },
     "execution_count": 175,
     "metadata": {},
     "output_type": "execute_result"
    }
   ],
   "source": [
    "comp.pop('Year')"
   ]
  },
  {
   "cell_type": "code",
   "execution_count": 176,
   "id": "2ad164f7",
   "metadata": {},
   "outputs": [
    {
     "data": {
      "text/plain": [
       "{'Suzuki': 'Car', 'model': 2010, 'year': 2020, 'hp': 95}"
      ]
     },
     "execution_count": 176,
     "metadata": {},
     "output_type": "execute_result"
    }
   ],
   "source": [
    "comp"
   ]
  },
  {
   "cell_type": "raw",
   "id": "cbaeab12",
   "metadata": {},
   "source": [
    "loop through this dictionary"
   ]
  },
  {
   "cell_type": "code",
   "execution_count": 177,
   "id": "471d42e6",
   "metadata": {},
   "outputs": [
    {
     "name": "stdout",
     "output_type": "stream",
     "text": [
      "Suzuki\n",
      "model\n",
      "year\n",
      "hp\n"
     ]
    }
   ],
   "source": [
    "for i in comp:\n",
    "    print(i)"
   ]
  },
  {
   "cell_type": "code",
   "execution_count": 178,
   "id": "681eddc2",
   "metadata": {},
   "outputs": [
    {
     "name": "stdout",
     "output_type": "stream",
     "text": [
      "Suzuki\n",
      "model\n",
      "year\n",
      "hp\n"
     ]
    }
   ],
   "source": [
    "for key in comp.keys():\n",
    "    print(key)"
   ]
  },
  {
   "cell_type": "code",
   "execution_count": 179,
   "id": "1a6cb21a",
   "metadata": {},
   "outputs": [
    {
     "name": "stdout",
     "output_type": "stream",
     "text": [
      "Car\n",
      "2010\n",
      "2020\n",
      "95\n"
     ]
    }
   ],
   "source": [
    "for value in comp.values():\n",
    "    print(value)"
   ]
  },
  {
   "cell_type": "code",
   "execution_count": 182,
   "id": "a648149c",
   "metadata": {},
   "outputs": [
    {
     "name": "stdout",
     "output_type": "stream",
     "text": [
      "Key: Suzuki  Value: Car\n",
      "Key: model  Value: 2010\n",
      "Key: year  Value: 2020\n",
      "Key: hp  Value: 95\n"
     ]
    }
   ],
   "source": [
    "for key, value in comp.items():\n",
    "    print('Key:', key, ' Value:',value)"
   ]
  },
  {
   "cell_type": "code",
   "execution_count": null,
   "id": "7fb08450",
   "metadata": {},
   "outputs": [],
   "source": [
    "# Nested Dictionary"
   ]
  },
  {
   "cell_type": "code",
   "execution_count": 185,
   "id": "d2b08572",
   "metadata": {},
   "outputs": [],
   "source": [
    "thisdict = {'Suzuki': {\n",
    "    'car' : 'hatchback'\n",
    "}, \n",
    " 'model': {\n",
    "     'year' : ['2010', 2011, 2013, '2024']\n",
    " }\n",
    " , \n",
    " 'year': 2020, \n",
    " 'hp': 95}"
   ]
  },
  {
   "cell_type": "code",
   "execution_count": 186,
   "id": "3a9654ea",
   "metadata": {},
   "outputs": [
    {
     "data": {
      "text/plain": [
       "{'year': ['2010', 2011, 2013, '2024']}"
      ]
     },
     "execution_count": 186,
     "metadata": {},
     "output_type": "execute_result"
    }
   ],
   "source": [
    "thisdict['model']"
   ]
  },
  {
   "cell_type": "code",
   "execution_count": 187,
   "id": "af778c61",
   "metadata": {},
   "outputs": [
    {
     "data": {
      "text/plain": [
       "['2010', 2011, 2013, '2024']"
      ]
     },
     "execution_count": 187,
     "metadata": {},
     "output_type": "execute_result"
    }
   ],
   "source": [
    "thisdict['model']['year']"
   ]
  },
  {
   "cell_type": "code",
   "execution_count": 188,
   "id": "94332396",
   "metadata": {},
   "outputs": [],
   "source": [
    "thisdict[\"model\"][\"year\"][3]=\"2023\""
   ]
  },
  {
   "cell_type": "code",
   "execution_count": 189,
   "id": "281a1274",
   "metadata": {},
   "outputs": [
    {
     "data": {
      "text/plain": [
       "{'Suzuki': {'car': 'hatchback'},\n",
       " 'model': {'year': ['2010', 2011, 2013, '2023']},\n",
       " 'year': 2020,\n",
       " 'hp': 95}"
      ]
     },
     "execution_count": 189,
     "metadata": {},
     "output_type": "execute_result"
    }
   ],
   "source": [
    "thisdict"
   ]
  },
  {
   "cell_type": "markdown",
   "id": "fdaed589",
   "metadata": {},
   "source": [
    "# Conditional Statement "
   ]
  },
  {
   "cell_type": "raw",
   "id": "e80dc80a",
   "metadata": {},
   "source": [
    "if \n",
    "if else \n",
    "if elif else "
   ]
  },
  {
   "cell_type": "raw",
   "id": "5da78cf5",
   "metadata": {},
   "source": [
    "if  :\n",
    "     \n",
    "else :   \n",
    "    \n",
    "if : \n",
    "elif : \n",
    "else: "
   ]
  },
  {
   "cell_type": "code",
   "execution_count": 190,
   "id": "e92ba00e",
   "metadata": {},
   "outputs": [
    {
     "name": "stdout",
     "output_type": "stream",
     "text": [
      "Both are different\n"
     ]
    }
   ],
   "source": [
    "b = \"Santhosh\" \n",
    "a = \"Harshit\" \n",
    "\n",
    "if a == b: \n",
    "    print('Both are same') \n",
    "else: \n",
    "    print('Both are different')"
   ]
  },
  {
   "cell_type": "raw",
   "id": "6e79fc0a",
   "metadata": {},
   "source": [
    " b = 30 \n",
    "c = 20 \n",
    "\n",
    "sum > 50 \n",
    "print sum \n",
    "\n",
    "or it will not print sum"
   ]
  },
  {
   "cell_type": "code",
   "execution_count": 199,
   "id": "d8ef2adc",
   "metadata": {},
   "outputs": [
    {
     "name": "stdout",
     "output_type": "stream",
     "text": [
      "60\n"
     ]
    }
   ],
   "source": [
    "# this is wrong\n",
    "\n",
    "b=30\n",
    "c=30\n",
    "\n",
    "Sum = b+c\n",
    "if(Sum > 50):\n",
    "    print(Sum)\n",
    "else:\n",
    "    print('Sum is less than 50')\n"
   ]
  },
  {
   "cell_type": "code",
   "execution_count": 204,
   "id": "58bb1dfb",
   "metadata": {},
   "outputs": [
    {
     "name": "stdout",
     "output_type": "stream",
     "text": [
      "50\n"
     ]
    }
   ],
   "source": [
    "# this is wrong\n",
    "a=30\n",
    "b=20\n",
    "Sum=a+b\n",
    "if (Sum >= 50):\n",
    "    print(Sum)\n"
   ]
  },
  {
   "cell_type": "code",
   "execution_count": 206,
   "id": "5d599be7",
   "metadata": {},
   "outputs": [],
   "source": [
    "# This is completely wrong\n",
    "a,b=30,20\n",
    "Sum=a+b\n",
    "if Sum > 50:\n",
    "    print(Sum)"
   ]
  },
  {
   "cell_type": "code",
   "execution_count": 201,
   "id": "2540e61a",
   "metadata": {},
   "outputs": [
    {
     "name": "stdout",
     "output_type": "stream",
     "text": [
      "60\n"
     ]
    }
   ],
   "source": [
    "b = 30\n",
    "c = 20\n",
    "Sum = a + b\n",
    "if Sum > 50:\n",
    "    print (Sum)\n",
    "else:\n",
    "    print ('sum is lesser than 50')"
   ]
  },
  {
   "cell_type": "raw",
   "id": "d4f2d862",
   "metadata": {},
   "source": [
    "marks = 60 \n",
    "grade A \n",
    "Grade B\n",
    "Grade C \n",
    "\n",
    "\n",
    "if elif"
   ]
  },
  {
   "cell_type": "code",
   "execution_count": 209,
   "id": "bc93870f",
   "metadata": {},
   "outputs": [
    {
     "name": "stdout",
     "output_type": "stream",
     "text": [
      "58.632\n",
      "Grade C\n"
     ]
    }
   ],
   "source": [
    "marks = float(input())\n",
    "if(marks>80):\n",
    "      print(\"Grade A\")\n",
    "elif(marks>70 and marks<=80):\n",
    "      print(\"Grade B\")\n",
    "else:\n",
    "      print(\"Grade C\")"
   ]
  },
  {
   "cell_type": "code",
   "execution_count": 213,
   "id": "bb37ec5c",
   "metadata": {},
   "outputs": [
    {
     "name": "stdout",
     "output_type": "stream",
     "text": [
      "enter your marks :58\n",
      "Grade B\n"
     ]
    }
   ],
   "source": [
    "marks = int (input(\"enter your marks :\"))\n",
    "if (marks >= 90) : # Condition \n",
    "    print(\"Grade A\") # Statement\n",
    "elif (marks <90 | marks >=70):\n",
    "    print(\"Grade B\")\n",
    "elif (marks <70 | marks >=35):\n",
    "    print(\"Grade c\")\n",
    "else:\n",
    "    print(\"Fail\")\n"
   ]
  },
  {
   "cell_type": "code",
   "execution_count": 214,
   "id": "914a99ad",
   "metadata": {},
   "outputs": [],
   "source": [
    "drink = ['water', 'tea', 'juice'] \n",
    "food = ['Dosa', 'Chole', 'Dhokla'] "
   ]
  },
  {
   "cell_type": "raw",
   "id": "b247a89d",
   "metadata": {},
   "source": [
    "possible_choices"
   ]
  },
  {
   "cell_type": "raw",
   "id": "a17ec205",
   "metadata": {},
   "source": [
    "[['water', 'Dhonsa'], ['water, Chole'], ]"
   ]
  },
  {
   "cell_type": "code",
   "execution_count": 218,
   "id": "c6d1e01b",
   "metadata": {},
   "outputs": [
    {
     "data": {
      "text/plain": [
       "[['water', 'Dhonsa'],\n",
       " ['water', 'Chole'],\n",
       " ['water', 'Dhokla'],\n",
       " ['tea', 'Dhonsa'],\n",
       " ['tea', 'Chole'],\n",
       " ['tea', 'Dhokla'],\n",
       " ['juice', 'Dhonsa'],\n",
       " ['juice', 'Chole'],\n",
       " ['juice', 'Dhokla']]"
      ]
     },
     "execution_count": 218,
     "metadata": {},
     "output_type": "execute_result"
    }
   ],
   "source": [
    "possible_choices = [] \n",
    "\n",
    "for drn in drink: \n",
    "    for fd in food:\n",
    "        fg = [drn,fd]\n",
    "        possible_choices.append(fg) \n",
    "        \n",
    "possible_choices"
   ]
  },
  {
   "cell_type": "raw",
   "id": "2732e10f",
   "metadata": {},
   "source": [
    "# List comprehension "
   ]
  },
  {
   "cell_type": "code",
   "execution_count": 219,
   "id": "04b6ce7a",
   "metadata": {},
   "outputs": [],
   "source": [
    "food = ['Dosa', 'Chole', 'Dhokla', 'Mango']"
   ]
  },
  {
   "cell_type": "code",
   "execution_count": 227,
   "id": "b47e7e9f",
   "metadata": {},
   "outputs": [
    {
     "name": "stdout",
     "output_type": "stream",
     "text": [
      "Wall time: 0 ns\n",
      "['Dosa', 'Chole', 'Dhokla', 'Mango']\n"
     ]
    }
   ],
   "source": [
    "%time\n",
    "for i in food:\n",
    "    if 'Mango' in i:\n",
    "        print(food)"
   ]
  },
  {
   "cell_type": "code",
   "execution_count": 226,
   "id": "732600c9",
   "metadata": {},
   "outputs": [
    {
     "name": "stdout",
     "output_type": "stream",
     "text": [
      "Wall time: 0 ns\n",
      "['Dosa', 'Chole', 'Dhokla', 'Mango']\n"
     ]
    }
   ],
   "source": [
    "# List comprehension \n",
    "%time\n",
    "new_food = [x for x in food if 'Mango' in food] \n",
    "print(new_food) \n",
    "\n",
    "# Decrease the number of lines\n",
    "# It will make your computational efficiencey faster   \n",
    "# More readability of your code"
   ]
  },
  {
   "cell_type": "markdown",
   "id": "915fe4d8",
   "metadata": {},
   "source": [
    "#### In a range of 1 to 51 print the list of even numbers"
   ]
  },
  {
   "cell_type": "code",
   "execution_count": 3,
   "id": "8eba2d7c",
   "metadata": {},
   "outputs": [
    {
     "name": "stdout",
     "output_type": "stream",
     "text": [
      "[2, 4, 6, 8, 10, 12, 14, 16, 18, 20, 22, 24, 26, 28, 30, 32, 34, 36, 38, 40, 42, 44, 46, 48, 50]\n"
     ]
    }
   ],
   "source": [
    "even_nums = [] \n",
    "for i in range(1, 51):\n",
    "    if i%2 == 0:\n",
    "        even_nums.append(i) \n",
    "        \n",
    "print(even_nums)"
   ]
  },
  {
   "cell_type": "markdown",
   "id": "f6ba7fda",
   "metadata": {},
   "source": [
    "## List Comprehension"
   ]
  },
  {
   "cell_type": "markdown",
   "id": "266b41ec",
   "metadata": {},
   "source": [
    "List Comprehension Syntax \n",
    "\n",
    ">[expression for element in iterable if condition] \\\n",
    " > [expression **for** item **in** item **if** condition == **True**]"
   ]
  },
  {
   "cell_type": "code",
   "execution_count": 6,
   "id": "a2de8a8f",
   "metadata": {},
   "outputs": [
    {
     "name": "stdout",
     "output_type": "stream",
     "text": [
      "[0, 2, 4, 6, 8, 10, 12, 14, 16, 18, 20, 22, 24, 26, 28, 30, 32, 34, 36, 38, 40, 42, 44, 46, 48, 50]\n"
     ]
    }
   ],
   "source": [
    "even_list = [i for i in range(51) if i%2 == 0] \n",
    "print(even_list)"
   ]
  },
  {
   "cell_type": "raw",
   "id": "3709a34b",
   "metadata": {},
   "source": [
    "print the numbers in a range 10 which are less than 5"
   ]
  },
  {
   "cell_type": "code",
   "execution_count": 7,
   "id": "0c942d49",
   "metadata": {},
   "outputs": [
    {
     "name": "stdout",
     "output_type": "stream",
     "text": [
      "[1, 2, 3, 4]\n"
     ]
    }
   ],
   "source": [
    "new_list = [i for i in range(1,10) if i < 5]\n",
    "print(new_list)"
   ]
  },
  {
   "cell_type": "raw",
   "id": "18c65e1d",
   "metadata": {},
   "source": [
    "i want a square of all the numbers in a range 1 to 11"
   ]
  },
  {
   "cell_type": "code",
   "execution_count": 10,
   "id": "24b3346d",
   "metadata": {},
   "outputs": [
    {
     "name": "stdout",
     "output_type": "stream",
     "text": [
      "[1, 4, 9, 16, 25, 36, 49, 64, 81, 100]\n"
     ]
    }
   ],
   "source": [
    "squ_num = [i**2 for i in range(1,11)]\n",
    "print(squ_num)"
   ]
  },
  {
   "cell_type": "raw",
   "id": "ebd2d16c",
   "metadata": {},
   "source": [
    "stri = ['Abhijit', 'Akash', 'Anbazghan', 'Lakshmi', 'Prabakaran', 'Pranali'] \n",
    "\n",
    "print str whose length is >8"
   ]
  },
  {
   "cell_type": "code",
   "execution_count": 16,
   "id": "606dc4ba",
   "metadata": {},
   "outputs": [
    {
     "data": {
      "text/plain": [
       "['Anbazghan', 'Prabakaran']"
      ]
     },
     "execution_count": 16,
     "metadata": {},
     "output_type": "execute_result"
    }
   ],
   "source": [
    "stri = ['Abhijit', 'Akash', 'Anbazghan', 'Lakshmi', 'Prabakaran', 'Pranali'] \n",
    "# c = 0 \n",
    "# if len(i) > 8 \n",
    "[i for i in stri if len(i) > 8]"
   ]
  },
  {
   "cell_type": "markdown",
   "id": "b888b6c3",
   "metadata": {},
   "source": [
    "#### Pseudocode\n",
    "I for I in str if length str greater than 8 "
   ]
  },
  {
   "cell_type": "markdown",
   "id": "237a84a0",
   "metadata": {},
   "source": [
    "## While Loop"
   ]
  },
  {
   "cell_type": "markdown",
   "id": "2838996f",
   "metadata": {},
   "source": [
    "while [boolean expression] :\n",
    "    statement 1 \n",
    "    statements 2 \n",
    "    .\n",
    "    .\n",
    "    .\n",
    "    "
   ]
  },
  {
   "cell_type": "markdown",
   "id": "f1a215a4",
   "metadata": {},
   "source": [
    "print the number less than 5 using for loop"
   ]
  },
  {
   "cell_type": "code",
   "execution_count": 22,
   "id": "a749a50f",
   "metadata": {},
   "outputs": [
    {
     "name": "stdout",
     "output_type": "stream",
     "text": [
      "1\n",
      "2\n",
      "3\n",
      "4\n",
      "5\n",
      "[1, 2, 3, 4, 5]\n"
     ]
    }
   ],
   "source": [
    "num = 0\n",
    "emplist = []\n",
    "while num < 5:\n",
    "    num = num + 1 \n",
    "    emplist.append(num)\n",
    "    print(num) \n",
    "    \n",
    "print(emplist)"
   ]
  },
  {
   "cell_type": "raw",
   "id": "ea331e1c",
   "metadata": {},
   "source": [
    "but when the > 3 stop the execution of while loop \n",
    "\n",
    "break"
   ]
  },
  {
   "cell_type": "code",
   "execution_count": 32,
   "id": "2d2ffbee",
   "metadata": {},
   "outputs": [
    {
     "name": "stdout",
     "output_type": "stream",
     "text": [
      "[1, 2, 3, 4, 5, 6, 7, 8, 9, 10, 11, 12, 13, 14, 15, 16, 17, 18, 19, 20, 21, 22, 23, 24, 25, 26, 27, 28, 29, 30, 31, 32, 33, 34, 35, 36, 37, 38, 39, 40, 41, 42, 43, 44, 45, 46, 47, 48, 49, 50, 51, 52, 53, 54, 55, 56, 57, 58, 59, 60, 61, 62, 63, 64, 65, 66, 67, 68, 69, 70, 71, 72, 73]\n"
     ]
    }
   ],
   "source": [
    "num = 0\n",
    "emplist1 = []\n",
    "while num < 100:\n",
    "    num = num + 1 \n",
    "    emplist1.append(num) \n",
    "    if num == 73:\n",
    "        break\n",
    "print(emplist1)"
   ]
  },
  {
   "cell_type": "raw",
   "id": "f44be0c4",
   "metadata": {},
   "source": [
    "average of 10 , 20, 30"
   ]
  },
  {
   "cell_type": "code",
   "execution_count": 36,
   "id": "3780bc03",
   "metadata": {},
   "outputs": [
    {
     "name": "stdout",
     "output_type": "stream",
     "text": [
      "10\n",
      "20 \n",
      "30\n",
      "-1\n",
      "20.0\n"
     ]
    }
   ],
   "source": [
    "num = 0\n",
    "count = 0 \n",
    "summ = 0 \n",
    "\n",
    "while num >= 0 :\n",
    "    num = int(input()) \n",
    "    if num >= 0:\n",
    "        count = count + 1 \n",
    "        summ = summ + num \n",
    "        \n",
    "avg = summ/count \n",
    "\n",
    "print(avg)"
   ]
  },
  {
   "cell_type": "code",
   "execution_count": 39,
   "id": "9b059dcd",
   "metadata": {},
   "outputs": [
    {
     "name": "stdout",
     "output_type": "stream",
     "text": [
      "85\n",
      "count 1\n",
      "summ 85\n",
      "96\n",
      "count 2\n",
      "summ 181\n",
      "75\n",
      "count 3\n",
      "summ 256\n",
      "-1\n",
      "85.33333333333333\n"
     ]
    }
   ],
   "source": [
    "num = 0 \n",
    "count = 0 \n",
    "summ = 0 \n",
    "\n",
    "# type any negative number to stop the loop execution\n",
    "while num >= 0:\n",
    "    num = int(input('enter any negative number to stop execution of loop')) \n",
    "    if num >= 0:\n",
    "        count = count + 1 \n",
    "        print('count', count) \n",
    "        summ = summ + num \n",
    "        print('summ', summ)\n",
    "        \n",
    "avg = summ/count \n",
    "print(avg)"
   ]
  },
  {
   "cell_type": "markdown",
   "id": "6e052195",
   "metadata": {},
   "source": [
    "# Function in python "
   ]
  },
  {
   "cell_type": "code",
   "execution_count": 41,
   "id": "c0fc8488",
   "metadata": {},
   "outputs": [],
   "source": [
    "def first_func():\n",
    "    print('My first Function')"
   ]
  },
  {
   "cell_type": "code",
   "execution_count": 53,
   "id": "e5a5a76b",
   "metadata": {},
   "outputs": [],
   "source": [
    "def first_func_return():\n",
    "#     print('My first Function')\n",
    "    return ('My first Function') "
   ]
  },
  {
   "cell_type": "code",
   "execution_count": 54,
   "id": "2e0a7c06",
   "metadata": {},
   "outputs": [],
   "source": [
    "x = first_func_return()"
   ]
  },
  {
   "cell_type": "code",
   "execution_count": 55,
   "id": "8db80e38",
   "metadata": {},
   "outputs": [
    {
     "name": "stdout",
     "output_type": "stream",
     "text": [
      "My first Function\n"
     ]
    }
   ],
   "source": [
    "print(x)"
   ]
  },
  {
   "cell_type": "markdown",
   "id": "0971ac78",
   "metadata": {},
   "source": [
    "simple function to add two numbers:"
   ]
  },
  {
   "cell_type": "code",
   "execution_count": 57,
   "id": "17450ca0",
   "metadata": {},
   "outputs": [],
   "source": [
    "def mult(a,b):\n",
    "    c = a * b\n",
    "    print(c) "
   ]
  },
  {
   "cell_type": "code",
   "execution_count": 58,
   "id": "1ec1e7c5",
   "metadata": {},
   "outputs": [
    {
     "name": "stdout",
     "output_type": "stream",
     "text": [
      "2924\n"
     ]
    }
   ],
   "source": [
    "mult(34, 86)"
   ]
  },
  {
   "cell_type": "code",
   "execution_count": 61,
   "id": "2a4265b1",
   "metadata": {},
   "outputs": [
    {
     "name": "stdout",
     "output_type": "stream",
     "text": [
      "400\n"
     ]
    }
   ],
   "source": [
    "def mult1(      a,                   b=20): \n",
    "#         Positinal argument      Keyword argument\n",
    "    c = a * b \n",
    "    print(c) \n",
    "    \n",
    "mult1(20) "
   ]
  },
  {
   "cell_type": "code",
   "execution_count": 64,
   "id": "3d4ae02b",
   "metadata": {},
   "outputs": [
    {
     "name": "stdout",
     "output_type": "stream",
     "text": [
      "600\n"
     ]
    }
   ],
   "source": [
    "mult1(10, 60)"
   ]
  },
  {
   "cell_type": "raw",
   "id": "8db05370",
   "metadata": {},
   "source": [
    "calling a function and i want to keep on appending a number in a list in a range 1, 10:  "
   ]
  },
  {
   "cell_type": "code",
   "execution_count": 65,
   "id": "8c2fb62b",
   "metadata": {},
   "outputs": [],
   "source": [
    "def func(num): \n",
    "    new_list = []\n",
    "    new_list.append(num)\n",
    "    print(num)\n",
    "    return new_list"
   ]
  },
  {
   "cell_type": "code",
   "execution_count": 71,
   "id": "900ebbf4",
   "metadata": {},
   "outputs": [
    {
     "name": "stdout",
     "output_type": "stream",
     "text": [
      "1\n",
      "2\n",
      "3\n",
      "4\n",
      "5\n",
      "6\n",
      "7\n",
      "8\n",
      "9\n",
      "[9]\n"
     ]
    }
   ],
   "source": [
    "for i in range(1,10): \n",
    "    f = func(i)\n",
    "print(f) "
   ]
  },
  {
   "cell_type": "code",
   "execution_count": 72,
   "id": "22f48be4",
   "metadata": {},
   "outputs": [],
   "source": [
    "# lambda function "
   ]
  },
  {
   "cell_type": "code",
   "execution_count": 73,
   "id": "ea1dbec1",
   "metadata": {},
   "outputs": [],
   "source": [
    "mul = lambda x,y : x * y "
   ]
  },
  {
   "cell_type": "code",
   "execution_count": 74,
   "id": "64bf55db",
   "metadata": {},
   "outputs": [
    {
     "name": "stdout",
     "output_type": "stream",
     "text": [
      "72\n"
     ]
    }
   ],
   "source": [
    "print(mul(9,8))"
   ]
  },
  {
   "cell_type": "markdown",
   "id": "b3efbb52",
   "metadata": {},
   "source": [
    "i have given a list print the square of element inside the list \n",
    "> [1,2,3,4,5]"
   ]
  },
  {
   "cell_type": "code",
   "execution_count": 75,
   "id": "b9279bc8",
   "metadata": {},
   "outputs": [],
   "source": [
    "nums = [4,5,6,7,8,9] "
   ]
  },
  {
   "cell_type": "code",
   "execution_count": 78,
   "id": "e037ab87",
   "metadata": {},
   "outputs": [
    {
     "data": {
      "text/plain": [
       "(<function __main__.<lambda>(n)>, [4, 5, 6, 7, 8, 9])"
      ]
     },
     "execution_count": 78,
     "metadata": {},
     "output_type": "execute_result"
    }
   ],
   "source": [
    "(lambda n: n*2, nums)"
   ]
  },
  {
   "cell_type": "code",
   "execution_count": 79,
   "id": "93a77b54",
   "metadata": {},
   "outputs": [
    {
     "data": {
      "text/plain": [
       "<map at 0x243aa0e1d30>"
      ]
     },
     "execution_count": 79,
     "metadata": {},
     "output_type": "execute_result"
    }
   ],
   "source": [
    "map(lambda n: n*2, nums)"
   ]
  },
  {
   "cell_type": "code",
   "execution_count": 80,
   "id": "4c133c76",
   "metadata": {},
   "outputs": [
    {
     "data": {
      "text/plain": [
       "[8, 10, 12, 14, 16, 18]"
      ]
     },
     "execution_count": 80,
     "metadata": {},
     "output_type": "execute_result"
    }
   ],
   "source": [
    "list(map(lambda n: n*2, nums))"
   ]
  },
  {
   "cell_type": "code",
   "execution_count": 81,
   "id": "2d89904e",
   "metadata": {},
   "outputs": [],
   "source": [
    "strs = ['aswin', 'is',  'learning'] \n",
    "#ans --> ['ASWIN!', 'IS!', 'LEARNING!'] "
   ]
  },
  {
   "cell_type": "code",
   "execution_count": 82,
   "id": "58c33460",
   "metadata": {},
   "outputs": [
    {
     "data": {
      "text/plain": [
       "(<function __main__.<lambda>(x)>, ['aswin', 'is', 'learning'])"
      ]
     },
     "execution_count": 82,
     "metadata": {},
     "output_type": "execute_result"
    }
   ],
   "source": [
    "(lambda x: x.upper() + '!', strs) "
   ]
  },
  {
   "cell_type": "code",
   "execution_count": 83,
   "id": "0a4d6e29",
   "metadata": {},
   "outputs": [
    {
     "data": {
      "text/plain": [
       "<map at 0x243aa0c0dc0>"
      ]
     },
     "execution_count": 83,
     "metadata": {},
     "output_type": "execute_result"
    }
   ],
   "source": [
    "map(lambda x: x.upper() + '!', strs)"
   ]
  },
  {
   "cell_type": "code",
   "execution_count": 84,
   "id": "220bcd6e",
   "metadata": {},
   "outputs": [
    {
     "data": {
      "text/plain": [
       "['ASWIN!', 'IS!', 'LEARNING!']"
      ]
     },
     "execution_count": 84,
     "metadata": {},
     "output_type": "execute_result"
    }
   ],
   "source": [
    "list(map(lambda x: x.upper() + '!', strs))"
   ]
  },
  {
   "cell_type": "code",
   "execution_count": 85,
   "id": "9c5c9dda",
   "metadata": {},
   "outputs": [
    {
     "data": {
      "text/plain": [
       "[True, False, True, True, True, True]"
      ]
     },
     "execution_count": 85,
     "metadata": {},
     "output_type": "execute_result"
    }
   ],
   "source": [
    "stri = ['Abhijit', 'Akash', 'Anbazghan', 'Lakshmi', 'Prabakaran', 'Pranali'] \n",
    "list(map(lambda s: len(s) > 5, stri))"
   ]
  },
  {
   "cell_type": "code",
   "execution_count": 86,
   "id": "97547599",
   "metadata": {},
   "outputs": [
    {
     "data": {
      "text/plain": [
       "['Abhijit', 'Anbazghan', 'Lakshmi', 'Prabakaran', 'Pranali']"
      ]
     },
     "execution_count": 86,
     "metadata": {},
     "output_type": "execute_result"
    }
   ],
   "source": [
    "list(filter(lambda s: len(s) > 5, stri))"
   ]
  },
  {
   "cell_type": "code",
   "execution_count": 87,
   "id": "c89acec0",
   "metadata": {},
   "outputs": [],
   "source": [
    "## \n",
    "list_nums = [5 ,6,8,2,4,5] \n",
    "# print even nums "
   ]
  },
  {
   "cell_type": "code",
   "execution_count": 88,
   "id": "f0a64d37",
   "metadata": {},
   "outputs": [],
   "source": [
    "def func(a,b,c):\n",
    "    print(a+b*c)"
   ]
  },
  {
   "cell_type": "code",
   "execution_count": 89,
   "id": "d608b699",
   "metadata": {},
   "outputs": [
    {
     "name": "stdout",
     "output_type": "stream",
     "text": [
      "3038\n"
     ]
    }
   ],
   "source": [
    "func(23,45,67)"
   ]
  },
  {
   "cell_type": "code",
   "execution_count": 90,
   "id": "a78f5a9e",
   "metadata": {},
   "outputs": [
    {
     "name": "stdout",
     "output_type": "stream",
     "text": [
      "3038\n"
     ]
    }
   ],
   "source": [
    "x = lambda a,b,c : a + b * c \n",
    "\n",
    "print(x(23,45,67))"
   ]
  },
  {
   "cell_type": "code",
   "execution_count": 93,
   "id": "bb4f996c",
   "metadata": {},
   "outputs": [
    {
     "name": "stdout",
     "output_type": "stream",
     "text": [
      "['Abhijit', 'Anbazghan', 'Lakshmi', 'Prabakaran', 'Pranali']\n"
     ]
    }
   ],
   "source": [
    "new_str = []\n",
    "for i in stri:\n",
    "    if len(i) > 5 :\n",
    "        new_str.append(i) \n",
    "        \n",
    "print(new_str)"
   ]
  },
  {
   "cell_type": "code",
   "execution_count": 94,
   "id": "485570a9",
   "metadata": {},
   "outputs": [
    {
     "name": "stdout",
     "output_type": "stream",
     "text": [
      "<function <lambda> at 0x00000243AAA6BA60>\n"
     ]
    }
   ],
   "source": [
    "print(lambda s: len(s) > 5)"
   ]
  },
  {
   "cell_type": "code",
   "execution_count": 98,
   "id": "5829f371",
   "metadata": {},
   "outputs": [
    {
     "data": {
      "text/plain": [
       "['Abhijit', 'Anbazghan', 'Lakshmi', 'Prabakaran', 'Pranali']"
      ]
     },
     "execution_count": 98,
     "metadata": {},
     "output_type": "execute_result"
    }
   ],
   "source": [
    "stri = ['Abhijit', 'Akash', 'Anbazghan', 'Lakshmi', 'Prabakaran', 'Pranali'] \n",
    "list(filter(lambda s: len(s) > 5, stri))"
   ]
  },
  {
   "cell_type": "code",
   "execution_count": 103,
   "id": "06192e7a",
   "metadata": {},
   "outputs": [
    {
     "data": {
      "text/plain": [
       "['Abhijit', 'Anbazghan', 'Lakshmi', 'Prabakaran', 'Pranali']"
      ]
     },
     "execution_count": 103,
     "metadata": {},
     "output_type": "execute_result"
    }
   ],
   "source": [
    "list(filter(lambda s: len(s) > 5, stri))"
   ]
  },
  {
   "cell_type": "code",
   "execution_count": 104,
   "id": "ffe5eb8c",
   "metadata": {},
   "outputs": [],
   "source": [
    "list_nums = [5,6,8,2,4,5] "
   ]
  },
  {
   "cell_type": "code",
   "execution_count": 105,
   "id": "f871d7ec",
   "metadata": {},
   "outputs": [
    {
     "data": {
      "text/plain": [
       "<function __main__.<lambda>(s)>"
      ]
     },
     "execution_count": 105,
     "metadata": {},
     "output_type": "execute_result"
    }
   ],
   "source": [
    "lambda s : s % 2 == 0"
   ]
  },
  {
   "cell_type": "code",
   "execution_count": 107,
   "id": "3ead2a83",
   "metadata": {},
   "outputs": [
    {
     "data": {
      "text/plain": [
       "[False, True, True, True, True, False]"
      ]
     },
     "execution_count": 107,
     "metadata": {},
     "output_type": "execute_result"
    }
   ],
   "source": [
    "list(map(lambda s : s % 2 == 0, list_nums))"
   ]
  },
  {
   "cell_type": "code",
   "execution_count": 108,
   "id": "ef348ba2",
   "metadata": {},
   "outputs": [
    {
     "data": {
      "text/plain": [
       "<filter at 0x243aa219af0>"
      ]
     },
     "execution_count": 108,
     "metadata": {},
     "output_type": "execute_result"
    }
   ],
   "source": [
    "filter(lambda s : s % 2 == 0, list_nums)"
   ]
  },
  {
   "cell_type": "code",
   "execution_count": 110,
   "id": "aa789dec",
   "metadata": {},
   "outputs": [
    {
     "data": {
      "text/plain": [
       "[6, 8, 2, 4]"
      ]
     },
     "execution_count": 110,
     "metadata": {},
     "output_type": "execute_result"
    }
   ],
   "source": [
    "ks = list(filter(lambda s : s % 2 == 0, list_nums))\n",
    "ks"
   ]
  },
  {
   "cell_type": "code",
   "execution_count": 111,
   "id": "c4552e20",
   "metadata": {},
   "outputs": [],
   "source": [
    "# double down \n",
    "def double(n):\n",
    "    return n * 2"
   ]
  },
  {
   "cell_type": "code",
   "execution_count": 112,
   "id": "9952353b",
   "metadata": {},
   "outputs": [
    {
     "data": {
      "text/plain": [
       "10"
      ]
     },
     "execution_count": 112,
     "metadata": {},
     "output_type": "execute_result"
    }
   ],
   "source": [
    "double(5)"
   ]
  },
  {
   "cell_type": "code",
   "execution_count": 115,
   "id": "296061a2",
   "metadata": {},
   "outputs": [
    {
     "name": "stdout",
     "output_type": "stream",
     "text": [
      "[12, 16, 4, 8]\n"
     ]
    }
   ],
   "source": [
    "double_list = []\n",
    "for i in ks:\n",
    "    i = i * 2 \n",
    "    double_list.append(i) \n",
    "    \n",
    "print(double_list)"
   ]
  },
  {
   "cell_type": "code",
   "execution_count": 116,
   "id": "2e21ea0a",
   "metadata": {},
   "outputs": [
    {
     "data": {
      "text/plain": [
       "[12, 16, 4, 8]"
      ]
     },
     "execution_count": 116,
     "metadata": {},
     "output_type": "execute_result"
    }
   ],
   "source": [
    "list(map(lambda s : s * 2, ks)) "
   ]
  },
  {
   "cell_type": "code",
   "execution_count": 117,
   "id": "4da1d920",
   "metadata": {},
   "outputs": [
    {
     "data": {
      "text/plain": [
       "[12, 16, 4, 8]"
      ]
     },
     "execution_count": 117,
     "metadata": {},
     "output_type": "execute_result"
    }
   ],
   "source": [
    "list(map(double, ks))"
   ]
  },
  {
   "cell_type": "markdown",
   "id": "eb29a262",
   "metadata": {},
   "source": [
    "## File Handling"
   ]
  },
  {
   "cell_type": "code",
   "execution_count": 136,
   "id": "3df290a5",
   "metadata": {},
   "outputs": [
    {
     "name": "stdout",
     "output_type": "stream",
     "text": [
      "<_io.TextIOWrapper name='readingfiles.txt' mode='r' encoding='cp1252'>\n"
     ]
    }
   ],
   "source": [
    "f = open('readingfiles.txt')\n",
    "print(f)"
   ]
  },
  {
   "cell_type": "code",
   "execution_count": 137,
   "id": "d6f79abc",
   "metadata": {},
   "outputs": [
    {
     "name": "stdout",
     "output_type": "stream",
     "text": [
      "I am learning a python today, I have a learn list comprehension, defining a function, lambda, filter and map and few test cases. I am learning a file handling concept right now\n"
     ]
    }
   ],
   "source": [
    "print(f.read())"
   ]
  },
  {
   "cell_type": "code",
   "execution_count": 138,
   "id": "4490ffa8",
   "metadata": {},
   "outputs": [
    {
     "name": "stdout",
     "output_type": "stream",
     "text": [
      "I am \n"
     ]
    }
   ],
   "source": [
    "f = open(r'D:\\New folder\\python basics\\readingfiles.txt')\n",
    "print(f.read(5))"
   ]
  },
  {
   "cell_type": "code",
   "execution_count": 139,
   "id": "a31f0680",
   "metadata": {},
   "outputs": [],
   "source": [
    "f = open('readingfiles.txt', 'a')\n",
    "f.write('I am learning a file handling concept right now') \n",
    "f.close()"
   ]
  },
  {
   "cell_type": "code",
   "execution_count": 140,
   "id": "92ba2608",
   "metadata": {},
   "outputs": [
    {
     "name": "stdout",
     "output_type": "stream",
     "text": [
      "I am learning a python today, I have a learn list comprehension, defining a function, lambda, filter and map and few test cases. I am learning a file handling concept right nowI am learning a file handling concept right now\n"
     ]
    }
   ],
   "source": [
    "f = open('readingfiles.txt')\n",
    "print(f.read())"
   ]
  },
  {
   "cell_type": "code",
   "execution_count": 141,
   "id": "4faceeb2",
   "metadata": {},
   "outputs": [],
   "source": [
    "f = open('readingfiles.txt', 'w')\n",
    "f.write('adding a new line') \n",
    "f.close() "
   ]
  },
  {
   "cell_type": "code",
   "execution_count": 142,
   "id": "53d82917",
   "metadata": {},
   "outputs": [
    {
     "name": "stdout",
     "output_type": "stream",
     "text": [
      "adding a new line\n"
     ]
    }
   ],
   "source": [
    "f = open('readingfiles.txt')\n",
    "print(f.read())"
   ]
  },
  {
   "cell_type": "code",
   "execution_count": 143,
   "id": "1af0d07e",
   "metadata": {},
   "outputs": [],
   "source": [
    "f = open('readingfiles.txt', 'w')\n",
    "f.write('I am learning a python today, I have a learn list comprehension, defining a function, lambda, filter and map and few test cases. I am learning a file handling concept right now') \n",
    "f.close() "
   ]
  },
  {
   "cell_type": "code",
   "execution_count": 149,
   "id": "74d8dbe8",
   "metadata": {},
   "outputs": [],
   "source": [
    "f = open('newfile.txt', 'x')"
   ]
  },
  {
   "cell_type": "code",
   "execution_count": 150,
   "id": "b7e685c7",
   "metadata": {},
   "outputs": [],
   "source": [
    "f.close()"
   ]
  },
  {
   "cell_type": "code",
   "execution_count": 151,
   "id": "60add6d4",
   "metadata": {},
   "outputs": [],
   "source": [
    "import os \n",
    "os.remove('newfile.txt')"
   ]
  },
  {
   "cell_type": "code",
   "execution_count": 152,
   "id": "91e51c41",
   "metadata": {},
   "outputs": [],
   "source": [
    "import pandas as pd \n",
    "import numpy as np \n",
    "import matplotlib.pyplot as plt"
   ]
  },
  {
   "cell_type": "code",
   "execution_count": null,
   "id": "024ecc16",
   "metadata": {},
   "outputs": [],
   "source": []
  }
 ],
 "metadata": {
  "kernelspec": {
   "display_name": "Python 3 (ipykernel)",
   "language": "python",
   "name": "python3"
  },
  "language_info": {
   "codemirror_mode": {
    "name": "ipython",
    "version": 3
   },
   "file_extension": ".py",
   "mimetype": "text/x-python",
   "name": "python",
   "nbconvert_exporter": "python",
   "pygments_lexer": "ipython3",
   "version": "3.9.13"
  }
 },
 "nbformat": 4,
 "nbformat_minor": 5
}
