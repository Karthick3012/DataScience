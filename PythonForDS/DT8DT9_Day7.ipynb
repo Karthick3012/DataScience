{
 "cells": [
  {
   "cell_type": "code",
   "execution_count": 1,
   "metadata": {
    "colab": {
     "base_uri": "https://localhost:8080/",
     "height": 235
    },
    "id": "XuoBE2aOVI--",
    "outputId": "33ae87e3-ffab-4036-a8ea-458e4681e5d0"
   },
   "outputs": [
    {
     "ename": "NameError",
     "evalue": "ignored",
     "output_type": "error",
     "traceback": [
      "\u001b[0;31m---------------------------------------------------------------------------\u001b[0m",
      "\u001b[0;31mNameError\u001b[0m                                 Traceback (most recent call last)",
      "\u001b[0;32m<ipython-input-1-237a6ac14f41>\u001b[0m in \u001b[0;36m<cell line: 2>\u001b[0;34m()\u001b[0m\n\u001b[1;32m      1\u001b[0m \u001b[0ma\u001b[0m \u001b[0;34m=\u001b[0m \u001b[0;36m8\u001b[0m\u001b[0;34m\u001b[0m\u001b[0;34m\u001b[0m\u001b[0m\n\u001b[0;32m----> 2\u001b[0;31m \u001b[0;32mwhile\u001b[0m \u001b[0mi\u001b[0m \u001b[0;34m<=\u001b[0m \u001b[0ma\u001b[0m\u001b[0;34m:\u001b[0m\u001b[0;34m\u001b[0m\u001b[0;34m\u001b[0m\u001b[0m\n\u001b[0m\u001b[1;32m      3\u001b[0m   \u001b[0mi\u001b[0m \u001b[0;34m=\u001b[0m \u001b[0;36m0\u001b[0m\u001b[0;34m\u001b[0m\u001b[0;34m\u001b[0m\u001b[0m\n\u001b[1;32m      4\u001b[0m   \u001b[0mprint\u001b[0m\u001b[0;34m(\u001b[0m\u001b[0;36m8\u001b[0m\u001b[0;34m)\u001b[0m\u001b[0;34m\u001b[0m\u001b[0;34m\u001b[0m\u001b[0m\n\u001b[1;32m      5\u001b[0m   \u001b[0ma\u001b[0m \u001b[0;34m-=\u001b[0m\u001b[0;36m1\u001b[0m \u001b[0;31m# a = a-1\u001b[0m\u001b[0;34m\u001b[0m\u001b[0;34m\u001b[0m\u001b[0m\n",
      "\u001b[0;31mNameError\u001b[0m: name 'i' is not defined"
     ]
    }
   ],
   "source": [
    "\n",
    "a = 8\n",
    "i = 0\n",
    "\n",
    "while i <= a:\n",
    "  print(8)\n",
    "  a -=1 # a = a-1\n",
    "  i = i+1\n"
   ]
  },
  {
   "cell_type": "code",
   "execution_count": 2,
   "metadata": {
    "id": "iiXbNPc2VsRy"
   },
   "outputs": [],
   "source": [
    "# regx - overview\n",
    "# pip\n",
    "# iterator\n",
    "# pickling\n",
    "# json"
   ]
  },
  {
   "cell_type": "code",
   "execution_count": 3,
   "metadata": {
    "colab": {
     "base_uri": "https://localhost:8080/"
    },
    "id": "bgykoHL-WGaB",
    "outputId": "df862c5c-c28f-4c6a-8558-d880bf7fcef6"
   },
   "outputs": [
    {
     "name": "stdout",
     "output_type": "stream",
     "text": [
      "Looking in indexes: https://pypi.org/simple, https://us-python.pkg.dev/colab-wheels/public/simple/\n",
      "Requirement already satisfied: matplotlib in /usr/local/lib/python3.10/dist-packages (3.7.1)\n",
      "Requirement already satisfied: contourpy>=1.0.1 in /usr/local/lib/python3.10/dist-packages (from matplotlib) (1.0.7)\n",
      "Requirement already satisfied: cycler>=0.10 in /usr/local/lib/python3.10/dist-packages (from matplotlib) (0.11.0)\n",
      "Requirement already satisfied: fonttools>=4.22.0 in /usr/local/lib/python3.10/dist-packages (from matplotlib) (4.39.3)\n",
      "Requirement already satisfied: kiwisolver>=1.0.1 in /usr/local/lib/python3.10/dist-packages (from matplotlib) (1.4.4)\n",
      "Requirement already satisfied: numpy>=1.20 in /usr/local/lib/python3.10/dist-packages (from matplotlib) (1.22.4)\n",
      "Requirement already satisfied: packaging>=20.0 in /usr/local/lib/python3.10/dist-packages (from matplotlib) (23.1)\n",
      "Requirement already satisfied: pillow>=6.2.0 in /usr/local/lib/python3.10/dist-packages (from matplotlib) (8.4.0)\n",
      "Requirement already satisfied: pyparsing>=2.3.1 in /usr/local/lib/python3.10/dist-packages (from matplotlib) (3.0.9)\n",
      "Requirement already satisfied: python-dateutil>=2.7 in /usr/local/lib/python3.10/dist-packages (from matplotlib) (2.8.2)\n",
      "Requirement already satisfied: six>=1.5 in /usr/local/lib/python3.10/dist-packages (from python-dateutil>=2.7->matplotlib) (1.16.0)\n"
     ]
    }
   ],
   "source": [
    "! pip install matplotlib"
   ]
  },
  {
   "cell_type": "code",
   "execution_count": 4,
   "metadata": {
    "colab": {
     "base_uri": "https://localhost:8080/"
    },
    "id": "KW5as7YDWk50",
    "outputId": "041313e8-cb5f-4f36-9743-9a6e1fc3b678"
   },
   "outputs": [
    {
     "name": "stdout",
     "output_type": "stream",
     "text": [
      "Looking in indexes: https://pypi.org/simple, https://us-python.pkg.dev/colab-wheels/public/simple/\n",
      "Requirement already satisfied: scipy in /usr/local/lib/python3.10/dist-packages (1.10.1)\n",
      "Requirement already satisfied: numpy<1.27.0,>=1.19.5 in /usr/local/lib/python3.10/dist-packages (from scipy) (1.22.4)\n"
     ]
    }
   ],
   "source": [
    "! pip install scipy\n"
   ]
  },
  {
   "cell_type": "code",
   "execution_count": 6,
   "metadata": {
    "id": "wsilxnFAWuph"
   },
   "outputs": [],
   "source": [
    "# ! pip list"
   ]
  },
  {
   "cell_type": "code",
   "execution_count": null,
   "metadata": {
    "id": "k4zO5X11XXAt"
   },
   "outputs": [],
   "source": []
  },
  {
   "cell_type": "markdown",
   "metadata": {
    "id": "JnYYFSLeYCI_"
   },
   "source": [
    "### ITERATOR:"
   ]
  },
  {
   "cell_type": "code",
   "execution_count": 8,
   "metadata": {
    "id": "Y_WXJJWiYEcA"
   },
   "outputs": [],
   "source": [
    "# all iterable datatype can be converted into iterator data type by using iter()\n",
    "# space & memory of iterator is dynamic & negliable"
   ]
  },
  {
   "cell_type": "code",
   "execution_count": 22,
   "metadata": {
    "colab": {
     "base_uri": "https://localhost:8080/"
    },
    "id": "hCY212NoYfdD",
    "outputId": "5dd7a964-9c7d-408a-bef1-c38a5aea1208"
   },
   "outputs": [
    {
     "name": "stdout",
     "output_type": "stream",
     "text": [
      "1\n",
      "2\n",
      "[3, 4]\n"
     ]
    }
   ],
   "source": [
    "a = [1,2,3,4]\n",
    "b = iter(a)\n",
    "print(next(b)) # it will take the first element form that datatype\n",
    "# print(list(b))\n",
    "print(next(b))\n",
    "print(list(b))"
   ]
  },
  {
   "cell_type": "code",
   "execution_count": 23,
   "metadata": {
    "colab": {
     "base_uri": "https://localhost:8080/"
    },
    "id": "nZm0CegjYnQB",
    "outputId": "73dc49ee-4867-4f13-8325-76e819c49f2b"
   },
   "outputs": [
    {
     "name": "stdout",
     "output_type": "stream",
     "text": [
      "1\n",
      "2\n",
      "[3, 4]\n"
     ]
    }
   ],
   "source": [
    "a = (1,2,3,4)\n",
    "iter(a)\n",
    "b = iter(a)\n",
    "print(next(b)) # it will take the first element form that datatype\n",
    "# print(list(b))\n",
    "print(next(b))\n",
    "print(list(b))"
   ]
  },
  {
   "cell_type": "code",
   "execution_count": 24,
   "metadata": {
    "colab": {
     "base_uri": "https://localhost:8080/"
    },
    "id": "-1ZSigluYpXA",
    "outputId": "74238f1c-fce3-455e-8a5c-1ced4a87e895"
   },
   "outputs": [
    {
     "name": "stdout",
     "output_type": "stream",
     "text": [
      "1\n",
      "2\n",
      "[3, 4]\n"
     ]
    }
   ],
   "source": [
    "a = {1,2,3,4}\n",
    "iter(a)\n",
    "b = iter(a)\n",
    "print(next(b)) # it will take random element\n",
    "# print(list(b))\n",
    "print(next(b))\n",
    "print(list(b))"
   ]
  },
  {
   "cell_type": "code",
   "execution_count": 33,
   "metadata": {
    "colab": {
     "base_uri": "https://localhost:8080/"
    },
    "id": "bkoty0mcYrXD",
    "outputId": "74313e5c-dbcf-420f-c3af-10d962aed479"
   },
   "outputs": [
    {
     "name": "stdout",
     "output_type": "stream",
     "text": [
      "aesr\n",
      "['2', 'mage']\n"
     ]
    }
   ],
   "source": [
    "a = {\"aesr\":2,\"2\":3,\"mage\":\"jas\"}\n",
    "iter(a)\n",
    "b = iter(a)\n",
    "print(next(b)) # it will take random key\n",
    "print(list(b))\n"
   ]
  },
  {
   "cell_type": "code",
   "execution_count": 15,
   "metadata": {
    "colab": {
     "base_uri": "https://localhost:8080/"
    },
    "id": "lel2shidYtTG",
    "outputId": "88432c5b-ee03-44d9-dcf5-2de48aa549a8"
   },
   "outputs": [
    {
     "name": "stdout",
     "output_type": "stream",
     "text": [
      "3\n"
     ]
    },
    {
     "data": {
      "text/plain": [
       "[1, 2, 3, 4]"
      ]
     },
     "execution_count": 15,
     "metadata": {},
     "output_type": "execute_result"
    }
   ],
   "source": [
    "a = [1,2,3,4]\n",
    "print(a[2])\n",
    "a"
   ]
  },
  {
   "cell_type": "markdown",
   "metadata": {
    "id": "zaLlPSuFcGgL"
   },
   "source": [
    "### PICKLING:"
   ]
  },
  {
   "cell_type": "code",
   "execution_count": 37,
   "metadata": {
    "colab": {
     "base_uri": "https://localhost:8080/"
    },
    "id": "A5966CI9cHll",
    "outputId": "ada9452d-8b96-41a1-eab7-71511d088a59"
   },
   "outputs": [
    {
     "name": "stdout",
     "output_type": "stream",
     "text": [
      "b'\\x80\\x04\\x95&\\x00\\x00\\x00\\x00\\x00\\x00\\x00\\x8c\"I love India i present this to you\\x94.'\n"
     ]
    }
   ],
   "source": [
    "import pickle\n",
    "\n",
    "a = \"I love India i present this to you\"\n",
    "\n",
    "b = pickle.dumps(a) # pickling\n",
    "print(b)"
   ]
  },
  {
   "cell_type": "code",
   "execution_count": 38,
   "metadata": {
    "colab": {
     "base_uri": "https://localhost:8080/",
     "height": 36
    },
    "id": "8HvNqvvecaSX",
    "outputId": "4718b093-246c-46a8-962f-0f4f4a73dfa7"
   },
   "outputs": [
    {
     "data": {
      "application/vnd.google.colaboratory.intrinsic+json": {
       "type": "string"
      },
      "text/plain": [
       "'I love India i present this to you'"
      ]
     },
     "execution_count": 38,
     "metadata": {},
     "output_type": "execute_result"
    }
   ],
   "source": [
    "read = pickle.loads(b)  # un-pickling\n",
    "read"
   ]
  },
  {
   "cell_type": "code",
   "execution_count": 41,
   "metadata": {
    "colab": {
     "base_uri": "https://localhost:8080/"
    },
    "id": "FtE6iLVrdCDJ",
    "outputId": "86fd0b28-6d32-4710-8982-8b2b46ce7756"
   },
   "outputs": [
    {
     "name": "stdout",
     "output_type": "stream",
     "text": [
      "b'\\x80\\x04\\x95!\\x00\\x00\\x00\\x00\\x00\\x00\\x00}\\x94(\\x8c\\x04aesr\\x94K\\x02\\x8c\\x012\\x94K\\x03\\x8c\\x04mage\\x94\\x8c\\x03jas\\x94u.'\n",
      "{'aesr': 2, '2': 3, 'mage': 'jas'}\n"
     ]
    }
   ],
   "source": [
    "a = {\"aesr\":2,\"2\":3,\"mage\":\"jas\"}\n",
    "\n",
    "b = pickle.dumps(a) # pickling\n",
    "print(b)\n",
    "\n",
    "d = pickle.loads(b) # un-pickling\n",
    "print(d)"
   ]
  },
  {
   "cell_type": "code",
   "execution_count": 42,
   "metadata": {
    "colab": {
     "base_uri": "https://localhost:8080/"
    },
    "id": "Pv6pU1-4dULo",
    "outputId": "ff89c62a-506f-4649-9ae3-49c47df7a91f"
   },
   "outputs": [
    {
     "name": "stdout",
     "output_type": "stream",
     "text": [
      "b'\\x80\\x04\\x95$\\x00\\x00\\x00\\x00\\x00\\x00\\x00]\\x94}\\x94(\\x8c\\x04aesr\\x94K\\x02\\x8c\\x012\\x94K\\x03\\x8c\\x04mage\\x94\\x8c\\x03jas\\x94ua.'\n",
      "[{'aesr': 2, '2': 3, 'mage': 'jas'}]\n"
     ]
    }
   ],
   "source": [
    "a = [{\"aesr\":2,\"2\":3,\"mage\":\"jas\"}]\n",
    "\n",
    "b = pickle.dumps(a) # pickling\n",
    "print(b)\n",
    "\n",
    "d = pickle.loads(b) # un-pickling\n",
    "print(d)"
   ]
  },
  {
   "cell_type": "code",
   "execution_count": 43,
   "metadata": {
    "colab": {
     "base_uri": "https://localhost:8080/"
    },
    "id": "FGZyRqy3eNQU",
    "outputId": "bedf3b64-0062-47ac-83c2-fc8bd4830c3b"
   },
   "outputs": [
    {
     "name": "stdout",
     "output_type": "stream",
     "text": [
      "b'\\x80\\x04K{.'\n",
      "123\n"
     ]
    }
   ],
   "source": [
    "a = 123\n",
    "\n",
    "b = pickle.dumps(a) # pickling\n",
    "print(b)\n",
    "\n",
    "d = pickle.loads(b) # un-pickling\n",
    "print(d)"
   ]
  },
  {
   "cell_type": "code",
   "execution_count": null,
   "metadata": {
    "id": "AW0k6IdNePWQ"
   },
   "outputs": [],
   "source": []
  },
  {
   "cell_type": "markdown",
   "metadata": {
    "id": "8FH63wUce8gm"
   },
   "source": [
    "### JSON:"
   ]
  },
  {
   "cell_type": "code",
   "execution_count": 44,
   "metadata": {
    "id": "X04iWs1Ge-FD"
   },
   "outputs": [],
   "source": [
    "# JSON - Javascript Object Notation"
   ]
  },
  {
   "cell_type": "code",
   "execution_count": 45,
   "metadata": {
    "id": "aHvhJRHwfb63"
   },
   "outputs": [],
   "source": [
    "import json"
   ]
  },
  {
   "cell_type": "code",
   "execution_count": 49,
   "metadata": {
    "colab": {
     "base_uri": "https://localhost:8080/"
    },
    "id": "KFRTOnHrfd7c",
    "outputId": "9ecc9580-3c95-41de-accd-91e9b8504ac0"
   },
   "outputs": [
    {
     "data": {
      "text/plain": [
       "[1, 2, 3, 4]"
      ]
     },
     "execution_count": 49,
     "metadata": {},
     "output_type": "execute_result"
    }
   ],
   "source": [
    "a = [1,2,3,4]\n",
    "b = json.dumps(a) # convert a datype to json\n",
    "json.loads(b) # converted to orginal datatype"
   ]
  },
  {
   "cell_type": "code",
   "execution_count": 55,
   "metadata": {
    "colab": {
     "base_uri": "https://localhost:8080/"
    },
    "id": "R5vQPhw0feYn",
    "outputId": "0bd50ae7-91e6-4c35-84f5-6abe7283964f"
   },
   "outputs": [
    {
     "data": {
      "text/plain": [
       "list"
      ]
     },
     "execution_count": 55,
     "metadata": {},
     "output_type": "execute_result"
    }
   ],
   "source": [
    "a = (1,2,3,4)\n",
    "b = json.dumps(a) # convert a datype to json\n",
    "type(json.loads(b)) # converted to orginal datatype"
   ]
  },
  {
   "cell_type": "code",
   "execution_count": 52,
   "metadata": {
    "colab": {
     "base_uri": "https://localhost:8080/",
     "height": 36
    },
    "id": "rVejCiN5gK_q",
    "outputId": "dd2ba0a7-0368-4cf9-a2ca-87faa3f5c04b"
   },
   "outputs": [
    {
     "data": {
      "application/vnd.google.colaboratory.intrinsic+json": {
       "type": "string"
      },
      "text/plain": [
       "'(1,2,3,4)'"
      ]
     },
     "execution_count": 52,
     "metadata": {},
     "output_type": "execute_result"
    }
   ],
   "source": [
    "a = '(1,2,3,4)'\n",
    "b = json.dumps(a) # convert a datype to json\n",
    "json.loads(b)"
   ]
  },
  {
   "cell_type": "code",
   "execution_count": 58,
   "metadata": {
    "colab": {
     "base_uri": "https://localhost:8080/",
     "height": 36
    },
    "id": "BWHwu2aYgNen",
    "outputId": "75643919-8e1e-40ef-aab9-33d0c88d4349"
   },
   "outputs": [
    {
     "data": {
      "application/vnd.google.colaboratory.intrinsic+json": {
       "type": "string"
      },
      "text/plain": [
       "'\"{\\\\n  \\\\\"name\\\\\":\\\\\"magesh\\\\\",\\\\n  \\\\\"age\\\\\":20,\\\\n  \\\\\"sex\\\\\":M,\\\\n  \\\\\"number\\\\\":213213\\\\n}\"'"
      ]
     },
     "execution_count": 58,
     "metadata": {},
     "output_type": "execute_result"
    }
   ],
   "source": [
    "a = '''{\n",
    "  \"name\":\"magesh\",\n",
    "  \"age\":20,\n",
    "  \"sex\":M,\n",
    "  \"number\":213213\n",
    "}'''\n",
    "b = json.dumps(a) # convert a datype to json\n",
    "json.loads(b)"
   ]
  },
  {
   "cell_type": "code",
   "execution_count": null,
   "metadata": {
    "id": "fqNh0xZChm4P"
   },
   "outputs": [],
   "source": [
    "a = '''{\n",
    "  \"name\":\"magesh\",\n",
    "  \"age\":20,\n",
    "  \"sex\":\"M\",\n",
    "  \"number\":213213\n",
    "}'''\n",
    "json.loads(a)"
   ]
  },
  {
   "cell_type": "code",
   "execution_count": 65,
   "metadata": {
    "colab": {
     "base_uri": "https://localhost:8080/"
    },
    "id": "5NVT0wC1g3xP",
    "outputId": "1110ddc0-fbd0-47ea-9852-3ea1d4a272a2"
   },
   "outputs": [
    {
     "name": "stdout",
     "output_type": "stream",
     "text": [
      "<class 'str'>\n",
      "{\"name\": \"magesh\", \"age\": 20, \"sex\": \"M\", \"number\": 213213}\n"
     ]
    },
    {
     "data": {
      "text/plain": [
       "{'name': 'magesh', 'age': 20, 'sex': 'M', 'number': 213213}"
      ]
     },
     "execution_count": 65,
     "metadata": {},
     "output_type": "execute_result"
    }
   ],
   "source": [
    "a = {\n",
    "  \"name\":\"magesh\",\n",
    "  \"age\":20,\n",
    "  'sex':\"M\",\n",
    "  \"number\":213213\n",
    "}\n",
    "b = json.dumps(a) # convert a datype to json\n",
    "print(type(b)) # str\n",
    "print(b)\n",
    "json.loads(b)"
   ]
  },
  {
   "cell_type": "code",
   "execution_count": 68,
   "metadata": {
    "colab": {
     "base_uri": "https://localhost:8080/"
    },
    "id": "s9st15a5iKlK",
    "outputId": "fa13257b-546f-4c54-ba5e-9906b60dc944"
   },
   "outputs": [
    {
     "name": "stdout",
     "output_type": "stream",
     "text": [
      "<class 'str'>\n",
      "234\n"
     ]
    },
    {
     "data": {
      "text/plain": [
       "234"
      ]
     },
     "execution_count": 68,
     "metadata": {},
     "output_type": "execute_result"
    }
   ],
   "source": [
    "a = 234\n",
    "b = json.dumps(a) # convert a datype to json\n",
    "print(type(b)) # str\n",
    "print(b)\n",
    "json.loads(b)"
   ]
  },
  {
   "cell_type": "code",
   "execution_count": null,
   "metadata": {
    "id": "vf19UnJrhK_m"
   },
   "outputs": [],
   "source": [
    "json.dumps(variable) # used to convert to json\n",
    "json.loads(variable) # used to read as json"
   ]
  },
  {
   "cell_type": "code",
   "execution_count": null,
   "metadata": {
    "id": "ejfSHYXJj_zK"
   },
   "outputs": [],
   "source": []
  },
  {
   "cell_type": "markdown",
   "metadata": {
    "id": "YjrbbtvJkA6y"
   },
   "source": [
    "### regx - overview\n"
   ]
  },
  {
   "cell_type": "code",
   "execution_count": 69,
   "metadata": {
    "id": "U_TmmJMakCF1"
   },
   "outputs": [],
   "source": [
    "import re"
   ]
  },
  {
   "cell_type": "code",
   "execution_count": 70,
   "metadata": {
    "id": "7ydG0htVkQaT"
   },
   "outputs": [],
   "source": [
    "# re.findall() it will fetch all the daat matched in pattern\n",
    "# re.search()  it will fetch only ther first occurance of the matched  pattern\n",
    "# re.match()   it will check from the start wetehr the pattern is exactly matched"
   ]
  },
  {
   "cell_type": "code",
   "execution_count": 71,
   "metadata": {
    "id": "9G1GtqWLkZly"
   },
   "outputs": [],
   "source": [
    "# re.findall(pattern,string_var)"
   ]
  },
  {
   "cell_type": "code",
   "execution_count": 72,
   "metadata": {
    "id": "qEOkfavhkihx"
   },
   "outputs": [],
   "source": [
    "# pattern"
   ]
  },
  {
   "cell_type": "code",
   "execution_count": null,
   "metadata": {
    "id": "ywVv1uRQlNMx"
   },
   "outputs": [],
   "source": [
    "# EXPRESSION \n",
    "\n",
    "# *       - one or more char end before ele\n",
    "# .       - match any one char\n",
    "# +       - to match more squence of pattern\n",
    "# ?       - zero or one char end before ele\n",
    "# $       - match for end before ele\n",
    "# ^       - match for start next ele\n",
    "# []      - group of Expression\n",
    "# |       - or expression\n",
    "# ()      - to get exact output\n",
    "# {m,n}   - exact match for no of char\n",
    "# \\       - ignore the special EXPRESSION"
   ]
  },
  {
   "cell_type": "code",
   "execution_count": 73,
   "metadata": {
    "id": "wro4KTqpmAhz"
   },
   "outputs": [],
   "source": [
    "# \\d      - match for number\n",
    "# \\D      - except number\n",
    "# \\w      - a-z , A-z, 0-9\n",
    "# \\W      - except a-z , A-z, 0-9\n",
    "# \\s      - only space\n",
    "# \\S      - except space\n",
    "# \\b      - example\n",
    "# \\B      - opposit of \\b"
   ]
  },
  {
   "cell_type": "code",
   "execution_count": 75,
   "metadata": {
    "colab": {
     "base_uri": "https://localhost:8080/"
    },
    "id": "YFZOrgmnmioJ",
    "outputId": "395b16c6-f515-4db2-f27d-a966bf85831f"
   },
   "outputs": [
    {
     "data": {
      "text/plain": [
       "['2', '3', '4', '2', '3', '4', '2', '3', '4']"
      ]
     },
     "execution_count": 75,
     "metadata": {},
     "output_type": "execute_result"
    }
   ],
   "source": [
    "a = 'I love India 234-234-234'\n",
    "pattern = '\\d'\n",
    "re.findall(pattern,a) # list"
   ]
  },
  {
   "cell_type": "code",
   "execution_count": 77,
   "metadata": {
    "colab": {
     "base_uri": "https://localhost:8080/"
    },
    "id": "IgrulSe7m0Z-",
    "outputId": "9c750081-fc94-47ce-8638-32b6a7784cf4"
   },
   "outputs": [
    {
     "data": {
      "text/plain": [
       "['234', '231', '334', '23', '4']"
      ]
     },
     "execution_count": 77,
     "metadata": {},
     "output_type": "execute_result"
    }
   ],
   "source": [
    "a = 'I love India 234-231u334-23 4'\n",
    "pattern = '\\d+'\n",
    "re.findall(pattern,a) # list"
   ]
  },
  {
   "cell_type": "code",
   "execution_count": 78,
   "metadata": {
    "colab": {
     "base_uri": "https://localhost:8080/"
    },
    "id": "mua99nqknBU8",
    "outputId": "8cb779b4-4e31-486d-d92f-0710e8770ec9"
   },
   "outputs": [
    {
     "data": {
      "text/plain": [
       "['234-2313-3423']"
      ]
     },
     "execution_count": 78,
     "metadata": {},
     "output_type": "execute_result"
    }
   ],
   "source": [
    "a = 'I love India 234-2313-3423 4'\n",
    "pattern = '\\d+-\\d+-\\d+'\n",
    "re.findall(pattern,a) # list"
   ]
  },
  {
   "cell_type": "code",
   "execution_count": 142,
   "metadata": {
    "colab": {
     "base_uri": "https://localhost:8080/"
    },
    "id": "tS-HB2f-oduy",
    "outputId": "7d33c422-0e70-4121-9c7e-60fe96195ec7"
   },
   "outputs": [
    {
     "data": {
      "text/plain": [
       "['2313', '2323413']"
      ]
     },
     "execution_count": 142,
     "metadata": {},
     "output_type": "execute_result"
    }
   ],
   "source": [
    "a = 'I love India 4234-2313-3423 4 234-2323413-3423'\n",
    "pattern = '\\d{3}-(\\d{4,8})-\\d{3}'\n",
    "re.findall(pattern,a) # list"
   ]
  },
  {
   "cell_type": "code",
   "execution_count": 86,
   "metadata": {
    "colab": {
     "base_uri": "https://localhost:8080/"
    },
    "id": "U-PQs9lZoqYe",
    "outputId": "6916acd9-85a2-4e0b-be1c-0bbeaee9a58e"
   },
   "outputs": [
    {
     "data": {
      "text/plain": [
       "['India', 'India']"
      ]
     },
     "execution_count": 86,
     "metadata": {},
     "output_type": "execute_result"
    }
   ],
   "source": [
    "a = 'I love India 4234-2313-3423 4 234-2312343-3423 India'\n",
    "pattern = 'India'\n",
    "re.findall(pattern,a) # list"
   ]
  },
  {
   "cell_type": "code",
   "execution_count": 88,
   "metadata": {
    "colab": {
     "base_uri": "https://localhost:8080/"
    },
    "id": "J_dKhwN1pjjb",
    "outputId": "64214d93-d7c4-4b4b-a31c-b3c8132e1a94"
   },
   "outputs": [
    {
     "data": {
      "text/plain": [
       "['I',\n",
       " 'love',\n",
       " 'India',\n",
       " '4234',\n",
       " '2313',\n",
       " '3423',\n",
       " '4',\n",
       " '234',\n",
       " '2312343',\n",
       " '3423',\n",
       " 'India']"
      ]
     },
     "execution_count": 88,
     "metadata": {},
     "output_type": "execute_result"
    }
   ],
   "source": [
    "a = 'I love India 4234-2313-3423 4 234-2312343-3423 India'\n",
    "pattern = '\\w+'\n",
    "re.findall(pattern,a) # list"
   ]
  },
  {
   "cell_type": "code",
   "execution_count": 99,
   "metadata": {
    "colab": {
     "base_uri": "https://localhost:8080/"
    },
    "id": "kCsRVDcMpvvG",
    "outputId": "bf7a0071-d7ff-4555-8ba2-9c553910e313"
   },
   "outputs": [
    {
     "data": {
      "text/plain": [
       "['I love India 4234', '2313', '3423 4 234', '2312343', '3423 India']"
      ]
     },
     "execution_count": 99,
     "metadata": {},
     "output_type": "execute_result"
    }
   ],
   "source": [
    "a = 'I love India 4234-2313-3423 4 234-2312343-3423 India'\n",
    "pattern = '[\\w\\s]+'\n",
    "re.findall(pattern,a)"
   ]
  },
  {
   "cell_type": "code",
   "execution_count": 102,
   "metadata": {
    "colab": {
     "base_uri": "https://localhost:8080/"
    },
    "id": "RBUYuVEIrEQS",
    "outputId": "e7baa1fe-d478-49d6-d824-1cc86365c3cf"
   },
   "outputs": [
    {
     "data": {
      "text/plain": [
       "['I love India 4234-2313-3423 4 234-2312343-3423 India']"
      ]
     },
     "execution_count": 102,
     "metadata": {},
     "output_type": "execute_result"
    }
   ],
   "source": [
    "a = 'I love India 4234-2313-3423 4 234-2312343-3423 India'\n",
    "pattern = '[a-zA-Z0-9\\s-]+'\n",
    "re.findall(pattern,a)"
   ]
  },
  {
   "cell_type": "code",
   "execution_count": 97,
   "metadata": {
    "colab": {
     "base_uri": "https://localhost:8080/"
    },
    "id": "_DxM5PLvqRyM",
    "outputId": "b0719696-e23a-489d-9b33-565d0b68510f"
   },
   "outputs": [
    {
     "data": {
      "text/plain": [
       "['I',\n",
       " 'love',\n",
       " 'India',\n",
       " '4234',\n",
       " '2313',\n",
       " '3423',\n",
       " '4',\n",
       " '234',\n",
       " '2312343',\n",
       " '3423',\n",
       " 'India']"
      ]
     },
     "execution_count": 97,
     "metadata": {},
     "output_type": "execute_result"
    }
   ],
   "source": [
    "a = 'I love India 4234-2313-3423 4 234-2312343-3423 India'\n",
    "pattern = '[a-zA-Z]+'\n",
    "re.findall(pattern,a)"
   ]
  },
  {
   "cell_type": "code",
   "execution_count": 125,
   "metadata": {
    "colab": {
     "base_uri": "https://localhost:8080/"
    },
    "id": "IoWVni79qrmE",
    "outputId": "3b31d015-b89a-4bfe-802d-0931989f9109"
   },
   "outputs": [
    {
     "data": {
      "text/plain": [
       "['I love India 4234-2313-3423 4 .. 234-2312343-3423 India']"
      ]
     },
     "execution_count": 125,
     "metadata": {},
     "output_type": "execute_result"
    }
   ],
   "source": [
    "a = 'I love India 4234-2313-3423 4 .. 234-2312343-3423 India'\n",
    "pattern = '.+'\n",
    "re.findall(pattern,a)"
   ]
  },
  {
   "cell_type": "code",
   "execution_count": 107,
   "metadata": {
    "id": "VSgjEjY9rpAN"
   },
   "outputs": [],
   "source": [
    "a = 'I love India 4234-2313-3423 4 234-2312343-3423 India'\n",
    "# pattern = '.'\n",
    "# re.findall(pattern,a)"
   ]
  },
  {
   "cell_type": "code",
   "execution_count": 112,
   "metadata": {
    "colab": {
     "base_uri": "https://localhost:8080/"
    },
    "id": "agkpSp7Irsc0",
    "outputId": "9527ee8f-2d28-487d-e903-71495a4e1fb1"
   },
   "outputs": [
    {
     "data": {
      "text/plain": [
       "['love', 'India ']"
      ]
     },
     "execution_count": 112,
     "metadata": {},
     "output_type": "execute_result"
    }
   ],
   "source": [
    "a = 'I love India 4234-2313-3423 4 234-2312343-3423 India'\n",
    "pattern = 'love|India '\n",
    "re.findall(pattern,a)"
   ]
  },
  {
   "cell_type": "code",
   "execution_count": 120,
   "metadata": {
    "colab": {
     "base_uri": "https://localhost:8080/"
    },
    "id": "xL_0mY_rr64A",
    "outputId": "a2e36ae4-7243-4029-f56f-8c5f00ceadac"
   },
   "outputs": [
    {
     "name": "stdout",
     "output_type": "stream",
     "text": [
      "conditin is matched\n",
      "<re.Match object; span=(7, 12), match='India'>\n"
     ]
    }
   ],
   "source": [
    "a = 'I love India 4234-2313-3423 4 234-2312343-3423 India'\n",
    "pattern = 'India'\n",
    "v = re.search(pattern,a)\n",
    "if v:\n",
    "  print('conditin is matched')\n",
    "else:\n",
    "  print('conditin is not matched')\n",
    "print(v)"
   ]
  },
  {
   "cell_type": "code",
   "execution_count": 121,
   "metadata": {
    "colab": {
     "base_uri": "https://localhost:8080/"
    },
    "id": "Yk48uhhPswuV",
    "outputId": "5314f432-1af9-402a-f04b-429b2b62a40f"
   },
   "outputs": [
    {
     "name": "stdout",
     "output_type": "stream",
     "text": [
      "conditin is not matched\n",
      "None\n"
     ]
    }
   ],
   "source": [
    "a = 'I love India 4234-2313-3423 4 234-2312343-3423 India'\n",
    "pattern = 'India'\n",
    "v = re.match(pattern,a)\n",
    "if v:\n",
    "  print('conditin is matched')\n",
    "else:\n",
    "  print('conditin is not matched')\n",
    "print(v)"
   ]
  },
  {
   "cell_type": "code",
   "execution_count": 129,
   "metadata": {
    "colab": {
     "base_uri": "https://localhost:8080/"
    },
    "id": "8C342e8YtRwG",
    "outputId": "b271d92e-3f45-40ae-8be1-54c8fbbd9150"
   },
   "outputs": [
    {
     "name": "stdout",
     "output_type": "stream",
     "text": [
      "email id valid\n",
      "<re.Match object; span=(0, 21), match='gu._87vi@off-ical.com'>\n"
     ]
    }
   ],
   "source": [
    "a = \"gu._87vi@off-ical.com\"\n",
    "pattern = '^[\\w_\\.]+@[\\w\\-]+\\.com$'\n",
    "v = re.match(pattern,a)\n",
    "if v:\n",
    "  print('email id valid')\n",
    "else:\n",
    "  print('email id not valid')\n",
    "print(v)"
   ]
  },
  {
   "cell_type": "code",
   "execution_count": 132,
   "metadata": {
    "colab": {
     "base_uri": "https://localhost:8080/"
    },
    "id": "t6VamcrZtWtU",
    "outputId": "693126c4-e4d3-45cf-ff42-6e0250e43c23"
   },
   "outputs": [
    {
     "data": {
      "text/plain": [
       "['India', 'India']"
      ]
     },
     "execution_count": 132,
     "metadata": {},
     "output_type": "execute_result"
    }
   ],
   "source": [
    "a = 'I love India Masdfsdfsdh 4234-2313-3423 4 234-2312343-3423 India'\n",
    "pattern = 'I[a-z]*a'\n",
    "re.findall(pattern,a)"
   ]
  },
  {
   "cell_type": "code",
   "execution_count": 133,
   "metadata": {
    "colab": {
     "base_uri": "https://localhost:8080/"
    },
    "id": "8gJlWGp-uVRL",
    "outputId": "ae1c18a9-2fe2-46e0-abc4-0b5481b102df"
   },
   "outputs": [
    {
     "data": {
      "text/plain": [
       "['Masdfsdfsdh', 'Magesh']"
      ]
     },
     "execution_count": 133,
     "metadata": {},
     "output_type": "execute_result"
    }
   ],
   "source": [
    "a = 'I love India Masdfsdfsdh 4234-2313-3423. Magesh 4 234-2312343-3423 India'\n",
    "pattern = 'M[a-z]*h'\n",
    "re.findall(pattern,a)"
   ]
  },
  {
   "cell_type": "code",
   "execution_count": 139,
   "metadata": {
    "colab": {
     "base_uri": "https://localhost:8080/"
    },
    "id": "ImLVeZa5vAWj",
    "outputId": "31e6e847-cca6-4e9d-8feb-b915fbd9719f"
   },
   "outputs": [
    {
     "data": {
      "text/plain": [
       "['Masdfsdfesh', 'Magesh']"
      ]
     },
     "execution_count": 139,
     "metadata": {},
     "output_type": "execute_result"
    }
   ],
   "source": [
    "a = 'I love India Masdfsdfesh 4234-2313-3423. Magesh 4 234-2312343-3423 India'\n",
    "pattern = r'[a-zA-Z]+esh\\b' # raw string - formtting\n",
    "re.findall(pattern,a)"
   ]
  },
  {
   "cell_type": "code",
   "execution_count": 140,
   "metadata": {
    "colab": {
     "base_uri": "https://localhost:8080/"
    },
    "id": "KLxcaUmHvP0E",
    "outputId": "a99634ff-e4b9-4edb-f388-3a66578c6b03"
   },
   "outputs": [
    {
     "data": {
      "text/plain": [
       "['Masdfsdfesh', 'Magesh']"
      ]
     },
     "execution_count": 140,
     "metadata": {},
     "output_type": "execute_result"
    }
   ],
   "source": [
    "a = 'I love India Masdfsdfesh 4234-2313-3423. Magesh 4 234-2312343-3423 India'\n",
    "pattern = r'\\bMa[a-zA-Z]+' # raw string - formtting\n",
    "re.findall(pattern,a)"
   ]
  },
  {
   "cell_type": "code",
   "execution_count": 147,
   "metadata": {
    "colab": {
     "base_uri": "https://localhost:8080/"
    },
    "id": "LDneipeyv5Ir",
    "outputId": "a1908ba6-eff1-48cb-adc1-5553d2cd48f7"
   },
   "outputs": [
    {
     "data": {
      "text/plain": [
       "['Masdfsdfes', 'Mages']"
      ]
     },
     "execution_count": 147,
     "metadata": {},
     "output_type": "execute_result"
    }
   ],
   "source": [
    "a = 'I love India Masdfsdfesh 4234-2313-3423. Magesh 4 234-2312343-3423 India'\n",
    "pattern = r'Ma[a-zA-Z]+\\B' # raw string - formtting\n",
    "re.findall(pattern,a)"
   ]
  },
  {
   "cell_type": "code",
   "execution_count": 1,
   "metadata": {
    "id": "mftV3c1rwfeN"
   },
   "outputs": [
    {
     "name": "stdout",
     "output_type": "stream",
     "text": [
      "Sunday 21 May 2023 03:12:08 PM IST\r\n"
     ]
    }
   ],
   "source": [
    "!date"
   ]
  },
  {
   "cell_type": "code",
   "execution_count": 2,
   "metadata": {},
   "outputs": [
    {
     "name": "stdout",
     "output_type": "stream",
     "text": [
      "/home/ducati/Documents/python\r\n"
     ]
    }
   ],
   "source": [
    "!pwd"
   ]
  },
  {
   "cell_type": "code",
   "execution_count": null,
   "metadata": {},
   "outputs": [],
   "source": []
  }
 ],
 "metadata": {
  "colab": {
   "provenance": []
  },
  "kernelspec": {
   "display_name": "Python 3 (ipykernel)",
   "language": "python",
   "name": "python3"
  },
  "language_info": {
   "codemirror_mode": {
    "name": "ipython",
    "version": 3
   },
   "file_extension": ".py",
   "mimetype": "text/x-python",
   "name": "python",
   "nbconvert_exporter": "python",
   "pygments_lexer": "ipython3",
   "version": "3.9.13"
  }
 },
 "nbformat": 4,
 "nbformat_minor": 1
}
